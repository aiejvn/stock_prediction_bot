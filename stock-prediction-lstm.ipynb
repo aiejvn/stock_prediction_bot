{
 "cells": [
  {
   "cell_type": "markdown",
   "metadata": {},
   "source": [
    "TIER 1:\\\n",
    "set up the prediction lstm on amazon data, and \\\n",
    "set up data-scraping from key stock website \n",
    "\n",
    "TIER 2:\\\n",
    "try to have it save and load models from a folder\\\n",
    "also only keep 5 models at a time, delete old ones\\\n",
    "test a variety of parameters of the lstm automatically, retain and save only the best ones"
   ]
  },
  {
   "cell_type": "code",
   "execution_count": 176,
   "metadata": {},
   "outputs": [],
   "source": [
    "import numpy as np # linear algebra\n",
    "import pandas as pd # data processing, CSV file I/O (e.g. pd.read_csv)\n",
    "import os\n",
    "import matplotlib.pyplot as plt\n",
    "import seaborn as sns\n",
    "import torch\n",
    "import torch.nn as nn\n",
    "from datetime import datetime\n",
    "from bs4 import BeautifulSoup\n",
    "import requests\n",
    "from sklearn.preprocessing import MinMaxScaler, StandardScaler\n",
    "import time\n",
    "import seaborn as sns"
   ]
  },
  {
   "cell_type": "markdown",
   "metadata": {},
   "source": [
    "<h3>Preprocess all data</h3>\n",
    "Make sure we split before we feature scale train and test (TODO)"
   ]
  },
  {
   "cell_type": "code",
   "execution_count": 177,
   "metadata": {},
   "outputs": [],
   "source": [
    "initial = False # True if we have no data - tweaks may be needed\n",
    "scaler = MinMaxScaler(feature_range=(-1, 1))\n",
    "x_scaler = StandardScaler()\n",
    "y_scaler = StandardScaler()\n",
    "\n",
    "input_dim = 1\n",
    "hidden_dim = 32\n",
    "num_layers = 2\n",
    "output_dim = 1\n",
    "num_epochs = 100 # 100 originally, 150 seems to give good results \n",
    "num_tune_epochs = 3 # recommended to keep # of training epochs between 3 and 10 when fine-tuning models (3-5 for simple ones) \n",
    "\n",
    "# True for Train, False for Load\n",
    "train_or_load_original = True # separate modifier because original model's performance is very unreliable\n",
    "train_or_load_new = True\n",
    "train_or_load = True\n",
    "train_or_load_gru = True"
   ]
  },
  {
   "cell_type": "code",
   "execution_count": 178,
   "metadata": {},
   "outputs": [],
   "source": [
    "def save_data(data, date = None):\n",
    "    if not date:\n",
    "        date = f\"{str(datetime.now()).replace(':','.')}.csv\"\n",
    "    os.makedirs(\"data\", exist_ok=True)\n",
    "    contents = os.listdir(\"data\")\n",
    "    for item in contents:\n",
    "        if date[:10] in item:\n",
    "            os.remove(\"data/\" + item)\n",
    "    if f\"data/{date}\" not in os.listdir(\"data\"):\n",
    "        data.to_csv(\"data/\" + date, index=False)\n",
    "        \n",
    "def read_data(filepath, sort_column = None):\n",
    "    data = pd.read_csv(filepath)\n",
    "    if sort_column:\n",
    "        data = data.sort_values(sort_column)\n",
    "    data.head()\n",
    "    price = data[['Close']] \n",
    "    price['Close'] = price['Close'].values.reshape(-1,1)\n",
    "    # price['Close'] = scaler.fit_transform(price['Close'].values.reshape(-1,1)) # Problematic line\n",
    "    return data, price"
   ]
  },
  {
   "cell_type": "code",
   "execution_count": 179,
   "metadata": {},
   "outputs": [
    {
     "name": "stdout",
     "output_type": "stream",
     "text": [
      "      Close\n",
      "4  0.836165\n",
      "3  0.899547\n",
      "2  0.913822\n",
      "1  0.859281\n",
      "0  0.892623\n",
      "         Date    Open    High     Low   Close    Volume  Name\n",
      "4  04/25/2024  169.68  173.92  166.32  173.67  49250000  AMZN\n",
      "3  04/26/2024  177.79  180.82  176.13  179.62  43920000  AMZN\n",
      "2  04/29/2024  182.65  183.50  179.39  180.96  52080000  AMZN\n",
      "1  04/30/2024  181.01  182.02  175.05  175.84  61800000  AMZN\n",
      "0  05/01/2024  181.68  185.12  176.57  178.97  87860000  AMZN\n"
     ]
    },
    {
     "name": "stderr",
     "output_type": "stream",
     "text": [
      "C:\\Users\\noten\\AppData\\Local\\Temp\\ipykernel_44804\\620714233.py:14: SettingWithCopyWarning: \n",
      "A value is trying to be set on a copy of a slice from a DataFrame.\n",
      "Try using .loc[row_indexer,col_indexer] = value instead\n",
      "\n",
      "See the caveats in the documentation: https://pandas.pydata.org/pandas-docs/stable/user_guide/indexing.html#returning-a-view-versus-a-copy\n",
      "  price['Close'] = scaler.fit_transform(price['Close'].values.reshape(-1,1))\n"
     ]
    }
   ],
   "source": [
    "data = pd.read_csv(\"relevant-stock-data/AMZN Historical Data Fixed.csv\")\n",
    "data = data.iloc[::-1]\n",
    "data = data[['Date', 'Open', 'High', 'Low', 'Price', 'Vol.']]\n",
    "data = data.rename(columns={'Price' : 'Close', 'Vol.' : 'Volume'})\n",
    "data['Name'] = ['AMZN']*len(data['Date'])\n",
    "\n",
    "for i in range(len(data['Volume'])): # iloc for integer based assignment of multiple cells, iat for integer based assignment on a single cell\n",
    "    if 'M' in data['Volume'].iat[i]:\n",
    "        data['Volume'].iat[i] = str(int(float(data['Volume'].iat[i][:-1]) * 1e6))\n",
    "    if 'B' in data['Volume'].iat[i]:\n",
    "        data['Volume'].iat[i] = str(int(float(data['Volume'].iat[i][:-1]) * 1e9))\n",
    "\n",
    "price = data[['Close']]\n",
    "price['Close'] = scaler.fit_transform(price['Close'].values.reshape(-1,1))\n",
    "print(price.iloc[-5:])\n",
    "print(data.iloc[-5:])"
   ]
  },
  {
   "cell_type": "markdown",
   "metadata": {},
   "source": [
    "<h3>TODO: Change sampling of values to random so that the model has a view across the entire data, not just the oldest 80% of values.</h3>\n",
    "Also, try implementing a regression model and have it train, save, fine-tune, and load w/ the other models"
   ]
  },
  {
   "cell_type": "code",
   "execution_count": 180,
   "metadata": {},
   "outputs": [],
   "source": [
    "def split_data(data, stock, lookback):\n",
    "    data_raw = stock.to_numpy() # convert to numpy array\n",
    "    data = []\n",
    "    \n",
    "    # create all possible sequences of length seq_len\n",
    "    for index in range(len(data_raw) - lookback): \n",
    "        data.append(data_raw[index: index + lookback])\n",
    "    \n",
    "    data = np.array(data)\n",
    "    print(data.shape)\n",
    "    test_set_size = int(np.round(0.2*data.shape[0]))\n",
    "    train_set_size = data.shape[0] - (test_set_size)\n",
    "    # scaler.fit(np.squeeze(data[:train_set_size,:,0])) # scaler should scale based off of training mean and std ONLY.\n",
    "    \n",
    "    x_train = data[:train_set_size,:-1,:]\n",
    "    x_train[:,:,0] = x_scaler.fit_transform(x_train[:,:,0])\n",
    "    # print(x_train)\n",
    "    \n",
    "    y_train = y_scaler.fit_transform(data[:train_set_size,-1,:])\n",
    "    # print(y_train)\n",
    "    \n",
    "    # y_train = scaler.transform(data[:train_set_size,-1,:])\n",
    "    \n",
    "    x_test = data[train_set_size:,:-1]\n",
    "    x_test[:,:,0] = x_scaler.transform(x_test[:,:,0])\n",
    "    y_test = y_scaler.transform(data[train_set_size:,-1,:])\n",
    "    \n",
    "    return [x_train, y_train, x_test, y_test]"
   ]
  },
  {
   "cell_type": "code",
   "execution_count": 181,
   "metadata": {},
   "outputs": [],
   "source": [
    "# 0 for the original, 1 for our new lstm and gru, 2 for the expanded lstm \n",
    "# expected to have many models - lists preferred over dictionaries\n",
    "x_trains = []\n",
    "y_trains_lstm = []\n",
    "x_tests = []\n",
    "y_tests_lstm = []"
   ]
  },
  {
   "cell_type": "code",
   "execution_count": 182,
   "metadata": {},
   "outputs": [
    {
     "name": "stdout",
     "output_type": "stream",
     "text": [
      "(4593, 20, 1)\n",
      "x_train.shape =  (3674, 19, 1)\n",
      "y_train.shape =  (3674, 1)\n",
      "x_test.shape =  (919, 19, 1)\n",
      "y_test.shape =  (919, 1)\n"
     ]
    }
   ],
   "source": [
    "lookback = 20 # choose sequence length\n",
    "\n",
    "x_train, y_train, x_test, y_test = split_data(data, price, lookback)\n",
    "print('x_train.shape = ',x_train.shape)\n",
    "print('y_train.shape = ',y_train.shape)\n",
    "print('x_test.shape = ',x_test.shape)\n",
    "print('y_test.shape = ',y_test.shape)"
   ]
  },
  {
   "cell_type": "code",
   "execution_count": 183,
   "metadata": {},
   "outputs": [],
   "source": [
    "# Convert arrays to Pytorch arrays using .from_numpy()\n",
    "# Set type to torch tensors using .type(torch.Tensor)\n",
    "x_train = torch.from_numpy(x_train).type(torch.Tensor)\n",
    "x_test = torch.from_numpy(x_test).type(torch.Tensor)\n",
    "y_train_lstm = torch.from_numpy(y_train).type(torch.Tensor)\n",
    "y_test_lstm = torch.from_numpy(y_test).type(torch.Tensor)\n",
    "\n",
    "x_trains.append(x_train)\n",
    "x_tests.append(x_test)\n",
    "y_trains_lstm.append(y_train_lstm)\n",
    "y_tests_lstm.append(y_test_lstm)"
   ]
  },
  {
   "cell_type": "code",
   "execution_count": 184,
   "metadata": {},
   "outputs": [
    {
     "name": "stdout",
     "output_type": "stream",
     "text": [
      "data/2024-05-14 22.40.45.104494.csv\n"
     ]
    }
   ],
   "source": [
    "# is this necessary? data kinda already fulfills this purpose\n",
    "\n",
    "if not initial:\n",
    "    print(\"data/\" + os.listdir(\"data\")[-1]) # do we save the wrong data?\n",
    "    data = pd.read_csv(\"data/\" + os.listdir(\"data\")[-1])"
   ]
  },
  {
   "cell_type": "markdown",
   "metadata": {},
   "source": [
    "Automatically Updating Data"
   ]
  },
  {
   "cell_type": "code",
   "execution_count": 185,
   "metadata": {},
   "outputs": [
    {
     "name": "stdout",
     "output_type": "stream",
     "text": [
      "23\n",
      "05/14/2024\n",
      "2024-05-14\n"
     ]
    }
   ],
   "source": [
    "cur_time = int(str(datetime.now())[11:13])\n",
    "print(cur_time) # the current hour\n",
    "# While today is not in the data, keep adding rows\n",
    "most_recent_date = data['Date'].iloc[-1]\n",
    "# most_recent_date = most_recent_date[-4:] + \"-\" + most_recent_date[:2] + \"-\" + most_recent_date[3:5] \n",
    "print(most_recent_date) # broken lol\n",
    "print(str(datetime.now())[:10])"
   ]
  },
  {
   "cell_type": "code",
   "execution_count": 186,
   "metadata": {},
   "outputs": [
    {
     "data": {
      "text/plain": [
       "[]"
      ]
     },
     "execution_count": 186,
     "metadata": {},
     "output_type": "execute_result"
    }
   ],
   "source": [
    "def get_updated_data():\n",
    "    count_today = cur_time >= 16 # has the market closed yet? T if yes, F if no.\n",
    "    url = \"https://www.investing.com/equities/amazon-com-inc-historical-data\"\n",
    "    page = requests.get(url)\n",
    "        \n",
    "    soup = BeautifulSoup(page.text, 'html.parser')\n",
    "        \n",
    "    # Need: Open, High, Low, Close, Volume, Name\n",
    "    all_date_class = \"freeze-column-w-1 w-full overflow-x-auto text-xs leading-4\"\n",
    "    table = soup.find('table', {'class': all_date_class})\n",
    "    rows = table.find_all('tr')\n",
    "    \n",
    "    table_data = []\n",
    "    for row in rows:\n",
    "        row_data = []\n",
    "        for cell in row.find_all(['td']):\n",
    "            row_data.append(cell.text)\n",
    "        if row_data and count_today:\n",
    "            \n",
    "            for i in range(len(row_data)):\n",
    "                if 'M' in row_data[i]:\n",
    "                    row_data[i] = str(int(float(row_data[i][:-1]) * 1e6)) # all data values are rounded so we round too\n",
    "            # print(row_data)\n",
    "            if most_recent_date in row_data:\n",
    "                break # we've caught up\n",
    "            table_data.append(row_data)\n",
    "        else:\n",
    "            count_today = True\n",
    "\n",
    "    # print(table_data)\n",
    "    return table_data\n",
    "\n",
    "get_updated_data()"
   ]
  },
  {
   "cell_type": "code",
   "execution_count": 187,
   "metadata": {},
   "outputs": [
    {
     "name": "stdout",
     "output_type": "stream",
     "text": [
      "False\n"
     ]
    }
   ],
   "source": [
    "date_updated = most_recent_date[-4:] + \"-\" + most_recent_date[:2] + \"-\" + most_recent_date[3:5] \n",
    "need_update = not date_updated == str(datetime.now())[:10] and cur_time >= 16\n",
    "print(need_update)\n",
    "\n",
    "if need_update:\n",
    "    # old_data = pd.read_csv('data/' + os.listdir('data')[-1])\n",
    "\n",
    "    # for now, we will only focus on updating day by day\n",
    "    new_data = get_updated_data()[::-1] # newest dates are returned first\n",
    "    start_index = len(data['Date'])\n",
    "        \n",
    "    for i in range(len(new_data)): # adds data backwards, please fix\n",
    "        new_values = new_data[i] # comes as date, price (close), open, high, low, vol, change\n",
    "    \n",
    "        # new_values = get_updated_data()[0] \n",
    "        print(pd.DataFrame(new_values).head())\n",
    "        \n",
    "        # read, write, then save the new values inside our most recent table\n",
    "        data.loc[start_index + i] = [new_values[0], new_values[2], new_values[3], new_values[4], new_values[1], new_values[5], \"AMZN\"] # may be deprecated in future, we'll see\n",
    "    \n",
    "    # print(old_data.head())\n",
    "    # print(len(old_data['Date']))\n",
    "    # print(old_data['Date'].iloc[-1])\n",
    "    \n",
    "    # result.to_csv(\"data/\" + str(datetime.now()).replace(\":\",\".\") + \".csv\", index=False)\n",
    "    save_data(data)"
   ]
  },
  {
   "cell_type": "code",
   "execution_count": 188,
   "metadata": {},
   "outputs": [
    {
     "name": "stdout",
     "output_type": "stream",
     "text": [
      "data/2024-05-14 22.40.45.104494.csv\n",
      "            Date    Open    High     Low   Close    Volume  Name\n",
      "4617  05/08/2024  187.44  188.42  186.40  188.00  25800000  AMZN\n",
      "4618  05/09/2024  188.88  191.68  187.52  189.50  42340000  AMZN\n",
      "4619  05/10/2024  188.98  189.87  186.93  187.48  28560000  AMZN\n",
      "4620  05/13/2024  188.00  188.18  185.36  186.57  21690000  AMZN\n",
      "4621  05/14/2024  183.82  187.71  183.50  187.07  38630000  AMZN\n",
      "       Close\n",
      "4617  188.00\n",
      "4618  189.50\n",
      "4619  187.48\n",
      "4620  186.57\n",
      "4621  187.07\n"
     ]
    },
    {
     "name": "stderr",
     "output_type": "stream",
     "text": [
      "C:\\Users\\noten\\AppData\\Local\\Temp\\ipykernel_44804\\2495495438.py:18: SettingWithCopyWarning: \n",
      "A value is trying to be set on a copy of a slice from a DataFrame.\n",
      "Try using .loc[row_indexer,col_indexer] = value instead\n",
      "\n",
      "See the caveats in the documentation: https://pandas.pydata.org/pandas-docs/stable/user_guide/indexing.html#returning-a-view-versus-a-copy\n",
      "  price['Close'] = price['Close'].values.reshape(-1,1)\n"
     ]
    }
   ],
   "source": [
    "updated_data, updated_price = read_data('data/' + os.listdir(\"data\")[-1])\n",
    "print('data/' + os.listdir(\"data\")[-1])\n",
    "print(updated_data.iloc[-5:])\n",
    "print(updated_price.iloc[-5:])"
   ]
  },
  {
   "cell_type": "code",
   "execution_count": 189,
   "metadata": {},
   "outputs": [
    {
     "name": "stdout",
     "output_type": "stream",
     "text": [
      "2024-05-14\n"
     ]
    }
   ],
   "source": [
    "if('2024-04-26' not in str(datetime.now())): # initial date\n",
    "    if need_update:\n",
    "        save_data(data)  \n",
    "else:\n",
    "    save_data('2024-04-26 00.00.000000')\n",
    "print(str(datetime.now())[:10])"
   ]
  },
  {
   "cell_type": "code",
   "execution_count": 190,
   "metadata": {},
   "outputs": [
    {
     "name": "stdout",
     "output_type": "stream",
     "text": [
      "(4602, 20, 1)\n",
      "x_train.shape =  (3682, 19, 1)\n",
      "y_train.shape =  (3682, 1)\n",
      "x_test.shape =  (920, 19, 1)\n",
      "y_test.shape =  (920, 1)\n"
     ]
    }
   ],
   "source": [
    "lookback = 20 # choose sequence length\n",
    "x_train, y_train, x_test, y_test = split_data(updated_data, updated_price, lookback)\n",
    "print('x_train.shape = ',x_train.shape)\n",
    "print('y_train.shape = ',y_train.shape)\n",
    "print('x_test.shape = ',x_test.shape)\n",
    "print('y_test.shape = ',y_test.shape)\n",
    "\n",
    "# print(x_train[0])\n",
    "# print(y_train[0])\n",
    "# print(x_test[0])\n",
    "# print(y_test[0])"
   ]
  },
  {
   "cell_type": "code",
   "execution_count": 191,
   "metadata": {},
   "outputs": [],
   "source": [
    "x_train = torch.from_numpy(x_train).type(torch.Tensor)\n",
    "x_test = torch.from_numpy(x_test).type(torch.Tensor)\n",
    "y_train_lstm = torch.from_numpy(y_train).type(torch.Tensor)\n",
    "y_test_lstm = torch.from_numpy(y_test).type(torch.Tensor)\n",
    "\n",
    "x_trains.append(x_train)\n",
    "x_tests.append(x_test)\n",
    "y_trains_lstm.append(y_train_lstm)\n",
    "y_tests_lstm.append(y_test_lstm)"
   ]
  },
  {
   "cell_type": "code",
   "execution_count": 192,
   "metadata": {},
   "outputs": [],
   "source": [
    "volume_scaler = MinMaxScaler(feature_range=(-1, 1)) # The volumes are in the millions and would mess up our scaler\n",
    "column_scaler = StandardScaler()"
   ]
  },
  {
   "cell_type": "code",
   "execution_count": 193,
   "metadata": {},
   "outputs": [
    {
     "name": "stdout",
     "output_type": "stream",
     "text": [
      "            Date    Open    High     Low   Close    Volume  Name\n",
      "4617  05/08/2024  187.44  188.42  186.40  188.00  25800000  AMZN\n",
      "4618  05/09/2024  188.88  191.68  187.52  189.50  42340000  AMZN\n",
      "4619  05/10/2024  188.98  189.87  186.93  187.48  28560000  AMZN\n",
      "4620  05/13/2024  188.00  188.18  185.36  186.57  21690000  AMZN\n",
      "4621  05/14/2024  183.82  187.71  183.50  187.07  38630000  AMZN\n",
      "(4602, 20, 5)\n",
      "(4602, 20, 1)\n",
      "x_train.shape =  (3682, 19, 5)\n",
      "y_train.shape =  (3682, 1)\n",
      "x_test.shape =  (920, 19, 5)\n",
      "y_test.shape =  (920, 1)\n"
     ]
    },
    {
     "name": "stderr",
     "output_type": "stream",
     "text": [
      "C:\\Users\\noten\\AppData\\Local\\Temp\\ipykernel_44804\\2495495438.py:18: SettingWithCopyWarning: \n",
      "A value is trying to be set on a copy of a slice from a DataFrame.\n",
      "Try using .loc[row_indexer,col_indexer] = value instead\n",
      "\n",
      "See the caveats in the documentation: https://pandas.pydata.org/pandas-docs/stable/user_guide/indexing.html#returning-a-view-versus-a-copy\n",
      "  price['Close'] = price['Close'].values.reshape(-1,1)\n"
     ]
    }
   ],
   "source": [
    "# Expanded data\n",
    "# Scale and transform the other columns ONLY HERE so that we don't save the scaled values\n",
    "# For some reason, y only registers 2 dimensions, unlike the original that registers 3.\n",
    "# Should look into this sometime.\n",
    "def split_data_expanded(data, stock, lookback):\n",
    "    data_raw = data[['Open', 'High', 'Low', 'Close', 'Volume']]\n",
    "    stock_raw = stock.to_numpy() # convert to numpy array\n",
    "    x = []\n",
    "    y = []\n",
    "    \n",
    "    # n = len(data_raw.iloc[0,:])\n",
    "    # for i in range(n - 1):\n",
    "    #     data_raw.iloc[:,i] = scaler.fit_transform(data_raw.iloc[:,i].values.reshape(-1,1))\n",
    "    # data_raw.iloc[:,n-1] = volume_scaler.fit_transform(data_raw.iloc[:, n-1].values.reshape(-1,1))\n",
    "    \n",
    "    \n",
    "    data_raw = data_raw.to_numpy()\n",
    "    \n",
    "    # create all possible sequences of length seq_len\n",
    "    for index in range(len(stock_raw) - lookback): \n",
    "        x.append(data_raw[index: index + lookback])\n",
    "        y.append(stock_raw[index: index + lookback])\n",
    "    \n",
    "    x = np.array(x)\n",
    "    y = np.array(y)\n",
    "    \n",
    "    print(x.shape)\n",
    "    print(y.shape)\n",
    "    \n",
    "    test_set_size = int(np.round(0.2*y.shape[0])) # 80-20 train-test split\n",
    "    train_set_size = y.shape[0] - (test_set_size)\n",
    "    \n",
    "    # scale all values in data_raw\n",
    "    # when reading in values, we only min-max the values of stock\n",
    "    \n",
    "    for i in range(x.shape[2]): # each category\n",
    "        # scaler.fit(x[:train_set_size,:,i])\n",
    "        x[:,:,i] = column_scaler.fit_transform(x[:,:,i])\n",
    "        \n",
    "    # x_train = y[:train_set_size,:-1,:]\n",
    "    x_train = x[:train_set_size,:-1,:]\n",
    "    y_train = y_scaler.fit_transform(y[:train_set_size,-1,:])\n",
    "    \n",
    "    # x_test = y[train_set_size:,:-1]\n",
    "    x_test = x[train_set_size:,:-1,:]\n",
    "    y_test = y_scaler.transform(y[train_set_size:,-1,:])\n",
    "    \n",
    "    return [x_train, y_train, x_test, y_test]\n",
    "\n",
    "# Test code\n",
    "test = True\n",
    "if test:\n",
    "    test_data, test_stock = read_data(\"data/\" + os.listdir(\"data\")[-1])\n",
    "    print(test_data.iloc[-5:])\n",
    "    x_train, y_train, x_test, y_test = split_data_expanded(test_data, test_stock, 20)\n",
    "    print('x_train.shape = ',x_train.shape)\n",
    "    print('y_train.shape = ',y_train.shape)\n",
    "    print('x_test.shape = ',x_test.shape)\n",
    "    print('y_test.shape = ',y_test.shape)"
   ]
  },
  {
   "cell_type": "code",
   "execution_count": 194,
   "metadata": {},
   "outputs": [
    {
     "name": "stdout",
     "output_type": "stream",
     "text": [
      "(4602, 20, 5)\n",
      "(4602, 20, 1)\n",
      "x_train.shape =  (3682, 19, 5)\n",
      "y_train.shape =  (3682, 1)\n",
      "x_test.shape =  (920, 19, 5)\n",
      "y_test.shape =  (920, 1)\n"
     ]
    }
   ],
   "source": [
    "# train, test key is 2\n",
    "x_train, y_train, x_test, y_test = split_data_expanded(updated_data, updated_price, lookback)\n",
    "print('x_train.shape = ',x_train.shape)\n",
    "print('y_train.shape = ',y_train.shape)\n",
    "print('x_test.shape = ',x_test.shape)\n",
    "print('y_test.shape = ',y_test.shape)"
   ]
  },
  {
   "cell_type": "code",
   "execution_count": 195,
   "metadata": {},
   "outputs": [],
   "source": [
    "x_train = torch.from_numpy(x_train).type(torch.Tensor)\n",
    "x_test = torch.from_numpy(x_test).type(torch.Tensor)\n",
    "y_train_lstm = torch.from_numpy(y_train).type(torch.Tensor)\n",
    "y_test_lstm = torch.from_numpy(y_test).type(torch.Tensor)\n",
    "\n",
    "x_trains.append(x_train)\n",
    "x_tests.append(x_test)\n",
    "y_trains_lstm.append(y_train_lstm)\n",
    "y_tests_lstm.append(y_test_lstm)"
   ]
  },
  {
   "cell_type": "markdown",
   "metadata": {},
   "source": [
    "<h3>Train models - one on the provided data, rest on the collected data</h3>"
   ]
  },
  {
   "cell_type": "markdown",
   "metadata": {},
   "source": [
    "<h3>Also, fine-tune the models' hyperparameters </h3>"
   ]
  },
  {
   "cell_type": "code",
   "execution_count": 196,
   "metadata": {},
   "outputs": [],
   "source": [
    "model_dir = \"models\"\n",
    "device = 'cuda' if torch.cuda.is_available() else 'cpu'\n",
    "criterion = torch.nn.MSELoss(reduction='mean')"
   ]
  },
  {
   "cell_type": "code",
   "execution_count": 197,
   "metadata": {},
   "outputs": [],
   "source": [
    "class LSTM(nn.Module):\n",
    "    def __init__(self, input_dim, hidden_dim, num_layers, output_dim):\n",
    "        super(LSTM, self).__init__()\n",
    "        self.hidden_dim = hidden_dim\n",
    "        self.num_layers = num_layers\n",
    "        \n",
    "        self.lstm = nn.LSTM(input_dim, hidden_dim, num_layers, batch_first=True)\n",
    "        self.fc = nn.Linear(hidden_dim, output_dim)\n",
    "\n",
    "    def forward(self, x):\n",
    "        h0 = torch.zeros(self.num_layers, x.size(0), self.hidden_dim).requires_grad_()\n",
    "        c0 = torch.zeros(self.num_layers, x.size(0), self.hidden_dim).requires_grad_()\n",
    "        out, (hn, cn) = self.lstm(x, (h0.detach(), c0.detach()))\n",
    "        out = self.fc(out[:, -1, :]) \n",
    "        return out"
   ]
  },
  {
   "cell_type": "code",
   "execution_count": 198,
   "metadata": {},
   "outputs": [],
   "source": [
    "class GRU(nn.Module):\n",
    "    def __init__(self, input_dim, hidden_dim, num_layers, output_dim):\n",
    "        super(GRU, self).__init__()\n",
    "        self.hidden_dim = hidden_dim\n",
    "        self.num_layers = num_layers\n",
    "        \n",
    "        self.gru = nn.GRU(input_dim, hidden_dim, num_layers, batch_first=True)\n",
    "        self.fc = nn.Linear(hidden_dim, output_dim)\n",
    "\n",
    "    def forward(self, x):\n",
    "        h0 = torch.zeros(self.num_layers, x.size(0), self.hidden_dim).requires_grad_()\n",
    "        out, (hn) = self.gru(x, (h0.detach()))\n",
    "        out = self.fc(out[:, -1, :]) \n",
    "        return out"
   ]
  },
  {
   "cell_type": "code",
   "execution_count": 199,
   "metadata": {},
   "outputs": [],
   "source": [
    "original_model = LSTM(input_dim=input_dim, hidden_dim=hidden_dim, output_dim=output_dim, num_layers=num_layers)\n",
    "original_optimiser = torch.optim.Adam(original_model.parameters(), lr=0.01)\n",
    "\n",
    "if not train_or_load_original:\n",
    "    # load original model\n",
    "    loaded_state = torch.load(model_dir + \"/original3.pt\", map_location=device)\n",
    "    original_model.load_state_dict(loaded_state['model'])\n",
    "    original_optimiser.load_state_dict(loaded_state['opt'])"
   ]
  },
  {
   "cell_type": "code",
   "execution_count": 200,
   "metadata": {},
   "outputs": [],
   "source": [
    "def train_model(model, optimiser, data_key, num_epochs=100):\n",
    "    # print(y_scaler.inverse_transform(y_trains_lstm[data_key][-1].detach().numpy().reshape(-1, 1)))\n",
    "    hist = np.zeros(num_epochs)\n",
    "    start_time = time.time()\n",
    "    lstm = []\n",
    "\n",
    "    for t in range(num_epochs):\n",
    "        y_train_pred = model(x_trains[data_key])\n",
    "\n",
    "        loss = criterion(y_train_pred, y_trains_lstm[data_key])\n",
    "        print(\"Epoch \", t, \"MSE: \", loss.item())\n",
    "        hist[t] = loss.item()\n",
    "\n",
    "        optimiser.zero_grad()\n",
    "        loss.backward()\n",
    "        optimiser.step()\n",
    "        \n",
    "    training_time = time.time()-start_time\n",
    "    print(\"Training time: {}\".format(training_time))\n",
    "    return y_train_pred, hist"
   ]
  },
  {
   "cell_type": "code",
   "execution_count": 201,
   "metadata": {},
   "outputs": [],
   "source": [
    "if need_update and train_or_load_original:\n",
    "    y_train_pred, hist = train_model(original_model, original_optimiser, 0, num_epochs=num_epochs)"
   ]
  },
  {
   "cell_type": "code",
   "execution_count": 202,
   "metadata": {},
   "outputs": [],
   "source": [
    "def graph_results(y_train_pred, hist, data_key):\n",
    "    predict = pd.DataFrame(y_scaler.inverse_transform(y_train_pred.detach().numpy())) # un-normalize data\n",
    "    original = pd.DataFrame(y_scaler.inverse_transform(y_trains_lstm[data_key].detach().numpy())) # un-normalzie data\n",
    "    \n",
    "    sns.set_style(\"darkgrid\")    \n",
    "\n",
    "    fig = plt.figure()\n",
    "    fig.subplots_adjust(hspace=0.2, wspace=0.2)\n",
    "\n",
    "    plt.subplot(1, 2, 1)\n",
    "    ax = sns.lineplot(x = original.index, y = original[0], label=\"Data\", color='royalblue')\n",
    "    ax = sns.lineplot(x = predict.index, y = predict[0], label=\"Training Prediction (LSTM)\", color='tomato')\n",
    "    ax.set_title('Stock price', size = 14, fontweight='bold')\n",
    "    ax.set_xlabel(\"Days\", size = 14)\n",
    "    ax.set_ylabel(\"Cost (USD)\", size = 14)\n",
    "    ax.set_xticklabels('', size=10)\n",
    "\n",
    "\n",
    "    plt.subplot(1, 2, 2)\n",
    "    ax = sns.lineplot(data=hist, color='royalblue')\n",
    "    ax.set_xlabel(\"Epoch\", size = 14)\n",
    "    ax.set_ylabel(\"Loss\", size = 14)\n",
    "    ax.set_title(\"Training Loss\", size = 14, fontweight='bold')\n",
    "    fig.set_figheight(6)\n",
    "    fig.set_figwidth(16)"
   ]
  },
  {
   "cell_type": "code",
   "execution_count": 203,
   "metadata": {},
   "outputs": [],
   "source": [
    "if need_update and train_or_load_original:\n",
    "    graph_results(y_train_pred, hist, 0)"
   ]
  },
  {
   "cell_type": "code",
   "execution_count": 204,
   "metadata": {},
   "outputs": [],
   "source": [
    "new_model = LSTM(input_dim=input_dim, hidden_dim=hidden_dim, output_dim=output_dim, num_layers=num_layers)\n",
    "new_optimiser = torch.optim.Adam(new_model.parameters(), lr=0.01)\n",
    "\n",
    "if not train_or_load_new:\n",
    "    # load a previous model\n",
    "    possible_models = []\n",
    "    for i in os.listdir(model_dir):\n",
    "        if 'stock-only-lstm' in i:\n",
    "            possible_models.append(i)\n",
    "            print(i)\n",
    "    \n",
    "    loaded_state = torch.load(model_dir + \"/\" + possible_models[-1], map_location=device)\n",
    "    new_model.load_state_dict(loaded_state['model'])\n",
    "    new_optimiser.load_state_dict(loaded_state['opt'])"
   ]
  },
  {
   "cell_type": "code",
   "execution_count": 205,
   "metadata": {},
   "outputs": [
    {
     "name": "stdout",
     "output_type": "stream",
     "text": [
      "Epoch  0 MSE:  1.0028295516967773\n",
      "Epoch  1 MSE:  0.9156944155693054\n",
      "Epoch  2 MSE:  0.7963904142379761\n",
      "Epoch  3 MSE:  0.5793617367744446\n",
      "Epoch  4 MSE:  0.28256621956825256\n",
      "Epoch  5 MSE:  0.186161607503891\n",
      "Epoch  6 MSE:  0.25751298666000366\n",
      "Epoch  7 MSE:  0.28117474913597107\n",
      "Epoch  8 MSE:  0.19630219042301178\n",
      "Epoch  9 MSE:  0.1146460697054863\n",
      "Epoch  10 MSE:  0.08952237665653229\n",
      "Epoch  11 MSE:  0.10016119480133057\n",
      "Epoch  12 MSE:  0.11447172611951828\n",
      "Epoch  13 MSE:  0.11765741556882858\n",
      "Epoch  14 MSE:  0.10629437863826752\n",
      "Epoch  15 MSE:  0.08676978200674057\n",
      "Epoch  16 MSE:  0.07186884433031082\n",
      "Epoch  17 MSE:  0.06921989470720291\n",
      "Epoch  18 MSE:  0.07013580948114395\n",
      "Epoch  19 MSE:  0.06085605546832085\n",
      "Epoch  20 MSE:  0.04215723276138306\n",
      "Epoch  21 MSE:  0.02790049836039543\n",
      "Epoch  22 MSE:  0.02456239052116871\n",
      "Epoch  23 MSE:  0.025809524580836296\n",
      "Epoch  24 MSE:  0.024564774706959724\n",
      "Epoch  25 MSE:  0.020234424620866776\n",
      "Epoch  26 MSE:  0.01744338870048523\n",
      "Epoch  27 MSE:  0.018235724419355392\n",
      "Epoch  28 MSE:  0.019397618249058723\n",
      "Epoch  29 MSE:  0.017441991716623306\n",
      "Epoch  30 MSE:  0.011565026827156544\n",
      "Epoch  31 MSE:  0.007023566868156195\n",
      "Epoch  32 MSE:  0.006106858607381582\n",
      "Epoch  33 MSE:  0.005960072390735149\n",
      "Epoch  34 MSE:  0.004328584764152765\n",
      "Epoch  35 MSE:  0.0023676990531384945\n",
      "Epoch  36 MSE:  0.003252736059948802\n",
      "Epoch  37 MSE:  0.005619031842797995\n",
      "Epoch  38 MSE:  0.005549029912799597\n",
      "Epoch  39 MSE:  0.004386007785797119\n",
      "Epoch  40 MSE:  0.004553548991680145\n",
      "Epoch  41 MSE:  0.005032339598983526\n",
      "Epoch  42 MSE:  0.0041897776536643505\n",
      "Epoch  43 MSE:  0.0025164445396512747\n",
      "Epoch  44 MSE:  0.0019628838635981083\n",
      "Epoch  45 MSE:  0.0023534756619483232\n",
      "Epoch  46 MSE:  0.0022586481645703316\n",
      "Epoch  47 MSE:  0.0018696902552619576\n",
      "Epoch  48 MSE:  0.0019405980128794909\n",
      "Epoch  49 MSE:  0.0025638805236667395\n",
      "Epoch  50 MSE:  0.002731475280597806\n",
      "Epoch  51 MSE:  0.0023856579791754484\n",
      "Epoch  52 MSE:  0.001987108727917075\n",
      "Epoch  53 MSE:  0.0019244373543187976\n",
      "Epoch  54 MSE:  0.001867820741608739\n",
      "Epoch  55 MSE:  0.0015529203228652477\n",
      "Epoch  56 MSE:  0.0013273808872327209\n",
      "Epoch  57 MSE:  0.001404912443831563\n",
      "Epoch  58 MSE:  0.00162113003898412\n",
      "Epoch  59 MSE:  0.0016245422884821892\n",
      "Epoch  60 MSE:  0.0015466139884665608\n",
      "Epoch  61 MSE:  0.0015787560259923339\n",
      "Epoch  62 MSE:  0.0016456360463052988\n",
      "Epoch  63 MSE:  0.0015672995941713452\n",
      "Epoch  64 MSE:  0.001382952556014061\n",
      "Epoch  65 MSE:  0.001318944152444601\n",
      "Epoch  66 MSE:  0.001331093953922391\n",
      "Epoch  67 MSE:  0.0013132229214534163\n",
      "Epoch  68 MSE:  0.0012570768594741821\n",
      "Epoch  69 MSE:  0.0012755801435559988\n",
      "Epoch  70 MSE:  0.0013489306438714266\n",
      "Epoch  71 MSE:  0.0013679921394214034\n",
      "Epoch  72 MSE:  0.0013268067268654704\n",
      "Epoch  73 MSE:  0.0013007018715143204\n",
      "Epoch  74 MSE:  0.001305631478317082\n",
      "Epoch  75 MSE:  0.0012782732956111431\n",
      "Epoch  76 MSE:  0.0012303147232159972\n",
      "Epoch  77 MSE:  0.0012128145899623632\n",
      "Epoch  78 MSE:  0.0012362416600808501\n",
      "Epoch  79 MSE:  0.0012429696507751942\n",
      "Epoch  80 MSE:  0.001234847353771329\n",
      "Epoch  81 MSE:  0.0012380547123029828\n",
      "Epoch  82 MSE:  0.0012537507573142648\n",
      "Epoch  83 MSE:  0.0012441584840416908\n",
      "Epoch  84 MSE:  0.001221996732056141\n",
      "Epoch  85 MSE:  0.0012108760420233011\n",
      "Epoch  86 MSE:  0.0012122539337724447\n",
      "Epoch  87 MSE:  0.0012031140504404902\n",
      "Epoch  88 MSE:  0.001195279648527503\n",
      "Epoch  89 MSE:  0.0011996616376563907\n",
      "Epoch  90 MSE:  0.001208636094816029\n",
      "Epoch  91 MSE:  0.0012055389815941453\n",
      "Epoch  92 MSE:  0.0012007218319922686\n",
      "Epoch  93 MSE:  0.0012001284630969167\n",
      "Epoch  94 MSE:  0.0011983171571046114\n",
      "Epoch  95 MSE:  0.001189250499010086\n",
      "Epoch  96 MSE:  0.0011840654769912362\n",
      "Epoch  97 MSE:  0.0011846072738990188\n",
      "Epoch  98 MSE:  0.0011847119312733412\n",
      "Epoch  99 MSE:  0.0011817887425422668\n",
      "Training time: 13.583176374435425\n"
     ]
    }
   ],
   "source": [
    "if not train_or_load_new:\n",
    "    if need_update:\n",
    "        y_pred, hist = train_model(new_model, new_optimiser, 1, num_epochs=num_tune_epochs)\n",
    "else:\n",
    "    y_pred, hist = train_model(new_model, new_optimiser, 1, num_epochs=num_epochs)"
   ]
  },
  {
   "cell_type": "code",
   "execution_count": 206,
   "metadata": {},
   "outputs": [
    {
     "data": {
      "image/png": "[encoded data removed]",
      "text/plain": [
       "<Figure size 1600x600 with 2 Axes>"
      ]
     },
     "metadata": {},
     "output_type": "display_data"
    }
   ],
   "source": [
    "if need_update or train_or_load_new:\n",
    "    graph_results(y_pred, hist, 1)"
   ]
  },
  {
   "cell_type": "code",
   "execution_count": 207,
   "metadata": {},
   "outputs": [
    {
     "name": "stdout",
     "output_type": "stream",
     "text": [
      "Epoch  0 MSE:  0.9717729091644287\n",
      "Epoch  1 MSE:  0.8476066589355469\n",
      "Epoch  2 MSE:  0.6441077589988708\n",
      "Epoch  3 MSE:  0.330454021692276\n",
      "Epoch  4 MSE:  0.16362081468105316\n",
      "Epoch  5 MSE:  0.12661708891391754\n",
      "Epoch  6 MSE:  0.20395034551620483\n",
      "Epoch  7 MSE:  0.18290118873119354\n",
      "Epoch  8 MSE:  0.12081291526556015\n",
      "Epoch  9 MSE:  0.08566728234291077\n",
      "Epoch  10 MSE:  0.08088941127061844\n",
      "Epoch  11 MSE:  0.09017644822597504\n",
      "Epoch  12 MSE:  0.10039583593606949\n",
      "Epoch  13 MSE:  0.10442909598350525\n",
      "Epoch  14 MSE:  0.10009822249412537\n",
      "Epoch  15 MSE:  0.08907242864370346\n",
      "Epoch  16 MSE:  0.07530784606933594\n",
      "Epoch  17 MSE:  0.06312296539545059\n",
      "Epoch  18 MSE:  0.05521181598305702\n",
      "Epoch  19 MSE:  0.05091848224401474\n",
      "Epoch  20 MSE:  0.04654538258910179\n",
      "Epoch  21 MSE:  0.039201512932777405\n",
      "Epoch  22 MSE:  0.030424632132053375\n",
      "Epoch  23 MSE:  0.024718327447772026\n",
      "Epoch  24 MSE:  0.024379350244998932\n",
      "Epoch  25 MSE:  0.025781046599149704\n",
      "Epoch  26 MSE:  0.02359769307076931\n",
      "Epoch  27 MSE:  0.01813449151813984\n",
      "Epoch  28 MSE:  0.013675384223461151\n",
      "Epoch  29 MSE:  0.012463778257369995\n",
      "Epoch  30 MSE:  0.012066606432199478\n",
      "Epoch  31 MSE:  0.009407290257513523\n",
      "Epoch  32 MSE:  0.006012233439832926\n",
      "Epoch  33 MSE:  0.005463085137307644\n",
      "Epoch  34 MSE:  0.007096769753843546\n",
      "Epoch  35 MSE:  0.007285346742719412\n",
      "Epoch  36 MSE:  0.005798673257231712\n",
      "Epoch  37 MSE:  0.0053769005462527275\n",
      "Epoch  38 MSE:  0.0062834033742547035\n",
      "Epoch  39 MSE:  0.006013639271259308\n",
      "Epoch  40 MSE:  0.004413214977830648\n",
      "Epoch  41 MSE:  0.0039062360301613808\n",
      "Epoch  42 MSE:  0.004591685254126787\n",
      "Epoch  43 MSE:  0.004109497182071209\n",
      "Epoch  44 MSE:  0.003102096961811185\n",
      "Epoch  45 MSE:  0.0031826759222894907\n",
      "Epoch  46 MSE:  0.0035489280708134174\n",
      "Epoch  47 MSE:  0.003109867451712489\n",
      "Epoch  48 MSE:  0.002633134601637721\n",
      "Epoch  49 MSE:  0.0027576135471463203\n",
      "Epoch  50 MSE:  0.002818167209625244\n",
      "Epoch  51 MSE:  0.0024277351330965757\n",
      "Epoch  52 MSE:  0.001968874130398035\n",
      "Epoch  53 MSE:  0.00197766930796206\n",
      "Epoch  54 MSE:  0.0021005261223763227\n",
      "Epoch  55 MSE:  0.001906374585814774\n",
      "Epoch  56 MSE:  0.0017287106020376086\n",
      "Epoch  57 MSE:  0.0017919900128617883\n",
      "Epoch  58 MSE:  0.0018991854740306735\n",
      "Epoch  59 MSE:  0.001746222609654069\n",
      "Epoch  60 MSE:  0.001576905371621251\n",
      "Epoch  61 MSE:  0.0015775017673149705\n",
      "Epoch  62 MSE:  0.0016098043415695429\n",
      "Epoch  63 MSE:  0.001510313362814486\n",
      "Epoch  64 MSE:  0.0014212646055966616\n",
      "Epoch  65 MSE:  0.0014548456529155374\n",
      "Epoch  66 MSE:  0.0014804918318986893\n",
      "Epoch  67 MSE:  0.0013949136482551694\n",
      "Epoch  68 MSE:  0.001327079487964511\n",
      "Epoch  69 MSE:  0.0013328265631571412\n",
      "Epoch  70 MSE:  0.0013479202752932906\n",
      "Epoch  71 MSE:  0.0012966067297384143\n",
      "Epoch  72 MSE:  0.0012768463930115104\n",
      "Epoch  73 MSE:  0.0013027709210291505\n",
      "Epoch  74 MSE:  0.001300712930969894\n",
      "Epoch  75 MSE:  0.0012607094831764698\n",
      "Epoch  76 MSE:  0.0012363418936729431\n",
      "Epoch  77 MSE:  0.001251345151104033\n",
      "Epoch  78 MSE:  0.0012444033054634929\n",
      "Epoch  79 MSE:  0.0012187592219561338\n",
      "Epoch  80 MSE:  0.0012189710978418589\n",
      "Epoch  81 MSE:  0.0012256914051249623\n",
      "Epoch  82 MSE:  0.0012136449804529548\n",
      "Epoch  83 MSE:  0.0011943405261263251\n",
      "Epoch  84 MSE:  0.0011943250428885221\n",
      "Epoch  85 MSE:  0.0011989366030320525\n",
      "Epoch  86 MSE:  0.001185749308206141\n",
      "Epoch  87 MSE:  0.001176551915705204\n",
      "Epoch  88 MSE:  0.0011774701997637749\n",
      "Epoch  89 MSE:  0.001171317184343934\n",
      "Epoch  90 MSE:  0.0011586594628170133\n",
      "Epoch  91 MSE:  0.0011528152972459793\n",
      "Epoch  92 MSE:  0.0011542488355189562\n",
      "Epoch  93 MSE:  0.0011501243570819497\n",
      "Epoch  94 MSE:  0.0011427444405853748\n",
      "Epoch  95 MSE:  0.0011418326757848263\n",
      "Epoch  96 MSE:  0.001139843137934804\n",
      "Epoch  97 MSE:  0.0011320722987875342\n",
      "Epoch  98 MSE:  0.0011279347818344831\n",
      "Epoch  99 MSE:  0.0011280702892690897\n",
      "Training time: 14.590226650238037\n"
     ]
    }
   ],
   "source": [
    "# Train a model using all traits - not just stock price\n",
    "# 5 important traits - open, high, low, close, volume\n",
    "# data key is 2\n",
    "expanded_model = LSTM(input_dim=5, hidden_dim=hidden_dim, output_dim=output_dim, num_layers=num_layers)\n",
    "expanded_optimiser = torch.optim.Adam(expanded_model.parameters(), lr=0.01)\n",
    "\n",
    "if not train_or_load:\n",
    "    # load a previous model\n",
    "    possible_models = []\n",
    "    for i in os.listdir(model_dir):\n",
    "        if 'expanded-lstm' in i:\n",
    "            possible_models.append(i)\n",
    "            print(i)\n",
    "    \n",
    "    loaded_state = torch.load(model_dir + \"/\" + possible_models[-1], map_location=device)\n",
    "    expanded_model.load_state_dict(loaded_state['model'])\n",
    "    expanded_optimiser.load_state_dict(loaded_state['opt'])\n",
    "\n",
    "if not train_or_load:\n",
    "    if need_update: \n",
    "        y_pred, hist = train_model(expanded_model, expanded_optimiser, 2, num_epochs=num_tune_epochs)\n",
    "else:\n",
    "    y_pred, hist = train_model(expanded_model, expanded_optimiser, 2, num_epochs=num_epochs)\n",
    "    "
   ]
  },
  {
   "cell_type": "code",
   "execution_count": 208,
   "metadata": {},
   "outputs": [
    {
     "data": {
      "image/png": "[encoded data removed]",
      "text/plain": [
       "<Figure size 1600x600 with 2 Axes>"
      ]
     },
     "metadata": {},
     "output_type": "display_data"
    }
   ],
   "source": [
    "if need_update or train_or_load:\n",
    "    graph_results(y_pred, hist, 2)"
   ]
  },
  {
   "cell_type": "code",
   "execution_count": 209,
   "metadata": {},
   "outputs": [
    {
     "name": "stdout",
     "output_type": "stream",
     "text": [
      "Epoch  0 MSE:  1.0225690603256226\n",
      "Epoch  1 MSE:  0.7263550162315369\n",
      "Epoch  2 MSE:  0.4259471297264099\n",
      "Epoch  3 MSE:  0.1356889009475708\n",
      "Epoch  4 MSE:  0.09754437953233719\n",
      "Epoch  5 MSE:  0.20662248134613037\n",
      "Epoch  6 MSE:  0.15633665025234222\n",
      "Epoch  7 MSE:  0.06785015016794205\n",
      "Epoch  8 MSE:  0.046357981860637665\n",
      "Epoch  9 MSE:  0.08397616446018219\n",
      "Epoch  10 MSE:  0.10933557152748108\n",
      "Epoch  11 MSE:  0.09604540467262268\n",
      "Epoch  12 MSE:  0.06257940828800201\n",
      "Epoch  13 MSE:  0.03614100441336632\n",
      "Epoch  14 MSE:  0.03176756203174591\n",
      "Epoch  15 MSE:  0.04466304928064346\n",
      "Epoch  16 MSE:  0.05768213048577309\n",
      "Epoch  17 MSE:  0.05783038213849068\n",
      "Epoch  18 MSE:  0.04590366780757904\n",
      "Epoch  19 MSE:  0.03170332685112953\n",
      "Epoch  20 MSE:  0.02426396682858467\n",
      "Epoch  21 MSE:  0.02583346515893936\n",
      "Epoch  22 MSE:  0.03190596401691437\n",
      "Epoch  23 MSE:  0.0359017588198185\n",
      "Epoch  24 MSE:  0.03413292020559311\n",
      "Epoch  25 MSE:  0.027576927095651627\n",
      "Epoch  26 MSE:  0.020403655245900154\n",
      "Epoch  27 MSE:  0.016798049211502075\n",
      "Epoch  28 MSE:  0.01790212094783783\n",
      "Epoch  29 MSE:  0.02101537212729454\n",
      "Epoch  30 MSE:  0.022111717611551285\n",
      "Epoch  31 MSE:  0.01950577087700367\n",
      "Epoch  32 MSE:  0.01499154046177864\n",
      "Epoch  33 MSE:  0.011728611774742603\n",
      "Epoch  34 MSE:  0.011357884854078293\n",
      "Epoch  35 MSE:  0.012864240445196629\n",
      "Epoch  36 MSE:  0.013819251209497452\n",
      "Epoch  37 MSE:  0.012667211703956127\n",
      "Epoch  38 MSE:  0.009988266974687576\n",
      "Epoch  39 MSE:  0.007730802521109581\n",
      "Epoch  40 MSE:  0.0072546047158539295\n",
      "Epoch  41 MSE:  0.008081380277872086\n",
      "Epoch  42 MSE:  0.008543339557945728\n",
      "Epoch  43 MSE:  0.007578536402434111\n",
      "Epoch  44 MSE:  0.005806372035294771\n",
      "Epoch  45 MSE:  0.004709388595074415\n",
      "Epoch  46 MSE:  0.004856613464653492\n",
      "Epoch  47 MSE:  0.0053948028944432735\n",
      "Epoch  48 MSE:  0.005240741651505232\n",
      "Epoch  49 MSE:  0.0042745876125991344\n",
      "Epoch  50 MSE:  0.0033149702940136194\n",
      "Epoch  51 MSE:  0.003122487338259816\n",
      "Epoch  52 MSE:  0.0034883765038102865\n",
      "Epoch  53 MSE:  0.003541831625625491\n",
      "Epoch  54 MSE:  0.0029639084823429585\n",
      "Epoch  55 MSE:  0.0023275732528418303\n",
      "Epoch  56 MSE:  0.0022118675988167524\n",
      "Epoch  57 MSE:  0.002461155643686652\n",
      "Epoch  58 MSE:  0.002475201850757003\n",
      "Epoch  59 MSE:  0.0020782409701496363\n",
      "Epoch  60 MSE:  0.001703736837953329\n",
      "Epoch  61 MSE:  0.0017046877183020115\n",
      "Epoch  62 MSE:  0.001879973104223609\n",
      "Epoch  63 MSE:  0.001812312169931829\n",
      "Epoch  64 MSE:  0.0015243630623444915\n",
      "Epoch  65 MSE:  0.0013883294304832816\n",
      "Epoch  66 MSE:  0.0014933180063962936\n",
      "Epoch  67 MSE:  0.0015660552307963371\n",
      "Epoch  68 MSE:  0.0014294771244749427\n",
      "Epoch  69 MSE:  0.0012689315481111407\n",
      "Epoch  70 MSE:  0.0012837599497288465\n",
      "Epoch  71 MSE:  0.0013662356650456786\n",
      "Epoch  72 MSE:  0.0013203639537096024\n",
      "Epoch  73 MSE:  0.0011927676387131214\n",
      "Epoch  74 MSE:  0.0011630357475951314\n",
      "Epoch  75 MSE:  0.0012159872567281127\n",
      "Epoch  76 MSE:  0.0012067134957760572\n",
      "Epoch  77 MSE:  0.0011187351774424314\n",
      "Epoch  78 MSE:  0.0010756790870800614\n",
      "Epoch  79 MSE:  0.0011057985248044133\n",
      "Epoch  80 MSE:  0.0011092941276729107\n",
      "Epoch  81 MSE:  0.0010518559720367193\n",
      "Epoch  82 MSE:  0.0010142913088202477\n",
      "Epoch  83 MSE:  0.0010311029618605971\n",
      "Epoch  84 MSE:  0.0010362019529566169\n",
      "Epoch  85 MSE:  0.0009988709352910519\n",
      "Epoch  86 MSE:  0.0009706452256068587\n",
      "Epoch  87 MSE:  0.0009807932656258345\n",
      "Epoch  88 MSE:  0.0009844586020335555\n",
      "Epoch  89 MSE:  0.0009586196974851191\n",
      "Epoch  90 MSE:  0.0009395084925927222\n",
      "Epoch  91 MSE:  0.0009464164031669497\n",
      "Epoch  92 MSE:  0.0009473312529735267\n",
      "Epoch  93 MSE:  0.0009284227853640914\n",
      "Epoch  94 MSE:  0.0009160115150734782\n",
      "Epoch  95 MSE:  0.0009203871013596654\n",
      "Epoch  96 MSE:  0.0009180462802760303\n",
      "Epoch  97 MSE:  0.0009029200300574303\n",
      "Epoch  98 MSE:  0.0008949089678935707\n",
      "Epoch  99 MSE:  0.0008968376205302775\n",
      "Training time: 35.774519205093384\n"
     ]
    }
   ],
   "source": [
    "# use data key of 1 - same as the new lstm model\n",
    "new_gru = GRU(input_dim=input_dim, hidden_dim=hidden_dim, output_dim=output_dim, num_layers=num_layers)\n",
    "new_gru_optimiser = torch.optim.Adam(new_gru.parameters(), lr=0.01)\n",
    "\n",
    "if not train_or_load_gru:\n",
    "    # load a previous model\n",
    "    possible_models = []\n",
    "    for i in os.listdir(model_dir):\n",
    "        if 'stock-only-gru' in i:\n",
    "            possible_models.append(i)\n",
    "            print(i)\n",
    "    \n",
    "    loaded_state = torch.load(model_dir + \"/\" + possible_models[-1], map_location=device)\n",
    "    new_gru.load_state_dict(loaded_state['model'])\n",
    "    new_gru_optimiser.load_state_dict(loaded_state['opt'])    \n",
    "    if need_update:\n",
    "        y_pred, hist = train_model(new_gru, new_gru_optimiser, 1, num_epochs=num_tune_epochs)\n",
    "else:\n",
    "    y_pred, hist = train_model(new_gru, new_gru_optimiser, 1, num_epochs=num_epochs)"
   ]
  },
  {
   "cell_type": "code",
   "execution_count": 210,
   "metadata": {},
   "outputs": [
    {
     "data": {
      "image/png": "[encoded data removed]",
      "text/plain": [
       "<Figure size 1600x600 with 2 Axes>"
      ]
     },
     "metadata": {},
     "output_type": "display_data"
    }
   ],
   "source": [
    "if need_update or train_or_load_gru:\n",
    "    graph_results(y_pred, hist, 1)"
   ]
  },
  {
   "cell_type": "markdown",
   "metadata": {},
   "source": [
    "<h3>Make Predictions using Models </h3>"
   ]
  },
  {
   "cell_type": "markdown",
   "metadata": {},
   "source": [
    "Original and new LSTM model just do regression on the stock themselves \\\n",
    "Expanded model uses open, high, low, close, volume to regress stock"
   ]
  },
  {
   "cell_type": "code",
   "execution_count": 211,
   "metadata": {},
   "outputs": [],
   "source": [
    "def buy_or_sell(is_buy, start, stop, prices, days):\n",
    "    if is_buy:\n",
    "        min_price = min(prices[start:stop])\n",
    "        # print(min_price)\n",
    "        for j in range(start, stop):\n",
    "            if prices[j] != min_price:\n",
    "                days[j] = None\n",
    "    else:    \n",
    "        max_sell = max(prices[start:stop])\n",
    "        for j in range(start, stop):\n",
    "            if prices[j] != max_sell:\n",
    "                days[j] = None\n",
    "\n",
    "def maximize_profit(prices):\n",
    "    cur_hold, cur_not_hold = -float('inf'), 0\n",
    "    days = [None] * len(prices)\n",
    "\n",
    "    for i in range(len(prices)):\n",
    "        # we don't have logic for taking back purchases\n",
    "        stock_price = prices[i]\n",
    "        prev_hold, prev_not_hold = cur_hold, cur_not_hold\n",
    "        \n",
    "        cur_hold = max(prev_hold, prev_not_hold - stock_price)\n",
    "        if prev_hold < prev_not_hold - stock_price: # if it is more worth to buy\n",
    "            days[i] = \"buy\"\n",
    "            \n",
    "        \n",
    "        cur_not_hold = max(prev_not_hold, prev_hold + stock_price)\n",
    "        if prev_not_hold < prev_hold + stock_price: # if it is more worth to sell\n",
    "            days[i] = \"sell\" \n",
    "\n",
    "    is_buy = False\n",
    "    days_to_consider = []   \n",
    "\n",
    "    for i in range(len(days)):\n",
    "        if (len(days_to_consider) > 0 and (days[i] == \"buy\") != is_buy):\n",
    "            # print(days_to_consider)\n",
    "            start, stop = days_to_consider[0], days_to_consider[-1] + 1\n",
    "            buy_or_sell(is_buy, start, stop, prices, days)\n",
    "            days_to_consider = []\n",
    "        days_to_consider.append(i) \n",
    "        is_buy = days[i] == 'buy'\n",
    "        \n",
    "    if len(days_to_consider) > 0:\n",
    "        buy_or_sell(is_buy, days_to_consider[0], days_to_consider[-1] + 1, prices, days) \n",
    "        \n",
    "    return cur_not_hold, days"
   ]
  },
  {
   "cell_type": "code",
   "execution_count": 212,
   "metadata": {},
   "outputs": [
    {
     "name": "stdout",
     "output_type": "stream",
     "text": [
      "[187, 497.2456, 493.50903, 493.84903, 493.68878]\n",
      "([187, 497.2456, 493.50903, 493.84903, 493.68878], ['buy', 'sell', 'buy', 'sell', 'buy'], 310.5856018066406)\n"
     ]
    }
   ],
   "source": [
    "# predict an entire week \n",
    "# NOT compatible with the expanded LSTM - do not use!!\n",
    "def predict_entire_week(model, x_pred):\n",
    "    # predict an entire week's stock and return best days to buy and sell\n",
    "    # try:\n",
    "    # make predictions\n",
    "    cur_price = int(updated_data['Close'].values[-1])\n",
    "    results = [cur_price]\n",
    "    today = datetime.now()\n",
    "    days_left = max(0, 5-today.weekday()) if today.weekday() < 6 else 5\n",
    "    for i in range(days_left):\n",
    "        # pred = scaler.inverse_transform(np.array(model(x_pred).detach()))[0,0]\n",
    "        # print(pred)\n",
    "        # results.append(pred) \n",
    "        # x_pred = torch.cat((x_pred, torch.tensor([pred])), dim=0)\n",
    "        pred = model(x_pred)\n",
    "        x_pred = torch.cat((x_pred, pred.reshape(1,1,1)), dim=1)\n",
    "        results.append(scaler.inverse_transform(np.array(pred.detach()))[0,0])\n",
    "        \n",
    "    print(results)\n",
    "        \n",
    "    cur_not_hold, days = maximize_profit(results)\n",
    "           \n",
    "    return results, days, cur_not_hold\n",
    "    # except:\n",
    "    #     print(\"Remember, don't use this on the expanded LSTM! If you didn't, then a different error occured.\") \n",
    "\n",
    "test = True\n",
    "if test:\n",
    "    x_pred = []\n",
    "    x_pred.append(updated_price.values[-20:].astype(np.float32))\n",
    "    # print(x_pred)\n",
    "    x_pred = torch.tensor(x_pred) # this should be 3D (include the previous 20 days)\n",
    "    print(predict_entire_week(new_model, x_pred))\n"
   ]
  },
  {
   "cell_type": "code",
   "execution_count": 213,
   "metadata": {},
   "outputs": [
    {
     "name": "stdout",
     "output_type": "stream",
     "text": [
      "Original LSTM: 27.831484\n",
      "Updated LSTM: 180.44754\n",
      "Updated GRU: 192.2096\n",
      "Expanded and Updated LSTM: 195.47578\n"
     ]
    }
   ],
   "source": [
    "# print(updated_price.values[-20:].astype(np.float32))\n",
    "\n",
    "x_pred = []\n",
    "x_pred.append(updated_price.values[-20:].astype(np.float32))\n",
    "# print(x_pred)\n",
    "x_pred = torch.tensor(x_pred) # this should be 3D (include the previous 20 days)\n",
    "output_dir = \"data\"\n",
    "date = str(datetime.now()).replace(\":\", \".\")\n",
    "\n",
    "next_price_original =  y_scaler.inverse_transform(np.array(original_model(x_pred).detach()))[0,0] # we need .detach to get rid of the gradient (avoiding future gradient computation)\n",
    "print(\"Original LSTM:\", next_price_original)\n",
    "\n",
    "next_price_new = y_scaler.inverse_transform(np.array(new_model(x_pred).detach()))[0,0]\n",
    "print(\"Updated LSTM:\", next_price_new)\n",
    "\n",
    "next_price_gru = y_scaler.inverse_transform(np.array(new_gru(x_pred).detach()))[0,0]\n",
    "print(\"Updated GRU:\", next_price_gru)\n",
    "\n",
    "data = updated_data.iloc[-20:,1:6]\n",
    "n = len(data.iloc[0,:])\n",
    "for i in range(n - 1):\n",
    "    data.iloc[:,i] = scaler.fit_transform(data.iloc[:,i].values.reshape(-1,1))\n",
    "data.iloc[:,n-1] = volume_scaler.fit_transform(data.iloc[:, n-1].values.reshape(-1,1))\n",
    "x_pred = []\n",
    "x_pred.append(data.values[-20:].astype(np.float32)) # giving all values breaks it\n",
    "# print(x_pred)\n",
    "\n",
    "x_pred = torch.tensor(x_pred)\n",
    "\n",
    "next_price_expanded = scaler.inverse_transform(np.array(expanded_model(x_pred).detach()))[0,0]\n",
    "print(\"Expanded and Updated LSTM:\", next_price_expanded)\n",
    "\n",
    "\n",
    "with open(\"predictions/original_predictions \" + date + \".txt\", \"w\") as file:\n",
    "    file.write(str(next_price_original)) # original is predicting stock values too low - needs a fix?\n",
    "    \n",
    "with open(\"predictions/new_predictions \" + date + \".txt\", \"w\") as file:\n",
    "    file.write(str(next_price_new))\n",
    "    \n",
    "with open(\"predictions/new_and_expanded_predictions \" + date + \".txt\", \"w\") as file:\n",
    "    file.write(str(next_price_expanded))"
   ]
  },
  {
   "cell_type": "code",
   "execution_count": 214,
   "metadata": {},
   "outputs": [],
   "source": [
    "folder_dir = \"models\"\n",
    "files = os.listdir(folder_dir)\n",
    "while len(os.listdir(folder_dir)) > 100:\n",
    "    os.remove(folder_dir + files.pop(0))\n",
    "\n",
    "filename = str(datetime.now()).replace(\":\", \".\") + \".pt\"\n",
    "\n",
    "if train_or_load_original:\n",
    "    torch.save({\n",
    "        \"model\":original_model.state_dict(),\n",
    "        \"opt\":original_optimiser.state_dict()\n",
    "    }, folder_dir + \"/original3.pt\")\n",
    "    \n",
    "torch.save({ \n",
    "    \"model\": new_model.state_dict(),\n",
    "    \"opt\": new_optimiser.state_dict()\n",
    "}, folder_dir + \"/stock-only-lstm \" + filename)\n",
    "\n",
    "torch.save({ \n",
    "    \"model\": expanded_model.state_dict(),\n",
    "    \"opt\": expanded_optimiser.state_dict()\n",
    "}, folder_dir + \"/expanded-lstm \" + filename)\n",
    "\n",
    "torch.save({ \n",
    "    \"model\": new_gru.state_dict(),\n",
    "    \"opt\": new_gru_optimiser.state_dict()\n",
    "}, folder_dir + \"/stock-only-gru \" + filename)"
   ]
  },
  {
   "cell_type": "markdown",
   "metadata": {},
   "source": [
    "<h3> Verifying Accuracy of Models </h3>"
   ]
  },
  {
   "cell_type": "code",
   "execution_count": 215,
   "metadata": {},
   "outputs": [
    {
     "name": "stdout",
     "output_type": "stream",
     "text": [
      "MSE of Original LSTM 11.974245071411133\n",
      "MSE of New LSTM 0.02241544798016548\n"
     ]
    },
    {
     "name": "stdout",
     "output_type": "stream",
     "text": [
      "MSE of New GRU 0.021882733330130577\n",
      "MSE of Expanded Model 0.025572989135980606\n"
     ]
    }
   ],
   "source": [
    "def verify(model, key):\n",
    "    # just run x_test, y_test from earlier through models\n",
    "    x = x_tests[key]\n",
    "    y = y_tests_lstm[key]\n",
    "    # print(x_pred.shape)\n",
    "    pred = model(x)\n",
    "    # print(type(y), type(pred))\n",
    "    mse = criterion(pred, y) # function only uses lists or numpy arrays\n",
    "    return mse.item()\n",
    "\n",
    "print(\"MSE of Original LSTM\", verify(original_model, 0))\n",
    "print(\"MSE of New LSTM\", verify(new_model, 1))\n",
    "print(\"MSE of New GRU\", verify(new_gru, 1))\n",
    "print(\"MSE of Expanded Model\", verify(expanded_model, 2))"
   ]
  }
 ],
 "metadata": {
  "kernelspec": {
   "display_name": "Python 3",
   "language": "python",
   "name": "python3"
  },
  "language_info": {
   "codemirror_mode": {
    "name": "ipython",
    "version": 3
   },
   "file_extension": ".py",
   "mimetype": "text/x-python",
   "name": "python",
   "nbconvert_exporter": "python",
   "pygments_lexer": "ipython3",
   "version": "3.11.9"
  }
 },
 "nbformat": 4,
 "nbformat_minor": 2
}
