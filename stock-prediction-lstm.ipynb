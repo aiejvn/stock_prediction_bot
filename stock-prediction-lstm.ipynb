{
 "cells": [
  {
   "cell_type": "markdown",
   "metadata": {},
   "source": [
    "TIER 1:\\\n",
    "set up the prediction lstm on amazon data, and \\\n",
    "set up data-scraping from key stock website \n",
    "\n",
    "TIER 2:\\\n",
    "try to have it save and load models from a folder\\\n",
    "also only keep 5 models at a time, delete old ones\\\n",
    "test a variety of parameters of the lstm automatically, retain and save only the best ones"
   ]
  },
  {
   "cell_type": "code",
   "execution_count": 1,
   "metadata": {},
   "outputs": [],
   "source": [
    "import numpy as np # linear algebra\n",
    "import pandas as pd # data processing, CSV file I/O (e.g. pd.read_csv)\n",
    "import os\n",
    "import matplotlib.pyplot as plt\n",
    "import seaborn as sns\n",
    "import torch\n",
    "import torch.nn as nn\n",
    "from datetime import datetime\n",
    "from bs4 import BeautifulSoup\n",
    "import requests\n",
    "from sklearn.preprocessing import MinMaxScaler, StandardScaler\n",
    "import time\n",
    "import seaborn as sns"
   ]
  },
  {
   "cell_type": "markdown",
   "metadata": {},
   "source": [
    "<h3>Preprocess all data</h3>\n",
    "Make sure we split before we feature scale train and test (TODO)"
   ]
  },
  {
   "cell_type": "code",
   "execution_count": 2,
   "metadata": {},
   "outputs": [],
   "source": [
    "initial = False # True if we have no data - tweaks may be needed\n",
    "scaler = MinMaxScaler(feature_range=(-1, 1))\n",
    "x_scaler = StandardScaler()\n",
    "y_scaler = StandardScaler()\n",
    "\n",
    "input_dim = 1\n",
    "hidden_dim = 32\n",
    "num_layers = 2\n",
    "output_dim = 1\n",
    "num_epochs = 100 \n",
    "num_tune_epochs = 3 \n",
    "\n",
    "# True for Train, False for Load\n",
    "train_or_load_original = True # separate modifier because original model's performance is very unreliable\n",
    "train_or_load_new = True\n",
    "train_or_load = True\n",
    "train_or_load_gru = True"
   ]
  },
  {
   "cell_type": "code",
   "execution_count": 3,
   "metadata": {},
   "outputs": [],
   "source": [
    "def save_data(data, date = None):\n",
    "    if not date:\n",
    "        date = f\"{str(datetime.now()).replace(':','.')}.csv\"\n",
    "    os.makedirs(\"data\", exist_ok=True)\n",
    "    contents = os.listdir(\"data\")\n",
    "    for item in contents:\n",
    "        if date[:10] in item:\n",
    "            os.remove(\"data/\" + item)\n",
    "    if f\"data/{date}\" not in os.listdir(\"data\"):\n",
    "        data.to_csv(\"data/\" + date, index=False)\n",
    "        \n",
    "def read_data(filepath, sort_column = None):\n",
    "    data = pd.read_csv(filepath)\n",
    "    if sort_column:\n",
    "        data = data.sort_values(sort_column)\n",
    "    data.head()\n",
    "    price = data[['Close']] \n",
    "    price['Close'] = price['Close'].values.reshape(-1,1)\n",
    "    return data, price"
   ]
  },
  {
   "cell_type": "code",
   "execution_count": 4,
   "metadata": {},
   "outputs": [
    {
     "name": "stdout",
     "output_type": "stream",
     "text": [
      "      Close\n",
      "4  0.836165\n",
      "3  0.899547\n",
      "2  0.913822\n",
      "1  0.859281\n",
      "0  0.892623\n",
      "         Date    Open    High     Low   Close    Volume  Name\n",
      "4  04/25/2024  169.68  173.92  166.32  173.67  49250000  AMZN\n",
      "3  04/26/2024  177.79  180.82  176.13  179.62  43920000  AMZN\n",
      "2  04/29/2024  182.65  183.50  179.39  180.96  52080000  AMZN\n",
      "1  04/30/2024  181.01  182.02  175.05  175.84  61800000  AMZN\n",
      "0  05/01/2024  181.68  185.12  176.57  178.97  87860000  AMZN\n"
     ]
    },
    {
     "name": "stderr",
     "output_type": "stream",
     "text": [
      "C:\\Users\\noten\\AppData\\Local\\Temp\\ipykernel_5864\\2228073788.py:15: SettingWithCopyWarning: \n",
      "A value is trying to be set on a copy of a slice from a DataFrame.\n",
      "Try using .loc[row_indexer,col_indexer] = value instead\n",
      "\n",
      "See the caveats in the documentation: https://pandas.pydata.org/pandas-docs/stable/user_guide/indexing.html#returning-a-view-versus-a-copy\n",
      "  price['Close'] = scaler.fit_transform(price['Close'].values.reshape(-1,1))\n"
     ]
    }
   ],
   "source": [
    "data = pd.read_csv(\"relevant-stock-data/AMZN Historical Data Fixed.csv\")\n",
    "data = data.iloc[::-1]\n",
    "data = data[['Date', 'Open', 'High', 'Low', 'Price', 'Vol.']]\n",
    "data = data.rename(columns={'Price' : 'Close', 'Vol.' : 'Volume'})\n",
    "data['Name'] = ['AMZN']*len(data['Date'])\n",
    "\n",
    "# iloc for integer based assignment of multiple cells, iat for integer based assignment on a single cell\n",
    "for i in range(len(data['Volume'])): \n",
    "    if 'M' in data['Volume'].iat[i]:\n",
    "        data['Volume'].iat[i] = str(int(float(data['Volume'].iat[i][:-1]) * 1e6))\n",
    "    if 'B' in data['Volume'].iat[i]:\n",
    "        data['Volume'].iat[i] = str(int(float(data['Volume'].iat[i][:-1]) * 1e9))\n",
    "\n",
    "price = data[['Close']]\n",
    "price['Close'] = scaler.fit_transform(price['Close'].values.reshape(-1,1))\n",
    "print(price.iloc[-5:])\n",
    "print(data.iloc[-5:])"
   ]
  },
  {
   "cell_type": "code",
   "execution_count": 5,
   "metadata": {},
   "outputs": [],
   "source": [
    "def split_data(data, stock, lookback):\n",
    "    data_raw = stock.to_numpy() # convert to numpy array\n",
    "    data = []\n",
    "    \n",
    "    # create all possible sequences of length seq_len\n",
    "    for index in range(len(data_raw) - lookback): \n",
    "        data.append(data_raw[index: index + lookback])\n",
    "    \n",
    "    data = np.array(data)\n",
    "    print(data.shape)\n",
    "    test_set_size = int(np.round(0.2*data.shape[0]))\n",
    "    train_set_size = data.shape[0] - (test_set_size)\n",
    "    \n",
    "    x_train = data[:train_set_size,:-1,:]\n",
    "    x_train[:,:,0] = x_scaler.fit_transform(x_train[:,:,0])\n",
    "    y_train = y_scaler.fit_transform(data[:train_set_size,-1,:])\n",
    "    \n",
    "    x_test = data[train_set_size:,:-1]\n",
    "    x_test[:,:,0] = x_scaler.transform(x_test[:,:,0])\n",
    "    y_test = y_scaler.transform(data[train_set_size:,-1,:])\n",
    "    \n",
    "    return [x_train, y_train, x_test, y_test]"
   ]
  },
  {
   "cell_type": "code",
   "execution_count": 6,
   "metadata": {},
   "outputs": [],
   "source": [
    "# 0 for the original, 1 for our new lstm and gru, 2 for the expanded lstm \n",
    "# expected to have many models - lists preferred over dictionaries\n",
    "x_trains = []\n",
    "y_trains_lstm = []\n",
    "x_tests = []\n",
    "y_tests_lstm = []"
   ]
  },
  {
   "cell_type": "code",
   "execution_count": 7,
   "metadata": {},
   "outputs": [
    {
     "name": "stdout",
     "output_type": "stream",
     "text": [
      "(4593, 20, 1)\n",
      "x_train.shape =  (3674, 19, 1)\n",
      "y_train.shape =  (3674, 1)\n",
      "x_test.shape =  (919, 19, 1)\n",
      "y_test.shape =  (919, 1)\n"
     ]
    }
   ],
   "source": [
    "lookback = 20 # choose sequence length\n",
    "\n",
    "x_train, y_train, x_test, y_test = split_data(data, price, lookback)\n",
    "print('x_train.shape = ',x_train.shape)\n",
    "print('y_train.shape = ',y_train.shape)\n",
    "print('x_test.shape = ',x_test.shape)\n",
    "print('y_test.shape = ',y_test.shape)"
   ]
  },
  {
   "cell_type": "code",
   "execution_count": 8,
   "metadata": {},
   "outputs": [],
   "source": [
    "# Convert arrays to Pytorch arrays using .from_numpy()\n",
    "# Set type to torch tensors using .type(torch.Tensor)\n",
    "x_train = torch.from_numpy(x_train).type(torch.Tensor)\n",
    "x_test = torch.from_numpy(x_test).type(torch.Tensor)\n",
    "y_train_lstm = torch.from_numpy(y_train).type(torch.Tensor)\n",
    "y_test_lstm = torch.from_numpy(y_test).type(torch.Tensor)\n",
    "\n",
    "x_trains.append(x_train)\n",
    "x_tests.append(x_test)\n",
    "y_trains_lstm.append(y_train_lstm)\n",
    "y_tests_lstm.append(y_test_lstm)"
   ]
  },
  {
   "cell_type": "code",
   "execution_count": 9,
   "metadata": {},
   "outputs": [
    {
     "name": "stdout",
     "output_type": "stream",
     "text": [
      "data/2024-05-15 21.45.14.205200.csv\n"
     ]
    }
   ],
   "source": [
    "if not initial:\n",
    "    print(\"data/\" + os.listdir(\"data\")[-1]) # do we save the wrong data?\n",
    "    data = pd.read_csv(\"data/\" + os.listdir(\"data\")[-1])"
   ]
  },
  {
   "cell_type": "markdown",
   "metadata": {},
   "source": [
    "Automatically Updating Data"
   ]
  },
  {
   "cell_type": "code",
   "execution_count": 10,
   "metadata": {},
   "outputs": [
    {
     "name": "stdout",
     "output_type": "stream",
     "text": [
      "22\n",
      "05/15/2024\n",
      "2024-05-15\n"
     ]
    }
   ],
   "source": [
    "cur_time = int(str(datetime.now())[11:13])\n",
    "print(cur_time) # the current hour\n",
    "most_recent_date = data['Date'].iloc[-1]\n",
    "print(most_recent_date) # broken lol\n",
    "print(str(datetime.now())[:10])"
   ]
  },
  {
   "cell_type": "code",
   "execution_count": 11,
   "metadata": {},
   "outputs": [
    {
     "data": {
      "text/plain": [
       "[]"
      ]
     },
     "execution_count": 11,
     "metadata": {},
     "output_type": "execute_result"
    }
   ],
   "source": [
    "def get_updated_data():\n",
    "    count_today = cur_time >= 16 # has the market closed yet? T if yes, F if no.\n",
    "    url = \"https://www.investing.com/equities/amazon-com-inc-historical-data\"\n",
    "    page = requests.get(url)\n",
    "        \n",
    "    soup = BeautifulSoup(page.text, 'html.parser')\n",
    "        \n",
    "    # We need Open, High, Low, Close, Volume, Name\n",
    "    all_date_class = \"freeze-column-w-1 w-full overflow-x-auto text-xs leading-4\"\n",
    "    table = soup.find('table', {'class': all_date_class})\n",
    "    rows = table.find_all('tr')\n",
    "    \n",
    "    table_data = []\n",
    "    for row in rows:\n",
    "        row_data = []\n",
    "        for cell in row.find_all(['td']):\n",
    "            row_data.append(cell.text)\n",
    "        if row_data and count_today:\n",
    "            \n",
    "            for i in range(len(row_data)):\n",
    "                if 'M' in row_data[i]:\n",
    "                    row_data[i] = str(int(float(row_data[i][:-1]) * 1e6)) # all data values are rounded so we round too\n",
    "            if most_recent_date in row_data:\n",
    "                break # we've caught up\n",
    "            table_data.append(row_data)\n",
    "        else:\n",
    "            count_today = True\n",
    "\n",
    "    # print(table_data)\n",
    "    return table_data\n",
    "\n",
    "get_updated_data()"
   ]
  },
  {
   "cell_type": "code",
   "execution_count": 12,
   "metadata": {},
   "outputs": [
    {
     "name": "stdout",
     "output_type": "stream",
     "text": [
      "False\n"
     ]
    }
   ],
   "source": [
    "date_updated = most_recent_date[-4:] + \"-\" + most_recent_date[:2] + \"-\" + most_recent_date[3:5] \n",
    "need_update = not date_updated == str(datetime.now())[:10] and cur_time >= 16\n",
    "print(need_update)\n",
    "\n",
    "if need_update:\n",
    "    new_data = get_updated_data()[::-1] # newest dates are returned first\n",
    "    start_index = len(data['Date'])\n",
    "        \n",
    "    for i in range(len(new_data)): \n",
    "        new_values = new_data[i] # comes as date, price (close), open, high, low, vol, change\n",
    "    \n",
    "        # new_values = get_updated_data()[0] \n",
    "        print(pd.DataFrame(new_values).head())\n",
    "        \n",
    "        # read, write, then save the new values inside our most recent table\n",
    "        data.loc[start_index + i] = [new_values[0], new_values[2], new_values[3], new_values[4], new_values[1], new_values[5], \"AMZN\"] \n",
    "    \n",
    "    save_data(data)"
   ]
  },
  {
   "cell_type": "code",
   "execution_count": 13,
   "metadata": {},
   "outputs": [
    {
     "name": "stdout",
     "output_type": "stream",
     "text": [
      "data/2024-05-15 21.45.14.205200.csv\n",
      "            Date    Open    High     Low   Close    Volume  Name\n",
      "4618  05/09/2024  188.88  191.68  187.52  189.50  42340000  AMZN\n",
      "4619  05/10/2024  188.98  189.87  186.93  187.48  28560000  AMZN\n",
      "4620  05/13/2024  188.00  188.18  185.36  186.57  21690000  AMZN\n",
      "4621  05/14/2024  183.82  187.71  183.50  187.07  38630000  AMZN\n",
      "4622  05/15/2024  185.97  186.65  182.85  185.99  69740000  AMZN\n",
      "       Close\n",
      "4618  189.50\n",
      "4619  187.48\n",
      "4620  186.57\n",
      "4621  187.07\n",
      "4622  185.99\n"
     ]
    },
    {
     "name": "stderr",
     "output_type": "stream",
     "text": [
      "C:\\Users\\noten\\AppData\\Local\\Temp\\ipykernel_5864\\464067802.py:18: SettingWithCopyWarning: \n",
      "A value is trying to be set on a copy of a slice from a DataFrame.\n",
      "Try using .loc[row_indexer,col_indexer] = value instead\n",
      "\n",
      "See the caveats in the documentation: https://pandas.pydata.org/pandas-docs/stable/user_guide/indexing.html#returning-a-view-versus-a-copy\n",
      "  price['Close'] = price['Close'].values.reshape(-1,1)\n"
     ]
    }
   ],
   "source": [
    "updated_data, updated_price = read_data('data/' + os.listdir(\"data\")[-1])\n",
    "print('data/' + os.listdir(\"data\")[-1])\n",
    "print(updated_data.iloc[-5:])\n",
    "print(updated_price.iloc[-5:])"
   ]
  },
  {
   "cell_type": "code",
   "execution_count": 14,
   "metadata": {},
   "outputs": [
    {
     "name": "stdout",
     "output_type": "stream",
     "text": [
      "2024-05-15\n"
     ]
    }
   ],
   "source": [
    "if('2024-04-26' not in str(datetime.now())): # initial date\n",
    "    if need_update:\n",
    "        save_data(data)  \n",
    "else:\n",
    "    save_data('2024-04-26 00.00.000000')\n",
    "print(str(datetime.now())[:10])"
   ]
  },
  {
   "cell_type": "code",
   "execution_count": 15,
   "metadata": {},
   "outputs": [
    {
     "name": "stdout",
     "output_type": "stream",
     "text": [
      "(4603, 20, 1)\n",
      "x_train.shape =  (3682, 19, 1)\n",
      "y_train.shape =  (3682, 1)\n",
      "x_test.shape =  (921, 19, 1)\n",
      "y_test.shape =  (921, 1)\n"
     ]
    }
   ],
   "source": [
    "lookback = 20 # choose sequence length\n",
    "x_train, y_train, x_test, y_test = split_data(updated_data, updated_price, lookback)\n",
    "print('x_train.shape = ',x_train.shape)\n",
    "print('y_train.shape = ',y_train.shape)\n",
    "print('x_test.shape = ',x_test.shape)\n",
    "print('y_test.shape = ',y_test.shape)\n",
    "\n",
    "# print(x_train[0])\n",
    "# print(y_train[0])\n",
    "# print(x_test[0])\n",
    "# print(y_test[0])"
   ]
  },
  {
   "cell_type": "code",
   "execution_count": 16,
   "metadata": {},
   "outputs": [],
   "source": [
    "x_train = torch.from_numpy(x_train).type(torch.Tensor)\n",
    "x_test = torch.from_numpy(x_test).type(torch.Tensor)\n",
    "y_train_lstm = torch.from_numpy(y_train).type(torch.Tensor)\n",
    "y_test_lstm = torch.from_numpy(y_test).type(torch.Tensor)\n",
    "\n",
    "x_trains.append(x_train)\n",
    "x_tests.append(x_test)\n",
    "y_trains_lstm.append(y_train_lstm)\n",
    "y_tests_lstm.append(y_test_lstm)"
   ]
  },
  {
   "cell_type": "code",
   "execution_count": 17,
   "metadata": {},
   "outputs": [],
   "source": [
    "volume_scaler = MinMaxScaler(feature_range=(-1, 1)) # The volumes are in the millions and would mess up our scaler\n",
    "column_scaler = StandardScaler()"
   ]
  },
  {
   "cell_type": "code",
   "execution_count": 18,
   "metadata": {},
   "outputs": [
    {
     "name": "stdout",
     "output_type": "stream",
     "text": [
      "            Date    Open    High     Low   Close    Volume  Name\n",
      "4618  05/09/2024  188.88  191.68  187.52  189.50  42340000  AMZN\n",
      "4619  05/10/2024  188.98  189.87  186.93  187.48  28560000  AMZN\n",
      "4620  05/13/2024  188.00  188.18  185.36  186.57  21690000  AMZN\n",
      "4621  05/14/2024  183.82  187.71  183.50  187.07  38630000  AMZN\n",
      "4622  05/15/2024  185.97  186.65  182.85  185.99  69740000  AMZN\n",
      "(4603, 20, 5)\n",
      "(4603, 20, 1)\n",
      "x_train.shape =  (3682, 19, 5)\n",
      "y_train.shape =  (3682, 1)\n",
      "x_test.shape =  (921, 19, 5)\n",
      "y_test.shape =  (921, 1)\n"
     ]
    },
    {
     "name": "stderr",
     "output_type": "stream",
     "text": [
      "C:\\Users\\noten\\AppData\\Local\\Temp\\ipykernel_5864\\464067802.py:18: SettingWithCopyWarning: \n",
      "A value is trying to be set on a copy of a slice from a DataFrame.\n",
      "Try using .loc[row_indexer,col_indexer] = value instead\n",
      "\n",
      "See the caveats in the documentation: https://pandas.pydata.org/pandas-docs/stable/user_guide/indexing.html#returning-a-view-versus-a-copy\n",
      "  price['Close'] = price['Close'].values.reshape(-1,1)\n"
     ]
    }
   ],
   "source": [
    "# Expanded data\n",
    "# Scale and transform the other columns ONLY HERE so that we don't save the scaled values\n",
    "def split_data_expanded(data, stock, lookback):\n",
    "    data_raw = data[['Open', 'High', 'Low', 'Close', 'Volume']]\n",
    "    stock_raw = stock.to_numpy() # convert to numpy array\n",
    "    x = []\n",
    "    y = []\n",
    "    \n",
    "    data_raw = data_raw.to_numpy()\n",
    "    \n",
    "    # create all possible sequences of length seq_len\n",
    "    for index in range(len(stock_raw) - lookback): \n",
    "        x.append(data_raw[index: index + lookback])\n",
    "        y.append(stock_raw[index: index + lookback])\n",
    "    \n",
    "    x = np.array(x)\n",
    "    y = np.array(y)\n",
    "    \n",
    "    print(x.shape)\n",
    "    print(y.shape)\n",
    "    \n",
    "    test_set_size = int(np.round(0.2*y.shape[0])) # 80-20 train-test split\n",
    "    train_set_size = y.shape[0] - (test_set_size)\n",
    "    \n",
    "    # scale all values in data_raw\n",
    "    for i in range(x.shape[2]): \n",
    "        x[:,:,i] = column_scaler.fit_transform(x[:,:,i])\n",
    "        \n",
    "    # x_train = y[:train_set_size,:-1,:]\n",
    "    x_train = x[:train_set_size,:-1,:]\n",
    "    y_train = y_scaler.fit_transform(y[:train_set_size,-1,:])\n",
    "    \n",
    "    # x_test = y[train_set_size:,:-1]\n",
    "    x_test = x[train_set_size:,:-1,:]\n",
    "    y_test = y_scaler.transform(y[train_set_size:,-1,:])\n",
    "    \n",
    "    return [x_train, y_train, x_test, y_test]\n",
    "\n",
    "# Test code\n",
    "test = True\n",
    "if test:\n",
    "    test_data, test_stock = read_data(\"data/\" + os.listdir(\"data\")[-1])\n",
    "    print(test_data.iloc[-5:])\n",
    "    x_train, y_train, x_test, y_test = split_data_expanded(test_data, test_stock, 20)\n",
    "    print('x_train.shape = ',x_train.shape)\n",
    "    print('y_train.shape = ',y_train.shape)\n",
    "    print('x_test.shape = ',x_test.shape)\n",
    "    print('y_test.shape = ',y_test.shape)"
   ]
  },
  {
   "cell_type": "code",
   "execution_count": 19,
   "metadata": {},
   "outputs": [
    {
     "name": "stdout",
     "output_type": "stream",
     "text": [
      "(4603, 20, 5)\n",
      "(4603, 20, 1)\n",
      "x_train.shape =  (3682, 19, 5)\n",
      "y_train.shape =  (3682, 1)\n",
      "x_test.shape =  (921, 19, 5)\n",
      "y_test.shape =  (921, 1)\n"
     ]
    }
   ],
   "source": [
    "# train, test key is 2\n",
    "x_train, y_train, x_test, y_test = split_data_expanded(updated_data, updated_price, lookback)\n",
    "print('x_train.shape = ',x_train.shape)\n",
    "print('y_train.shape = ',y_train.shape)\n",
    "print('x_test.shape = ',x_test.shape)\n",
    "print('y_test.shape = ',y_test.shape)"
   ]
  },
  {
   "cell_type": "code",
   "execution_count": 20,
   "metadata": {},
   "outputs": [],
   "source": [
    "x_train = torch.from_numpy(x_train).type(torch.Tensor)\n",
    "x_test = torch.from_numpy(x_test).type(torch.Tensor)\n",
    "y_train_lstm = torch.from_numpy(y_train).type(torch.Tensor)\n",
    "y_test_lstm = torch.from_numpy(y_test).type(torch.Tensor)\n",
    "\n",
    "x_trains.append(x_train)\n",
    "x_tests.append(x_test)\n",
    "y_trains_lstm.append(y_train_lstm)\n",
    "y_tests_lstm.append(y_test_lstm)"
   ]
  },
  {
   "cell_type": "markdown",
   "metadata": {},
   "source": [
    "<h3>Train models - one on the provided data, rest on the collected data</h3>"
   ]
  },
  {
   "cell_type": "markdown",
   "metadata": {},
   "source": [
    "<h3>Also, fine-tune the models' hyperparameters </h3>"
   ]
  },
  {
   "cell_type": "code",
   "execution_count": 21,
   "metadata": {},
   "outputs": [],
   "source": [
    "model_dir = \"models\"\n",
    "device = 'cuda' if torch.cuda.is_available() else 'cpu'\n",
    "criterion = torch.nn.MSELoss(reduction='mean')"
   ]
  },
  {
   "cell_type": "code",
   "execution_count": 22,
   "metadata": {},
   "outputs": [],
   "source": [
    "class LSTM(nn.Module):\n",
    "    def __init__(self, input_dim, hidden_dim, num_layers, output_dim):\n",
    "        super(LSTM, self).__init__()\n",
    "        self.hidden_dim = hidden_dim\n",
    "        self.num_layers = num_layers\n",
    "        \n",
    "        self.lstm = nn.LSTM(input_dim, hidden_dim, num_layers, batch_first=True)\n",
    "        self.fc = nn.Linear(hidden_dim, output_dim)\n",
    "\n",
    "    def forward(self, x):\n",
    "        h0 = torch.zeros(self.num_layers, x.size(0), self.hidden_dim).requires_grad_()\n",
    "        c0 = torch.zeros(self.num_layers, x.size(0), self.hidden_dim).requires_grad_()\n",
    "        out, (hn, cn) = self.lstm(x, (h0.detach(), c0.detach()))\n",
    "        out = self.fc(out[:, -1, :]) \n",
    "        return out"
   ]
  },
  {
   "cell_type": "code",
   "execution_count": 23,
   "metadata": {},
   "outputs": [],
   "source": [
    "class GRU(nn.Module):\n",
    "    def __init__(self, input_dim, hidden_dim, num_layers, output_dim):\n",
    "        super(GRU, self).__init__()\n",
    "        self.hidden_dim = hidden_dim\n",
    "        self.num_layers = num_layers\n",
    "        \n",
    "        self.gru = nn.GRU(input_dim, hidden_dim, num_layers, batch_first=True)\n",
    "        self.fc = nn.Linear(hidden_dim, output_dim)\n",
    "\n",
    "    def forward(self, x):\n",
    "        h0 = torch.zeros(self.num_layers, x.size(0), self.hidden_dim).requires_grad_()\n",
    "        out, (hn) = self.gru(x, (h0.detach()))\n",
    "        out = self.fc(out[:, -1, :]) \n",
    "        return out"
   ]
  },
  {
   "cell_type": "code",
   "execution_count": 24,
   "metadata": {},
   "outputs": [
    {
     "name": "stderr",
     "output_type": "stream",
     "text": [
      "C:\\Users\\noten\\AppData\\Local\\Packages\\PythonSoftwareFoundation.Python.3.11_qbz5n2kfra8p0\\LocalCache\\local-packages\\Python311\\site-packages\\tqdm\\auto.py:21: TqdmWarning: IProgress not found. Please update jupyter and ipywidgets. See https://ipywidgets.readthedocs.io/en/stable/user_install.html\n",
      "  from .autonotebook import tqdm as notebook_tqdm\n"
     ]
    }
   ],
   "source": [
    "original_model = LSTM(input_dim=input_dim, hidden_dim=hidden_dim, output_dim=output_dim, num_layers=num_layers)\n",
    "original_optimiser = torch.optim.Adam(original_model.parameters(), lr=0.01)\n",
    "\n",
    "if not train_or_load_original:\n",
    "    # load original model\n",
    "    loaded_state = torch.load(model_dir + \"/original3.pt\", map_location=device)\n",
    "    original_model.load_state_dict(loaded_state['model'])\n",
    "    original_optimiser.load_state_dict(loaded_state['opt'])"
   ]
  },
  {
   "cell_type": "code",
   "execution_count": 25,
   "metadata": {},
   "outputs": [],
   "source": [
    "def train_model(model, optimiser, data_key, num_epochs=100):\n",
    "    hist = np.zeros(num_epochs)\n",
    "    start_time = time.time()\n",
    "    lstm = []\n",
    "\n",
    "    for t in range(num_epochs):\n",
    "        y_train_pred = model(x_trains[data_key])\n",
    "\n",
    "        loss = criterion(y_train_pred, y_trains_lstm[data_key])\n",
    "        print(\"Epoch \", t, \"MSE: \", loss.item())\n",
    "        hist[t] = loss.item()\n",
    "\n",
    "        optimiser.zero_grad()\n",
    "        loss.backward()\n",
    "        optimiser.step()\n",
    "        \n",
    "    training_time = time.time()-start_time\n",
    "    print(\"Training time: {}\".format(training_time))\n",
    "    return y_train_pred, hist"
   ]
  },
  {
   "cell_type": "code",
   "execution_count": 26,
   "metadata": {},
   "outputs": [],
   "source": [
    "if need_update and train_or_load_original:\n",
    "    y_train_pred, hist = train_model(original_model, original_optimiser, 0, num_epochs=num_epochs)"
   ]
  },
  {
   "cell_type": "code",
   "execution_count": 27,
   "metadata": {},
   "outputs": [],
   "source": [
    "def graph_results(y_train_pred, hist, data_key, model='LSTM'):\n",
    "    predict = pd.DataFrame(y_scaler.inverse_transform(y_train_pred.detach().numpy())) # un-normalize data\n",
    "    original = pd.DataFrame(y_scaler.inverse_transform(y_trains_lstm[data_key].detach().numpy())) # un-normalzie data\n",
    "    \n",
    "    sns.set_style(\"darkgrid\")    \n",
    "\n",
    "    fig = plt.figure()\n",
    "    fig.subplots_adjust(hspace=0.2, wspace=0.2)\n",
    "\n",
    "    plt.subplot(1, 2, 1)\n",
    "    ax = sns.lineplot(x = original.index, y = original[0], label=\"Data\", color='royalblue')\n",
    "    \n",
    "    if model == 'LSTM':\n",
    "        ax = sns.lineplot(x = predict.index, y = predict[0], label=\"Training Prediction (LSTM)\", color='tomato')\n",
    "    else:\n",
    "        ax = sns.lineplot(x = predict.index, y = predict[0], label=f\"Training Prediction ({model})\", color='tomato')\n",
    "    ax.set_title('Stock price', size = 14, fontweight='bold')\n",
    "    ax.set_xlabel(\"Days\", size = 14)\n",
    "    ax.set_ylabel(\"Cost (USD)\", size = 14)\n",
    "    ax.set_xticklabels('', size=10)\n",
    "\n",
    "\n",
    "    plt.subplot(1, 2, 2)\n",
    "    ax = sns.lineplot(data=hist, color='royalblue')\n",
    "    ax.set_xlabel(\"Epoch\", size = 14)\n",
    "    ax.set_ylabel(\"Loss\", size = 14)\n",
    "    ax.set_title(\"Training Loss\", size = 14, fontweight='bold')\n",
    "    fig.set_figheight(6)\n",
    "    fig.set_figwidth(16)"
   ]
  },
  {
   "cell_type": "code",
   "execution_count": 28,
   "metadata": {},
   "outputs": [],
   "source": [
    "if need_update and train_or_load_original:\n",
    "    graph_results(y_train_pred, hist, 0)"
   ]
  },
  {
   "cell_type": "code",
   "execution_count": 29,
   "metadata": {},
   "outputs": [],
   "source": [
    "new_model = LSTM(input_dim=input_dim, hidden_dim=hidden_dim, output_dim=output_dim, num_layers=num_layers)\n",
    "new_optimiser = torch.optim.Adam(new_model.parameters(), lr=0.01)\n",
    "\n",
    "if not train_or_load_new:\n",
    "    # load a previous model\n",
    "    possible_models = []\n",
    "    for i in os.listdir(model_dir):\n",
    "        if 'stock-only-lstm' in i:\n",
    "            possible_models.append(i)\n",
    "            print(i)\n",
    "    \n",
    "    loaded_state = torch.load(model_dir + \"/\" + possible_models[-1], map_location=device)\n",
    "    new_model.load_state_dict(loaded_state['model'])\n",
    "    new_optimiser.load_state_dict(loaded_state['opt'])"
   ]
  },
  {
   "cell_type": "code",
   "execution_count": 30,
   "metadata": {},
   "outputs": [
    {
     "name": "stdout",
     "output_type": "stream",
     "text": [
      "Epoch  0 MSE:  0.9947549700737\n",
      "Epoch  1 MSE:  0.8923751711845398\n",
      "Epoch  2 MSE:  0.7470802664756775\n",
      "Epoch  3 MSE:  0.4763776361942291\n",
      "Epoch  4 MSE:  0.15190206468105316\n",
      "Epoch  5 MSE:  0.11534210294485092\n",
      "Epoch  6 MSE:  0.2505457401275635\n",
      "Epoch  7 MSE:  0.23139351606369019\n",
      "Epoch  8 MSE:  0.18038618564605713\n",
      "Epoch  9 MSE:  0.12641941010951996\n",
      "Epoch  10 MSE:  0.1043417677283287\n",
      "Epoch  11 MSE:  0.11031787842512131\n",
      "Epoch  12 MSE:  0.12628665566444397\n",
      "Epoch  13 MSE:  0.1376304030418396\n",
      "Epoch  14 MSE:  0.13720743358135223\n",
      "Epoch  15 MSE:  0.12549668550491333\n",
      "Epoch  16 MSE:  0.10762730985879898\n",
      "Epoch  17 MSE:  0.09026855230331421\n",
      "Epoch  18 MSE:  0.07973739504814148\n",
      "Epoch  19 MSE:  0.07774082571268082\n",
      "Epoch  20 MSE:  0.07737614959478378\n",
      "Epoch  21 MSE:  0.07100968062877655\n",
      "Epoch  22 MSE:  0.05991875007748604\n",
      "Epoch  23 MSE:  0.0501248724758625\n",
      "Epoch  24 MSE:  0.04260127618908882\n",
      "Epoch  25 MSE:  0.03668928146362305\n",
      "Epoch  26 MSE:  0.03315623849630356\n",
      "Epoch  27 MSE:  0.03070501796901226\n",
      "Epoch  28 MSE:  0.025010643526911736\n",
      "Epoch  29 MSE:  0.016299603506922722\n",
      "Epoch  30 MSE:  0.010953144170343876\n",
      "Epoch  31 MSE:  0.01162729226052761\n",
      "Epoch  32 MSE:  0.013493041507899761\n",
      "Epoch  33 MSE:  0.01175088994204998\n",
      "Epoch  34 MSE:  0.008747266605496407\n",
      "Epoch  35 MSE:  0.009571168571710587\n",
      "Epoch  36 MSE:  0.010285601951181889\n",
      "Epoch  37 MSE:  0.005694414023309946\n",
      "Epoch  38 MSE:  0.003876205300912261\n",
      "Epoch  39 MSE:  0.006762632634490728\n",
      "Epoch  40 MSE:  0.005762073677033186\n",
      "Epoch  41 MSE:  0.004364571999758482\n",
      "Epoch  42 MSE:  0.005357950925827026\n",
      "Epoch  43 MSE:  0.0036663636565208435\n",
      "Epoch  44 MSE:  0.0021815458312630653\n",
      "Epoch  45 MSE:  0.0031499138567596674\n",
      "Epoch  46 MSE:  0.0038036699406802654\n",
      "Epoch  47 MSE:  0.00327632250264287\n",
      "Epoch  48 MSE:  0.002588699571788311\n",
      "Epoch  49 MSE:  0.002977282041683793\n",
      "Epoch  50 MSE:  0.002505996497347951\n",
      "Epoch  51 MSE:  0.0016822934849187732\n",
      "Epoch  52 MSE:  0.002307262970134616\n",
      "Epoch  53 MSE:  0.0026416343171149492\n",
      "Epoch  54 MSE:  0.001907883444800973\n",
      "Epoch  55 MSE:  0.0019364291802048683\n",
      "Epoch  56 MSE:  0.002084579784423113\n",
      "Epoch  57 MSE:  0.0015791465993970633\n",
      "Epoch  58 MSE:  0.0015581429470330477\n",
      "Epoch  59 MSE:  0.0018971352837979794\n",
      "Epoch  60 MSE:  0.0018550562672317028\n",
      "Epoch  61 MSE:  0.0016259562689810991\n",
      "Epoch  62 MSE:  0.0017093574861064553\n",
      "Epoch  63 MSE:  0.001671384321525693\n",
      "Epoch  64 MSE:  0.0013584285043179989\n",
      "Epoch  65 MSE:  0.0014693767298012972\n",
      "Epoch  66 MSE:  0.0015816472005099058\n",
      "Epoch  67 MSE:  0.001422700472176075\n",
      "Epoch  68 MSE:  0.001465578330680728\n",
      "Epoch  69 MSE:  0.0014961466658860445\n",
      "Epoch  70 MSE:  0.0013664421858265996\n",
      "Epoch  71 MSE:  0.0013405390782281756\n",
      "Epoch  72 MSE:  0.0014066779986023903\n",
      "Epoch  73 MSE:  0.001374228741042316\n",
      "Epoch  74 MSE:  0.0013247502502053976\n",
      "Epoch  75 MSE:  0.0013780833687633276\n",
      "Epoch  76 MSE:  0.0013293423689901829\n",
      "Epoch  77 MSE:  0.0012630709679797292\n",
      "Epoch  78 MSE:  0.0013139175716787577\n",
      "Epoch  79 MSE:  0.0012898810673505068\n",
      "Epoch  80 MSE:  0.0012614026200026274\n",
      "Epoch  81 MSE:  0.0012935263803228736\n",
      "Epoch  82 MSE:  0.0012693727621808648\n",
      "Epoch  83 MSE:  0.001239679055288434\n",
      "Epoch  84 MSE:  0.0012568495003506541\n",
      "Epoch  85 MSE:  0.0012476255651563406\n",
      "Epoch  86 MSE:  0.0012317451182752848\n",
      "Epoch  87 MSE:  0.0012516602873802185\n",
      "Epoch  88 MSE:  0.0012352315243333578\n",
      "Epoch  89 MSE:  0.0012161365011706948\n",
      "Epoch  90 MSE:  0.0012267549755051732\n",
      "Epoch  91 MSE:  0.001207877998240292\n",
      "Epoch  92 MSE:  0.0012060137232765555\n",
      "Epoch  93 MSE:  0.0012156605953350663\n",
      "Epoch  94 MSE:  0.0012026889016851783\n",
      "Epoch  95 MSE:  0.0012025772593915462\n",
      "Epoch  96 MSE:  0.0012016328983008862\n",
      "Epoch  97 MSE:  0.0011903432896360755\n",
      "Epoch  98 MSE:  0.00119018682744354\n",
      "Epoch  99 MSE:  0.0011900408426299691\n",
      "Training time: 28.53725552558899\n"
     ]
    }
   ],
   "source": [
    "if not train_or_load_new:\n",
    "    if need_update:\n",
    "        y_pred, hist = train_model(new_model, new_optimiser, 1, num_epochs=num_tune_epochs)\n",
    "else:\n",
    "    y_pred, hist = train_model(new_model, new_optimiser, 1, num_epochs=num_epochs)"
   ]
  },
  {
   "cell_type": "code",
   "execution_count": 31,
   "metadata": {},
   "outputs": [
    {
     "data": {
      "image/png": "[encoded data removed]",
      "text/plain": [
       "<Figure size 1600x600 with 2 Axes>"
      ]
     },
     "metadata": {},
     "output_type": "display_data"
    }
   ],
   "source": [
    "if need_update or train_or_load_new:\n",
    "    graph_results(y_pred, hist, 1)"
   ]
  },
  {
   "cell_type": "code",
   "execution_count": 32,
   "metadata": {},
   "outputs": [
    {
     "name": "stdout",
     "output_type": "stream",
     "text": [
      "Epoch  0 MSE:  0.9933158755302429\n",
      "Epoch  1 MSE:  0.8397988080978394\n",
      "Epoch  2 MSE:  0.6494770050048828\n",
      "Epoch  3 MSE:  0.37688615918159485\n",
      "Epoch  4 MSE:  0.17210949957370758\n",
      "Epoch  5 MSE:  0.12944501638412476\n",
      "Epoch  6 MSE:  0.2005559206008911\n",
      "Epoch  7 MSE:  0.19551560282707214\n",
      "Epoch  8 MSE:  0.1311681568622589\n",
      "Epoch  9 MSE:  0.08883348107337952\n",
      "Epoch  10 MSE:  0.07919151335954666\n",
      "Epoch  11 MSE:  0.08423495292663574\n",
      "Epoch  12 MSE:  0.08981087058782578\n",
      "Epoch  13 MSE:  0.09165128320455551\n",
      "Epoch  14 MSE:  0.08942276239395142\n",
      "Epoch  15 MSE:  0.08252055197954178\n",
      "Epoch  16 MSE:  0.07129360735416412\n",
      "Epoch  17 MSE:  0.058789387345314026\n",
      "Epoch  18 MSE:  0.049187738448381424\n",
      "Epoch  19 MSE:  0.04371405020356178\n",
      "Epoch  20 MSE:  0.03935171291232109\n",
      "Epoch  21 MSE:  0.03375500068068504\n",
      "Epoch  22 MSE:  0.02774788811802864\n",
      "Epoch  23 MSE:  0.022682592272758484\n",
      "Epoch  24 MSE:  0.020187269896268845\n",
      "Epoch  25 MSE:  0.019471583887934685\n",
      "Epoch  26 MSE:  0.0157135222107172\n",
      "Epoch  27 MSE:  0.010171862319111824\n",
      "Epoch  28 MSE:  0.006966769695281982\n",
      "Epoch  29 MSE:  0.006705279462039471\n",
      "Epoch  30 MSE:  0.006993428338319063\n",
      "Epoch  31 MSE:  0.00610464159399271\n",
      "Epoch  32 MSE:  0.004978491459041834\n",
      "Epoch  33 MSE:  0.0052876160480082035\n",
      "Epoch  34 MSE:  0.006264436524361372\n",
      "Epoch  35 MSE:  0.006175747141242027\n",
      "Epoch  36 MSE:  0.0050791180692613125\n",
      "Epoch  37 MSE:  0.004461213946342468\n",
      "Epoch  38 MSE:  0.004682095721364021\n",
      "Epoch  39 MSE:  0.004652776289731264\n",
      "Epoch  40 MSE:  0.004023774992674589\n",
      "Epoch  41 MSE:  0.003389581572264433\n",
      "Epoch  42 MSE:  0.003333193715661764\n",
      "Epoch  43 MSE:  0.003550038207322359\n",
      "Epoch  44 MSE:  0.003128072479739785\n",
      "Epoch  45 MSE:  0.0025518459733575583\n",
      "Epoch  46 MSE:  0.0023252174723893404\n",
      "Epoch  47 MSE:  0.0023521077819168568\n",
      "Epoch  48 MSE:  0.002273821970447898\n",
      "Epoch  49 MSE:  0.0019400117453187704\n",
      "Epoch  50 MSE:  0.0018903184682130814\n",
      "Epoch  51 MSE:  0.0019893913995474577\n",
      "Epoch  52 MSE:  0.002042170148342848\n",
      "Epoch  53 MSE:  0.0018320069648325443\n",
      "Epoch  54 MSE:  0.0017007020069286227\n",
      "Epoch  55 MSE:  0.0017141994321718812\n",
      "Epoch  56 MSE:  0.0017359524499624968\n",
      "Epoch  57 MSE:  0.0016160702798515558\n",
      "Epoch  58 MSE:  0.0015427556354552507\n",
      "Epoch  59 MSE:  0.001564948121085763\n",
      "Epoch  60 MSE:  0.0015981964534148574\n",
      "Epoch  61 MSE:  0.001489418325945735\n",
      "Epoch  62 MSE:  0.0014065286377444863\n",
      "Epoch  63 MSE:  0.0013737715780735016\n",
      "Epoch  64 MSE:  0.0013742486480623484\n",
      "Epoch  65 MSE:  0.0013240901753306389\n",
      "Epoch  66 MSE:  0.001277262344956398\n",
      "Epoch  67 MSE:  0.0013069631531834602\n",
      "Epoch  68 MSE:  0.001314725261181593\n",
      "Epoch  69 MSE:  0.0012824907898902893\n",
      "Epoch  70 MSE:  0.0012493173126131296\n",
      "Epoch  71 MSE:  0.001237470074556768\n",
      "Epoch  72 MSE:  0.001238602795638144\n",
      "Epoch  73 MSE:  0.0012122651096433401\n",
      "Epoch  74 MSE:  0.0011860618833452463\n",
      "Epoch  75 MSE:  0.0011951567139476538\n",
      "Epoch  76 MSE:  0.0011956589296460152\n",
      "Epoch  77 MSE:  0.0011707148514688015\n",
      "Epoch  78 MSE:  0.0011596095282584429\n",
      "Epoch  79 MSE:  0.001164146582596004\n",
      "Epoch  80 MSE:  0.0011591349029913545\n",
      "Epoch  81 MSE:  0.001148861600086093\n",
      "Epoch  82 MSE:  0.0011467497097328305\n",
      "Epoch  83 MSE:  0.001148213050328195\n",
      "Epoch  84 MSE:  0.0011429364094510674\n",
      "Epoch  85 MSE:  0.0011330420384183526\n",
      "Epoch  86 MSE:  0.001128647942095995\n",
      "Epoch  87 MSE:  0.0011284283827990294\n",
      "Epoch  88 MSE:  0.001123909605666995\n",
      "Epoch  89 MSE:  0.0011179570574313402\n",
      "Epoch  90 MSE:  0.0011164241004735231\n",
      "Epoch  91 MSE:  0.0011145246680825949\n",
      "Epoch  92 MSE:  0.0011088002938777208\n",
      "Epoch  93 MSE:  0.0011046634754166007\n",
      "Epoch  94 MSE:  0.001103619229979813\n",
      "Epoch  95 MSE:  0.0011010823072865605\n",
      "Epoch  96 MSE:  0.0010975477052852511\n",
      "Epoch  97 MSE:  0.0010960034560412169\n",
      "Epoch  98 MSE:  0.001093862229026854\n",
      "Epoch  99 MSE:  0.0010891157435253263\n",
      "Training time: 25.213239908218384\n"
     ]
    }
   ],
   "source": [
    "# Train a model using all traits - not just stock price\n",
    "# 5 important traits - open, high, low, close, volume\n",
    "# data key is 2\n",
    "expanded_model = LSTM(input_dim=5, hidden_dim=hidden_dim, output_dim=output_dim, num_layers=num_layers)\n",
    "expanded_optimiser = torch.optim.Adam(expanded_model.parameters(), lr=0.01)\n",
    "\n",
    "if not train_or_load:\n",
    "    # load a previous model\n",
    "    possible_models = []\n",
    "    for i in os.listdir(model_dir):\n",
    "        if 'expanded-lstm' in i:\n",
    "            possible_models.append(i)\n",
    "            print(i)\n",
    "    \n",
    "    loaded_state = torch.load(model_dir + \"/\" + possible_models[-1], map_location=device)\n",
    "    expanded_model.load_state_dict(loaded_state['model'])\n",
    "    expanded_optimiser.load_state_dict(loaded_state['opt'])\n",
    "\n",
    "if not train_or_load:\n",
    "    if need_update: \n",
    "        y_pred, hist = train_model(expanded_model, expanded_optimiser, 2, num_epochs=num_tune_epochs)\n",
    "else:\n",
    "    y_pred, hist = train_model(expanded_model, expanded_optimiser, 2, num_epochs=num_epochs)\n",
    "    "
   ]
  },
  {
   "cell_type": "code",
   "execution_count": 33,
   "metadata": {},
   "outputs": [
    {
     "data": {
      "image/png": "[encoded data removed]",
      "text/plain": [
       "<Figure size 1600x600 with 2 Axes>"
      ]
     },
     "metadata": {},
     "output_type": "display_data"
    }
   ],
   "source": [
    "if need_update or train_or_load:\n",
    "    graph_results(y_pred, hist, 2)"
   ]
  },
  {
   "cell_type": "code",
   "execution_count": 34,
   "metadata": {},
   "outputs": [
    {
     "name": "stdout",
     "output_type": "stream",
     "text": [
      "Epoch  0 MSE:  1.102441430091858\n",
      "Epoch  1 MSE:  0.8663114309310913\n",
      "Epoch  2 MSE:  0.6516467928886414\n",
      "Epoch  3 MSE:  0.3889550566673279\n",
      "Epoch  4 MSE:  0.11843011528253555\n",
      "Epoch  5 MSE:  0.12296269088983536\n",
      "Epoch  6 MSE:  0.21072782576084137\n",
      "Epoch  7 MSE:  0.18275867402553558\n",
      "Epoch  8 MSE:  0.08463646471500397\n",
      "Epoch  9 MSE:  0.03842026740312576\n",
      "Epoch  10 MSE:  0.06400423496961594\n",
      "Epoch  11 MSE:  0.10020370036363602\n",
      "Epoch  12 MSE:  0.10512880980968475\n",
      "Epoch  13 MSE:  0.08224819600582123\n",
      "Epoch  14 MSE:  0.05307001993060112\n",
      "Epoch  15 MSE:  0.0357942134141922\n",
      "Epoch  16 MSE:  0.03505604341626167\n",
      "Epoch  17 MSE:  0.04407439008355141\n",
      "Epoch  18 MSE:  0.053953468799591064\n",
      "Epoch  19 MSE:  0.05672845616936684\n",
      "Epoch  20 MSE:  0.04827507212758064\n",
      "Epoch  21 MSE:  0.03379013389348984\n",
      "Epoch  22 MSE:  0.023602193221449852\n",
      "Epoch  23 MSE:  0.02297709695994854\n",
      "Epoch  24 MSE:  0.028811899945139885\n",
      "Epoch  25 MSE:  0.03426310420036316\n",
      "Epoch  26 MSE:  0.03451037406921387\n",
      "Epoch  27 MSE:  0.02924695983529091\n",
      "Epoch  28 MSE:  0.02187335304915905\n",
      "Epoch  29 MSE:  0.01681721769273281\n",
      "Epoch  30 MSE:  0.01638908125460148\n",
      "Epoch  31 MSE:  0.01913733035326004\n",
      "Epoch  32 MSE:  0.02136438712477684\n",
      "Epoch  33 MSE:  0.020491620525717735\n",
      "Epoch  34 MSE:  0.016870681196451187\n",
      "Epoch  35 MSE:  0.012939832173287868\n",
      "Epoch  36 MSE:  0.011115939356386662\n",
      "Epoch  37 MSE:  0.011894123628735542\n",
      "Epoch  38 MSE:  0.013513163663446903\n",
      "Epoch  39 MSE:  0.013652116991579533\n",
      "Epoch  40 MSE:  0.01160426251590252\n",
      "Epoch  41 MSE:  0.008834132924675941\n",
      "Epoch  42 MSE:  0.007430786732584238\n",
      "Epoch  43 MSE:  0.007952646352350712\n",
      "Epoch  44 MSE:  0.008921226486563683\n",
      "Epoch  45 MSE:  0.008617342449724674\n",
      "Epoch  46 MSE:  0.007013852242380381\n",
      "Epoch  47 MSE:  0.0055221011862158775\n",
      "Epoch  48 MSE:  0.005177878309041262\n",
      "Epoch  49 MSE:  0.005632519256323576\n",
      "Epoch  50 MSE:  0.005839721765369177\n",
      "Epoch  51 MSE:  0.005251071881502867\n",
      "Epoch  52 MSE:  0.004236109089106321\n",
      "Epoch  53 MSE:  0.0035803792998194695\n",
      "Epoch  54 MSE:  0.0036419376265257597\n",
      "Epoch  55 MSE:  0.00394141860306263\n",
      "Epoch  56 MSE:  0.003739940468221903\n",
      "Epoch  57 MSE:  0.0030319285579025745\n",
      "Epoch  58 MSE:  0.0025227589067071676\n",
      "Epoch  59 MSE:  0.002578625688329339\n",
      "Epoch  60 MSE:  0.002773607149720192\n",
      "Epoch  61 MSE:  0.002600920619443059\n",
      "Epoch  62 MSE:  0.0021525684278458357\n",
      "Epoch  63 MSE:  0.0018691520672291517\n",
      "Epoch  64 MSE:  0.0018958650762215257\n",
      "Epoch  65 MSE:  0.001968116033822298\n",
      "Epoch  66 MSE:  0.0018342986004427075\n",
      "Epoch  67 MSE:  0.0015601868508383632\n",
      "Epoch  68 MSE:  0.0014032465405762196\n",
      "Epoch  69 MSE:  0.0014522445853799582\n",
      "Epoch  70 MSE:  0.0014945236034691334\n",
      "Epoch  71 MSE:  0.0013504084199666977\n",
      "Epoch  72 MSE:  0.0011650181841105223\n",
      "Epoch  73 MSE:  0.001144804060459137\n",
      "Epoch  74 MSE:  0.0012069523800164461\n",
      "Epoch  75 MSE:  0.0011641602031886578\n",
      "Epoch  76 MSE:  0.0010463643120601773\n",
      "Epoch  77 MSE:  0.0009964413475245237\n",
      "Epoch  78 MSE:  0.0010292001534253359\n",
      "Epoch  79 MSE:  0.0010427163215354085\n",
      "Epoch  80 MSE:  0.0009838329860940576\n",
      "Epoch  81 MSE:  0.0009247939451597631\n",
      "Epoch  82 MSE:  0.0009396604727953672\n",
      "Epoch  83 MSE:  0.0009691387531347573\n",
      "Epoch  84 MSE:  0.000936140539124608\n",
      "Epoch  85 MSE:  0.0008921184344217181\n",
      "Epoch  86 MSE:  0.0008999053970910609\n",
      "Epoch  87 MSE:  0.0009191177668981254\n",
      "Epoch  88 MSE:  0.0009025216568261385\n",
      "Epoch  89 MSE:  0.0008737959433346987\n",
      "Epoch  90 MSE:  0.0008711940026842058\n",
      "Epoch  91 MSE:  0.0008847600547596812\n",
      "Epoch  92 MSE:  0.0008776304312050343\n",
      "Epoch  93 MSE:  0.0008545913733541965\n",
      "Epoch  94 MSE:  0.0008519523544237018\n",
      "Epoch  95 MSE:  0.0008624664624221623\n",
      "Epoch  96 MSE:  0.000855012855026871\n",
      "Epoch  97 MSE:  0.0008396677440032363\n",
      "Epoch  98 MSE:  0.0008388481219299138\n",
      "Epoch  99 MSE:  0.0008436234784312546\n",
      "Training time: 34.39868664741516\n"
     ]
    }
   ],
   "source": [
    "# use data key of 1 - same as the new lstm model\n",
    "new_gru = GRU(input_dim=input_dim, hidden_dim=hidden_dim, output_dim=output_dim, num_layers=num_layers)\n",
    "new_gru_optimiser = torch.optim.Adam(new_gru.parameters(), lr=0.01)\n",
    "\n",
    "if not train_or_load_gru:\n",
    "    # load a previous model\n",
    "    possible_models = []\n",
    "    for i in os.listdir(model_dir):\n",
    "        if 'stock-only-gru' in i:\n",
    "            possible_models.append(i)\n",
    "            print(i)\n",
    "    \n",
    "    loaded_state = torch.load(model_dir + \"/\" + possible_models[-1], map_location=device)\n",
    "    new_gru.load_state_dict(loaded_state['model'])\n",
    "    new_gru_optimiser.load_state_dict(loaded_state['opt'])    \n",
    "    if need_update:\n",
    "        y_pred, hist = train_model(new_gru, new_gru_optimiser, 1, num_epochs=num_tune_epochs)\n",
    "else:\n",
    "    y_pred, hist = train_model(new_gru, new_gru_optimiser, 1, num_epochs=num_epochs)"
   ]
  },
  {
   "cell_type": "code",
   "execution_count": 35,
   "metadata": {},
   "outputs": [
    {
     "data": {
      "image/png": "[encoded data removed]",
      "text/plain": [
       "<Figure size 1600x600 with 2 Axes>"
      ]
     },
     "metadata": {},
     "output_type": "display_data"
    }
   ],
   "source": [
    "if need_update or train_or_load_gru:\n",
    "    graph_results(y_pred, hist, 1, model='GRU')"
   ]
  },
  {
   "cell_type": "markdown",
   "metadata": {},
   "source": [
    "<h3>Make Predictions using Models </h3>"
   ]
  },
  {
   "cell_type": "markdown",
   "metadata": {},
   "source": [
    "Original and new LSTM model just do regression on the stock themselves \\\n",
    "Expanded model uses open, high, low, close, volume to regress stock"
   ]
  },
  {
   "cell_type": "code",
   "execution_count": 36,
   "metadata": {},
   "outputs": [],
   "source": [
    "def buy_or_sell(is_buy, start, stop, prices, days):\n",
    "    if is_buy:\n",
    "        min_price = min(prices[start:stop])\n",
    "        for j in range(start, stop):\n",
    "            if prices[j] != min_price:\n",
    "                days[j] = None\n",
    "    else:    \n",
    "        max_sell = max(prices[start:stop])\n",
    "        for j in range(start, stop):\n",
    "            if prices[j] != max_sell:\n",
    "                days[j] = None\n",
    "\n",
    "def maximize_profit(prices):\n",
    "    cur_hold, cur_not_hold = -float('inf'), 0\n",
    "    days = [None] * len(prices)\n",
    "\n",
    "    for i in range(len(prices)):\n",
    "        stock_price = prices[i]\n",
    "        prev_hold, prev_not_hold = cur_hold, cur_not_hold\n",
    "        \n",
    "        cur_hold = max(prev_hold, prev_not_hold - stock_price)\n",
    "        if prev_hold < prev_not_hold - stock_price: # if it is more worth to buy\n",
    "            days[i] = \"buy\"\n",
    "            \n",
    "        \n",
    "        cur_not_hold = max(prev_not_hold, prev_hold + stock_price)\n",
    "        if prev_not_hold < prev_hold + stock_price: # if it is more worth to sell\n",
    "            days[i] = \"sell\" \n",
    "\n",
    "    is_buy = False\n",
    "    days_to_consider = []   \n",
    "\n",
    "    for i in range(len(days)):\n",
    "        if (len(days_to_consider) > 0 and (days[i] == \"buy\") != is_buy):\n",
    "            start, stop = days_to_consider[0], days_to_consider[-1] + 1\n",
    "            buy_or_sell(is_buy, start, stop, prices, days)\n",
    "            days_to_consider = []\n",
    "        days_to_consider.append(i) \n",
    "        is_buy = days[i] == 'buy'\n",
    "        \n",
    "    if len(days_to_consider) > 0:\n",
    "        buy_or_sell(is_buy, days_to_consider[0], days_to_consider[-1] + 1, prices, days) \n",
    "        \n",
    "    return cur_not_hold, days"
   ]
  },
  {
   "cell_type": "code",
   "execution_count": 37,
   "metadata": {},
   "outputs": [
    {
     "name": "stdout",
     "output_type": "stream",
     "text": [
      "[185, 434.1848, 436.42215, 445.7885]\n",
      "([185, 434.1848, 436.42215, 445.7885], ['buy', None, None, 'sell'], 260.78851318359375)\n"
     ]
    },
    {
     "name": "stderr",
     "output_type": "stream",
     "text": [
      "C:\\Users\\noten\\AppData\\Local\\Temp\\ipykernel_5864\\1859920551.py:23: UserWarning: Creating a tensor from a list of numpy.ndarrays is extremely slow. Please consider converting the list to a single numpy.ndarray with numpy.array() before converting to a tensor. (Triggered internally at ..\\torch\\csrc\\utils\\tensor_new.cpp:278.)\n",
      "  x_pred = torch.tensor(x_pred)\n"
     ]
    }
   ],
   "source": [
    "# predict an entire week \n",
    "# NOT compatible with the expanded LSTM - do not use!!\n",
    "def predict_entire_week(model, x_pred):\n",
    "    cur_price = int(updated_data['Close'].values[-1])\n",
    "    results = [cur_price]\n",
    "    today = datetime.now()\n",
    "    days_left = max(0, 5-today.weekday()) if today.weekday() < 6 else 5\n",
    "    for i in range(days_left):\n",
    "        pred = model(x_pred)\n",
    "        x_pred = torch.cat((x_pred, pred.reshape(1,1,1)), dim=1)\n",
    "        results.append(scaler.inverse_transform(np.array(pred.detach()))[0,0])\n",
    "        \n",
    "    print(results)\n",
    "        \n",
    "    cur_not_hold, days = maximize_profit(results)\n",
    "           \n",
    "    return results, days, cur_not_hold\n",
    "\n",
    "test = True\n",
    "if test:\n",
    "    x_pred = []\n",
    "    x_pred.append(updated_price.values[-20:].astype(np.float32))\n",
    "    x_pred = torch.tensor(x_pred) \n",
    "    print(predict_entire_week(new_model, x_pred))\n"
   ]
  },
  {
   "cell_type": "code",
   "execution_count": 38,
   "metadata": {},
   "outputs": [
    {
     "name": "stdout",
     "output_type": "stream",
     "text": [
      "Original LSTM: 25.525042\n",
      "Updated LSTM: 156.8452\n",
      "Updated GRU: 192.00214\n",
      "Expanded and Updated LSTM: 194.11224\n"
     ]
    }
   ],
   "source": [
    "x_pred = []\n",
    "x_pred.append(updated_price.values[-20:].astype(np.float32))\n",
    "x_pred = torch.tensor(x_pred) \n",
    "output_dir = \"data\"\n",
    "date = str(datetime.now()).replace(\":\", \".\")\n",
    "\n",
    "next_price_original =  y_scaler.inverse_transform(np.array(original_model(x_pred).detach()))[0,0] \n",
    "print(\"Original LSTM:\", next_price_original)\n",
    "\n",
    "next_price_new = y_scaler.inverse_transform(np.array(new_model(x_pred).detach()))[0,0]\n",
    "print(\"Updated LSTM:\", next_price_new)\n",
    "\n",
    "next_price_gru = y_scaler.inverse_transform(np.array(new_gru(x_pred).detach()))[0,0]\n",
    "print(\"Updated GRU:\", next_price_gru)\n",
    "\n",
    "data = updated_data.iloc[-20:,1:6]\n",
    "n = len(data.iloc[0,:])\n",
    "for i in range(n - 1):\n",
    "    data.iloc[:,i] = scaler.fit_transform(data.iloc[:,i].values.reshape(-1,1))\n",
    "data.iloc[:,n-1] = volume_scaler.fit_transform(data.iloc[:, n-1].values.reshape(-1,1))\n",
    "x_pred = []\n",
    "x_pred.append(data.values[-20:].astype(np.float32)) # giving all values breaks it\n",
    "x_pred = torch.tensor(x_pred)\n",
    "next_price_expanded = scaler.inverse_transform(np.array(expanded_model(x_pred).detach()))[0,0]\n",
    "print(\"Expanded and Updated LSTM:\", next_price_expanded)\n",
    "\n",
    "with open(\"predictions/original_predictions \" + date + \".txt\", \"w\") as file:\n",
    "    file.write(str(next_price_original)) # original is predicting stock values too low - needs a fix?\n",
    "with open(\"predictions/new_predictions \" + date + \".txt\", \"w\") as file:\n",
    "    file.write(str(next_price_new)) \n",
    "with open(\"predictions/new_and_expanded_predictions \" + date + \".txt\", \"w\") as file:\n",
    "    file.write(str(next_price_expanded))"
   ]
  },
  {
   "cell_type": "code",
   "execution_count": 40,
   "metadata": {},
   "outputs": [],
   "source": [
    "folder_dir = \"models/\"\n",
    "files = os.listdir(folder_dir)\n",
    "while len(os.listdir(folder_dir)) > 100:\n",
    "    os.remove(folder_dir + files.pop(0))\n",
    "\n",
    "filename = str(datetime.now()).replace(\":\", \".\") + \".pt\"\n",
    "\n",
    "if train_or_load_original:\n",
    "    torch.save({\n",
    "        \"model\":original_model.state_dict(),\n",
    "        \"opt\":original_optimiser.state_dict()\n",
    "    }, folder_dir + \"/original3.pt\")  \n",
    "torch.save({ \n",
    "    \"model\": new_model.state_dict(),\n",
    "    \"opt\": new_optimiser.state_dict()\n",
    "}, folder_dir + \"/stock-only-lstm \" + filename)\n",
    "torch.save({ \n",
    "    \"model\": expanded_model.state_dict(),\n",
    "    \"opt\": expanded_optimiser.state_dict()\n",
    "}, folder_dir + \"/expanded-lstm \" + filename)\n",
    "torch.save({ \n",
    "    \"model\": new_gru.state_dict(),\n",
    "    \"opt\": new_gru_optimiser.state_dict()\n",
    "}, folder_dir + \"/stock-only-gru \" + filename)"
   ]
  },
  {
   "cell_type": "markdown",
   "metadata": {},
   "source": [
    "<h3> Verifying Accuracy of Models </h3>"
   ]
  },
  {
   "cell_type": "code",
   "execution_count": 41,
   "metadata": {},
   "outputs": [
    {
     "name": "stdout",
     "output_type": "stream",
     "text": [
      "MSE of Original LSTM 11.534589767456055\n",
      "MSE of New LSTM 0.030978504568338394\n",
      "MSE of New GRU 0.019510824233293533\n",
      "MSE of Expanded Model 0.02034657821059227\n"
     ]
    }
   ],
   "source": [
    "def verify(model, key):\n",
    "    x = x_tests[key]\n",
    "    y = y_tests_lstm[key]\n",
    "    pred = model(x)\n",
    "    mse = criterion(pred, y) # function only uses lists or numpy arrays\n",
    "    return mse.item()\n",
    "\n",
    "print(\"MSE of Original LSTM\", verify(original_model, 0))\n",
    "print(\"MSE of New LSTM\", verify(new_model, 1))\n",
    "print(\"MSE of New GRU\", verify(new_gru, 1))\n",
    "print(\"MSE of Expanded Model\", verify(expanded_model, 2))"
   ]
  }
 ],
 "metadata": {
  "kernelspec": {
   "display_name": "Python 3",
   "language": "python",
   "name": "python3"
  },
  "language_info": {
   "codemirror_mode": {
    "name": "ipython",
    "version": 3
   },
   "file_extension": ".py",
   "mimetype": "text/x-python",
   "name": "python",
   "nbconvert_exporter": "python",
   "pygments_lexer": "ipython3",
   "version": "3.11.9"
  }
 },
 "nbformat": 4,
 "nbformat_minor": 2
}
