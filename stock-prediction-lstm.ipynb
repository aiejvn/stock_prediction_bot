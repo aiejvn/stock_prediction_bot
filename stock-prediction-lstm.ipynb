{
 "cells": [
  {
   "cell_type": "markdown",
   "metadata": {},
   "source": [
    "TIER 1:\\\n",
    "set up the prediction lstm on amazon data, and \\\n",
    "set up data-scraping from key stock website \n",
    "\n",
    "TIER 2:\\\n",
    "try to have it save and load models from a folder\\\n",
    "also only keep 5 models at a time, delete old ones\\\n",
    "test a variety of parameters of the lstm automatically, retain and save only the best ones"
   ]
  },
  {
   "cell_type": "code",
   "execution_count": 421,
   "metadata": {},
   "outputs": [],
   "source": [
    "import numpy as np # linear algebra\n",
    "import pandas as pd # data processing, CSV file I/O (e.g. pd.read_csv)\n",
    "import os\n",
    "import matplotlib.pyplot as plt\n",
    "import seaborn as sns\n",
    "import torch\n",
    "import torch.nn as nn\n",
    "from datetime import datetime\n",
    "from bs4 import BeautifulSoup\n",
    "import requests\n",
    "from sklearn.preprocessing import MinMaxScaler, StandardScaler\n",
    "from sklearn.model_selection import train_test_split\n",
    "import time\n",
    "import seaborn as sns"
   ]
  },
  {
   "cell_type": "markdown",
   "metadata": {},
   "source": [
    "<h3>Preprocess all data</h3>\n",
    "Make sure we split before we feature scale train and test (TODO)"
   ]
  },
  {
   "cell_type": "code",
   "execution_count": 422,
   "metadata": {},
   "outputs": [],
   "source": [
    "initial = False # True if we have no data - tweaks may be needed\n",
    "# scaler = MinMaxScaler(feature_range=(-1, 1))\n",
    "# x_scaler = StandardScaler()\n",
    "# y_scaler = StandardScaler()\n",
    "\n",
    "# each model needs its own scaler\n",
    "scalers = []\n",
    "for i in range(4): # 0 for original, 1 for new, 2 for expanded, 3 for gru\n",
    "    scalers.append(\n",
    "        {\n",
    "            \"x_scaler\":StandardScaler(),\n",
    "            \"y_scaler\": StandardScaler()\n",
    "        }\n",
    "    )\n",
    "\n",
    "input_dim = 1\n",
    "hidden_dim = 32\n",
    "num_layers = 2\n",
    "output_dim = 1\n",
    "num_epochs = 100 # 100 originally, 150 seems to give good results \n",
    "num_tune_epochs = 3 # recommended to keep # of training epochs between 3 and 10 when fine-tuning models (3-5 for simple ones) \n",
    "\n",
    "# True for Train, False for Load\n",
    "train_or_load_original = True # separate modifier because original model's performance is very unreliable\n",
    "train_or_load_new = True\n",
    "train_or_load = True\n",
    "train_or_load_gru = True"
   ]
  },
  {
   "cell_type": "code",
   "execution_count": 423,
   "metadata": {},
   "outputs": [],
   "source": [
    "def save_data(data, date = None):\n",
    "    if not date:\n",
    "        date = f\"{str(datetime.now()).replace(':','.')}.csv\"\n",
    "    os.makedirs(\"data\", exist_ok=True)\n",
    "    contents = os.listdir(\"data\")\n",
    "    for item in contents:\n",
    "        if date[:10] in item:\n",
    "            os.remove(\"data/\" + item)\n",
    "    if f\"data/{date}\" not in os.listdir(\"data\"):\n",
    "        data.to_csv(\"data/\" + date, index=False)\n",
    "        \n",
    "def read_data(filepath, sort_column = None):\n",
    "    data = pd.read_csv(filepath)\n",
    "    if sort_column:\n",
    "        data = data.sort_values(sort_column)\n",
    "    data.head()\n",
    "    price = data[['Close']] \n",
    "    price['Close'] = price['Close'].values.reshape(-1,1)\n",
    "    return data, price"
   ]
  },
  {
   "cell_type": "code",
   "execution_count": 424,
   "metadata": {},
   "outputs": [
    {
     "name": "stdout",
     "output_type": "stream",
     "text": [
      "    Close\n",
      "4  173.67\n",
      "3  179.62\n",
      "2  180.96\n",
      "1  175.84\n",
      "0  178.97\n",
      "         Date    Open    High     Low   Close    Volume  Name\n",
      "4  04/25/2024  169.68  173.92  166.32  173.67  49250000  AMZN\n",
      "3  04/26/2024  177.79  180.82  176.13  179.62  43920000  AMZN\n",
      "2  04/29/2024  182.65  183.50  179.39  180.96  52080000  AMZN\n",
      "1  04/30/2024  181.01  182.02  175.05  175.84  61800000  AMZN\n",
      "0  05/01/2024  181.68  185.12  176.57  178.97  87860000  AMZN\n"
     ]
    },
    {
     "name": "stderr",
     "output_type": "stream",
     "text": [
      "C:\\Users\\noten\\AppData\\Local\\Temp\\ipykernel_10088\\3546848102.py:14: SettingWithCopyWarning: \n",
      "A value is trying to be set on a copy of a slice from a DataFrame.\n",
      "Try using .loc[row_indexer,col_indexer] = value instead\n",
      "\n",
      "See the caveats in the documentation: https://pandas.pydata.org/pandas-docs/stable/user_guide/indexing.html#returning-a-view-versus-a-copy\n",
      "  price['Close'] = price['Close'].values.reshape(-1,1)\n"
     ]
    }
   ],
   "source": [
    "data = pd.read_csv(\"relevant-stock-data/AMZN Historical Data Fixed.csv\")\n",
    "data = data.iloc[::-1]\n",
    "data = data[['Date', 'Open', 'High', 'Low', 'Price', 'Vol.']]\n",
    "data = data.rename(columns={'Price' : 'Close', 'Vol.' : 'Volume'})\n",
    "data['Name'] = ['AMZN']*len(data['Date'])\n",
    "\n",
    "for i in range(len(data['Volume'])): # iloc for integer based assignment of multiple cells, iat for integer based assignment on a single cell\n",
    "    if 'M' in data['Volume'].iat[i]:\n",
    "        data['Volume'].iat[i] = str(int(float(data['Volume'].iat[i][:-1]) * 1e6))\n",
    "    if 'B' in data['Volume'].iat[i]:\n",
    "        data['Volume'].iat[i] = str(int(float(data['Volume'].iat[i][:-1]) * 1e9))\n",
    "\n",
    "price = data[['Close']]\n",
    "price['Close'] = price['Close'].values.reshape(-1,1)\n",
    "# price['Close'] = scaler.fit_transform(price['Close'].values.reshape(-1,1))\n",
    "print(price.iloc[-5:])\n",
    "print(data.iloc[-5:])"
   ]
  },
  {
   "cell_type": "code",
   "execution_count": 425,
   "metadata": {},
   "outputs": [],
   "source": [
    "def split_data(data, stock, lookback, key):\n",
    "    x_scaler = scalers[key]['x_scaler']\n",
    "    y_scaler = scalers[key]['y_scaler']\n",
    "    data_raw = stock.to_numpy() # convert to numpy array\n",
    "    data = []\n",
    "    \n",
    "    # create all possible sequences of length seq_len\n",
    "    for index in range(len(data_raw) - lookback): \n",
    "        data.append(data_raw[index: index + lookback])\n",
    "    data = np.array(data)\n",
    "    print(data.shape)\n",
    "    test_set_size = int(np.round(0.2*data.shape[0]))\n",
    "    train_set_size = data.shape[0] - (test_set_size)\n",
    "    x = data[:, :-1, :]\n",
    "    y = data[:, -1, :]\n",
    "        \n",
    "    # print(x.shape)\n",
    "    # print(y.shape)\n",
    "    \n",
    "    x_train, x_test, y_train, y_test = train_test_split(x, y, test_size=0.2, random_state=42)\n",
    "\n",
    "    x_train[:,:,0] = x_scaler.fit_transform(x_train[:,:,0])\n",
    "    x_test[:,:,0] = x_scaler.transform(x_test[:,:,0])\n",
    "    y_train = y_scaler.fit_transform(y_train)\n",
    "    y_test = y_scaler.transform(y_test)\n",
    "    \n",
    "    return [x_train, y_train, x_test, y_test]"
   ]
  },
  {
   "cell_type": "code",
   "execution_count": 426,
   "metadata": {},
   "outputs": [],
   "source": [
    "# 0 for the original, 1 for our new lstm and gru, 2 for the expanded lstm \n",
    "# expected to have many models - lists preferred over dictionaries\n",
    "x_trains = []\n",
    "y_trains_lstm = []\n",
    "x_tests = []\n",
    "y_tests_lstm = []"
   ]
  },
  {
   "cell_type": "code",
   "execution_count": 427,
   "metadata": {},
   "outputs": [
    {
     "name": "stdout",
     "output_type": "stream",
     "text": [
      "(4593, 20, 1)\n",
      "x_train.shape =  (3674, 19, 1)\n",
      "y_train.shape =  (3674, 1)\n",
      "x_test.shape =  (919, 19, 1)\n",
      "y_test.shape =  (919, 1)\n"
     ]
    }
   ],
   "source": [
    "lookback = 20 # choose sequence length\n",
    "\n",
    "x_train, y_train, x_test, y_test = split_data(data, price, lookback, 0)\n",
    "print('x_train.shape = ',x_train.shape)\n",
    "print('y_train.shape = ',y_train.shape)\n",
    "print('x_test.shape = ',x_test.shape)\n",
    "print('y_test.shape = ',y_test.shape)"
   ]
  },
  {
   "cell_type": "code",
   "execution_count": 428,
   "metadata": {},
   "outputs": [],
   "source": [
    "# Convert arrays to Pytorch arrays using .from_numpy()\n",
    "# Set type to torch tensors using .type(torch.Tensor)\n",
    "x_train = torch.from_numpy(x_train).type(torch.Tensor)\n",
    "x_test = torch.from_numpy(x_test).type(torch.Tensor)\n",
    "y_train_lstm = torch.from_numpy(y_train).type(torch.Tensor)\n",
    "y_test_lstm = torch.from_numpy(y_test).type(torch.Tensor)\n",
    "\n",
    "x_trains.append(x_train)\n",
    "x_tests.append(x_test)\n",
    "y_trains_lstm.append(y_train_lstm)\n",
    "y_tests_lstm.append(y_test_lstm)"
   ]
  },
  {
   "cell_type": "code",
   "execution_count": 429,
   "metadata": {},
   "outputs": [
    {
     "name": "stdout",
     "output_type": "stream",
     "text": [
      "data/2024-05-16 17.46.22.638728.csv\n"
     ]
    }
   ],
   "source": [
    "# is this necessary? data kinda already fulfills this purpose\n",
    "\n",
    "if not initial:\n",
    "    print(\"data/\" + os.listdir(\"data\")[-1]) # do we save the wrong data?\n",
    "    data = pd.read_csv(\"data/\" + os.listdir(\"data\")[-1])"
   ]
  },
  {
   "cell_type": "markdown",
   "metadata": {},
   "source": [
    "Automatically Updating Data"
   ]
  },
  {
   "cell_type": "code",
   "execution_count": 430,
   "metadata": {},
   "outputs": [
    {
     "name": "stdout",
     "output_type": "stream",
     "text": [
      "20\n",
      "05/16/2024\n",
      "2024-05-16\n"
     ]
    }
   ],
   "source": [
    "cur_time = int(str(datetime.now())[11:13])\n",
    "print(cur_time) # the current hour\n",
    "# While today is not in the data, keep adding rows\n",
    "most_recent_date = data['Date'].iloc[-1]\n",
    "# most_recent_date = most_recent_date[-4:] + \"-\" + most_recent_date[:2] + \"-\" + most_recent_date[3:5] \n",
    "print(most_recent_date) # broken lol\n",
    "print(str(datetime.now())[:10])"
   ]
  },
  {
   "cell_type": "code",
   "execution_count": 431,
   "metadata": {},
   "outputs": [
    {
     "data": {
      "text/plain": [
       "[]"
      ]
     },
     "execution_count": 431,
     "metadata": {},
     "output_type": "execute_result"
    }
   ],
   "source": [
    "def get_updated_data():\n",
    "    count_today = cur_time >= 16 # has the market closed yet? T if yes, F if no.\n",
    "    url = \"https://www.investing.com/equities/amazon-com-inc-historical-data\"\n",
    "    page = requests.get(url)\n",
    "        \n",
    "    soup = BeautifulSoup(page.text, 'html.parser')\n",
    "        \n",
    "    # Need: Open, High, Low, Close, Volume, Name\n",
    "    all_date_class = \"freeze-column-w-1 w-full overflow-x-auto text-xs leading-4\"\n",
    "    table = soup.find('table', {'class': all_date_class})\n",
    "    rows = table.find_all('tr')\n",
    "    \n",
    "    table_data = []\n",
    "    for row in rows:\n",
    "        row_data = []\n",
    "        for cell in row.find_all(['td']):\n",
    "            row_data.append(cell.text)\n",
    "        if row_data and count_today:\n",
    "            \n",
    "            for i in range(len(row_data)):\n",
    "                if 'M' in row_data[i]:\n",
    "                    row_data[i] = str(int(float(row_data[i][:-1]) * 1e6)) # all data values are rounded so we round too\n",
    "            # print(row_data)\n",
    "            if most_recent_date in row_data:\n",
    "                break # we've caught up\n",
    "            table_data.append(row_data)\n",
    "        else:\n",
    "            count_today = True\n",
    "\n",
    "    # print(table_data)\n",
    "    return table_data\n",
    "\n",
    "get_updated_data()"
   ]
  },
  {
   "cell_type": "code",
   "execution_count": 432,
   "metadata": {},
   "outputs": [
    {
     "name": "stdout",
     "output_type": "stream",
     "text": [
      "False\n"
     ]
    }
   ],
   "source": [
    "date_updated = most_recent_date[-4:] + \"-\" + most_recent_date[:2] + \"-\" + most_recent_date[3:5] \n",
    "need_update = not date_updated == str(datetime.now())[:10] and cur_time >= 16\n",
    "print(need_update)\n",
    "\n",
    "if need_update:\n",
    "    # old_data = pd.read_csv('data/' + os.listdir('data')[-1])\n",
    "\n",
    "    # for now, we will only focus on updating day by day\n",
    "    new_data = get_updated_data()[::-1] # newest dates are returned first\n",
    "    start_index = len(data['Date'])\n",
    "        \n",
    "    for i in range(len(new_data)): # adds data backwards, please fix\n",
    "        new_values = new_data[i] # comes as date, price (close), open, high, low, vol, change\n",
    "    \n",
    "        # new_values = get_updated_data()[0] \n",
    "        print(pd.DataFrame(new_values).head())\n",
    "        \n",
    "        # read, write, then save the new values inside our most recent table\n",
    "        data.loc[start_index + i] = [new_values[0], new_values[2], new_values[3], new_values[4], new_values[1], new_values[5], \"AMZN\"] # may be deprecated in future, we'll see\n",
    "    \n",
    "    # print(old_data.head())\n",
    "    # print(len(old_data['Date']))\n",
    "    # print(old_data['Date'].iloc[-1])\n",
    "    \n",
    "    # result.to_csv(\"data/\" + str(datetime.now()).replace(\":\",\".\") + \".csv\", index=False)\n",
    "    save_data(data)"
   ]
  },
  {
   "cell_type": "code",
   "execution_count": 433,
   "metadata": {},
   "outputs": [
    {
     "name": "stdout",
     "output_type": "stream",
     "text": [
      "data/2024-05-16 17.46.22.638728.csv\n",
      "            Date    Open    High     Low   Close    Volume  Name\n",
      "4619  05/10/2024  188.98  189.87  186.93  187.48  28560000  AMZN\n",
      "4620  05/13/2024  188.00  188.18  185.36  186.57  21690000  AMZN\n",
      "4621  05/14/2024  183.82  187.71  183.50  187.07  38630000  AMZN\n",
      "4622  05/15/2024  185.97  186.65  182.85  185.99  69740000  AMZN\n",
      "4623  05/16/2024  185.60  187.30  183.47  183.60  38100000  AMZN\n",
      "       Close\n",
      "4619  187.48\n",
      "4620  186.57\n",
      "4621  187.07\n",
      "4622  185.99\n",
      "4623  183.60\n"
     ]
    },
    {
     "name": "stderr",
     "output_type": "stream",
     "text": [
      "C:\\Users\\noten\\AppData\\Local\\Temp\\ipykernel_10088\\464067802.py:18: SettingWithCopyWarning: \n",
      "A value is trying to be set on a copy of a slice from a DataFrame.\n",
      "Try using .loc[row_indexer,col_indexer] = value instead\n",
      "\n",
      "See the caveats in the documentation: https://pandas.pydata.org/pandas-docs/stable/user_guide/indexing.html#returning-a-view-versus-a-copy\n",
      "  price['Close'] = price['Close'].values.reshape(-1,1)\n"
     ]
    }
   ],
   "source": [
    "updated_data, updated_price = read_data('data/' + os.listdir(\"data\")[-1])\n",
    "print('data/' + os.listdir(\"data\")[-1])\n",
    "print(updated_data.iloc[-5:])\n",
    "print(updated_price.iloc[-5:])"
   ]
  },
  {
   "cell_type": "code",
   "execution_count": 434,
   "metadata": {},
   "outputs": [
    {
     "name": "stdout",
     "output_type": "stream",
     "text": [
      "2024-05-16\n"
     ]
    }
   ],
   "source": [
    "if('2024-04-26' not in str(datetime.now())): # initial date\n",
    "    if need_update:\n",
    "        save_data(data)  \n",
    "else:\n",
    "    save_data('2024-04-26 00.00.000000')\n",
    "print(str(datetime.now())[:10])"
   ]
  },
  {
   "cell_type": "code",
   "execution_count": 435,
   "metadata": {},
   "outputs": [
    {
     "name": "stdout",
     "output_type": "stream",
     "text": [
      "(4604, 20, 1)\n",
      "x_train.shape =  (3683, 19, 1)\n",
      "y_train.shape =  (3683, 1)\n",
      "x_test.shape =  (921, 19, 1)\n",
      "y_test.shape =  (921, 1)\n"
     ]
    }
   ],
   "source": [
    "lookback = 20 # choose sequence length\n",
    "x_train, y_train, x_test, y_test = split_data(updated_data, updated_price, lookback, 1)\n",
    "print('x_train.shape = ',x_train.shape)\n",
    "print('y_train.shape = ',y_train.shape)\n",
    "print('x_test.shape = ',x_test.shape)\n",
    "print('y_test.shape = ',y_test.shape)\n",
    "\n",
    "# print(x_train[0])\n",
    "# print(y_train[0])\n",
    "# print(x_test[0])\n",
    "# print(y_test[0])"
   ]
  },
  {
   "cell_type": "code",
   "execution_count": 436,
   "metadata": {},
   "outputs": [],
   "source": [
    "x_train = torch.from_numpy(x_train).type(torch.Tensor)\n",
    "x_test = torch.from_numpy(x_test).type(torch.Tensor)\n",
    "y_train_lstm = torch.from_numpy(y_train).type(torch.Tensor)\n",
    "y_test_lstm = torch.from_numpy(y_test).type(torch.Tensor)\n",
    "\n",
    "x_trains.append(x_train)\n",
    "x_tests.append(x_test)\n",
    "y_trains_lstm.append(y_train_lstm)\n",
    "y_tests_lstm.append(y_test_lstm)"
   ]
  },
  {
   "cell_type": "code",
   "execution_count": 437,
   "metadata": {},
   "outputs": [],
   "source": [
    "volume_scaler = MinMaxScaler(feature_range=(-1, 1)) # The volumes are in the millions and would mess up our scaler\n",
    "column_scaler = StandardScaler()"
   ]
  },
  {
   "cell_type": "code",
   "execution_count": 438,
   "metadata": {},
   "outputs": [
    {
     "name": "stdout",
     "output_type": "stream",
     "text": [
      "            Date    Open    High     Low   Close    Volume  Name\n",
      "4619  05/10/2024  188.98  189.87  186.93  187.48  28560000  AMZN\n",
      "4620  05/13/2024  188.00  188.18  185.36  186.57  21690000  AMZN\n",
      "4621  05/14/2024  183.82  187.71  183.50  187.07  38630000  AMZN\n",
      "4622  05/15/2024  185.97  186.65  182.85  185.99  69740000  AMZN\n",
      "4623  05/16/2024  185.60  187.30  183.47  183.60  38100000  AMZN\n",
      "(4604, 19, 5)\n",
      "(4604, 1)\n",
      "x_train.shape =  (3683, 19, 5)\n",
      "y_train.shape =  (3683, 1)\n",
      "x_test.shape =  (921, 19, 5)\n",
      "y_test.shape =  (921, 1)\n"
     ]
    },
    {
     "name": "stderr",
     "output_type": "stream",
     "text": [
      "C:\\Users\\noten\\AppData\\Local\\Temp\\ipykernel_10088\\464067802.py:18: SettingWithCopyWarning: \n",
      "A value is trying to be set on a copy of a slice from a DataFrame.\n",
      "Try using .loc[row_indexer,col_indexer] = value instead\n",
      "\n",
      "See the caveats in the documentation: https://pandas.pydata.org/pandas-docs/stable/user_guide/indexing.html#returning-a-view-versus-a-copy\n",
      "  price['Close'] = price['Close'].values.reshape(-1,1)\n"
     ]
    }
   ],
   "source": [
    "def split_data_expanded(data, stock, lookback):\n",
    "    x_scaler = scalers[2]['x_scaler']\n",
    "    y_scaler = scalers[2]['y_scaler']\n",
    "    data_raw = data[['Open', 'High', 'Low', 'Close', 'Volume']]\n",
    "    stock_raw = stock.to_numpy() # convert to numpy array\n",
    "    # x = []\n",
    "    # y = []    \n",
    "    all_data = []\n",
    "    \n",
    "    data_raw = data_raw.to_numpy()\n",
    "    \n",
    "    # create all possible sequences of length seq_len\n",
    "    for index in range(len(stock_raw) - lookback): \n",
    "        all_data.append(data_raw[index: index + lookback])\n",
    "    \n",
    "    all_data = np.array(all_data)\n",
    "    x = all_data[:,:-1,:]    \n",
    "    y = all_data[:,-1,3].reshape(-1,1) # we want the price column\n",
    "    # x = np.array(x)\n",
    "    # y = np.array(y)\n",
    "    \n",
    "    print(x.shape)\n",
    "    print(y.shape)\n",
    "    \n",
    "    test_set_size = int(np.round(0.2*y.shape[0])) # 80-20 train-test split\n",
    "    train_set_size = y.shape[0] - (test_set_size)\n",
    "    \n",
    "    # split, then feature scale\n",
    "    x_train, x_test, y_train, y_test = train_test_split(x, y, test_size = 0.2, random_state=42)\n",
    "    # scale all values in data_raw\n",
    "    # when reading in values, we only min-max the values of stock\n",
    "    \n",
    "    for i in range(x.shape[2]): # each category\n",
    "        # scaler.fit(x[:train_set_size,:,i])\n",
    "        x_train[:,:,i] = column_scaler.fit_transform(x_train[:, :, i])\n",
    "        x_test[:,:,i] = column_scaler.transform(x_test[:,:,i])\n",
    "    \n",
    "    y_train = y_scaler.fit_transform(y_train)\n",
    "    y_test = y_scaler.transform(y_test)\n",
    "    \n",
    "    # x_train, x_test, y_train, y_test = train_test_split(x, y, test_size=0.2, random_state=42)\n",
    "    \n",
    "    return [x_train, y_train, x_test, y_test]\n",
    "\n",
    "# Test code\n",
    "test = True\n",
    "if test:\n",
    "    test_data, test_stock = read_data(\"data/\" + os.listdir(\"data\")[-1])\n",
    "    print(test_data.iloc[-5:])\n",
    "    x_train, y_train, x_test, y_test = split_data_expanded(test_data, test_stock, 20)\n",
    "    print('x_train.shape = ',x_train.shape)\n",
    "    print('y_train.shape = ',y_train.shape)\n",
    "    print('x_test.shape = ',x_test.shape)\n",
    "    print('y_test.shape = ',y_test.shape)"
   ]
  },
  {
   "cell_type": "code",
   "execution_count": 439,
   "metadata": {},
   "outputs": [
    {
     "name": "stdout",
     "output_type": "stream",
     "text": [
      "(4604, 19, 5)\n",
      "(4604, 1)\n",
      "x_train.shape =  (3683, 19, 5)\n",
      "y_train.shape =  (3683, 1)\n",
      "x_test.shape =  (921, 19, 5)\n",
      "y_test.shape =  (921, 1)\n"
     ]
    }
   ],
   "source": [
    "# train, test key is 2\n",
    "x_train, y_train, x_test, y_test = split_data_expanded(updated_data, updated_price, lookback)\n",
    "print('x_train.shape = ',x_train.shape)\n",
    "print('y_train.shape = ',y_train.shape)\n",
    "print('x_test.shape = ',x_test.shape)\n",
    "print('y_test.shape = ',y_test.shape)"
   ]
  },
  {
   "cell_type": "code",
   "execution_count": 440,
   "metadata": {},
   "outputs": [],
   "source": [
    "x_train = torch.from_numpy(x_train).type(torch.Tensor)\n",
    "x_test = torch.from_numpy(x_test).type(torch.Tensor)\n",
    "y_train_lstm = torch.from_numpy(y_train).type(torch.Tensor)\n",
    "y_test_lstm = torch.from_numpy(y_test).type(torch.Tensor)\n",
    "\n",
    "x_trains.append(x_train)\n",
    "x_tests.append(x_test)\n",
    "y_trains_lstm.append(y_train_lstm)\n",
    "y_tests_lstm.append(y_test_lstm)"
   ]
  },
  {
   "cell_type": "code",
   "execution_count": 441,
   "metadata": {},
   "outputs": [
    {
     "name": "stdout",
     "output_type": "stream",
     "text": [
      "(4604, 20, 1)\n",
      "x_train.shape =  (3683, 19, 1)\n",
      "y_train.shape =  (3683, 1)\n",
      "x_test.shape =  (921, 19, 1)\n",
      "y_test.shape =  (921, 1)\n"
     ]
    }
   ],
   "source": [
    "# train, test key is 3\n",
    "x_train, y_train, x_test, y_test = split_data(updated_data, updated_price, lookback, 3)\n",
    "print('x_train.shape = ',x_train.shape)\n",
    "print('y_train.shape = ',y_train.shape)\n",
    "print('x_test.shape = ',x_test.shape)\n",
    "print('y_test.shape = ',y_test.shape)"
   ]
  },
  {
   "cell_type": "code",
   "execution_count": 442,
   "metadata": {},
   "outputs": [],
   "source": [
    "x_train = torch.from_numpy(x_train).type(torch.Tensor)\n",
    "x_test = torch.from_numpy(x_test).type(torch.Tensor)\n",
    "y_train_lstm = torch.from_numpy(y_train).type(torch.Tensor)\n",
    "y_test_lstm = torch.from_numpy(y_test).type(torch.Tensor)\n",
    "\n",
    "x_trains.append(x_train)\n",
    "x_tests.append(x_test)\n",
    "y_trains_lstm.append(y_train_lstm)\n",
    "y_tests_lstm.append(y_test_lstm)"
   ]
  },
  {
   "cell_type": "markdown",
   "metadata": {},
   "source": [
    "<h3>Train models - one on the provided data, rest on the collected data</h3>"
   ]
  },
  {
   "cell_type": "markdown",
   "metadata": {},
   "source": [
    "<h3>Also, fine-tune the models' hyperparameters </h3>"
   ]
  },
  {
   "cell_type": "code",
   "execution_count": 443,
   "metadata": {},
   "outputs": [],
   "source": [
    "model_dir = \"models\"\n",
    "device = 'cuda' if torch.cuda.is_available() else 'cpu'\n",
    "criterion = torch.nn.MSELoss(reduction='mean')"
   ]
  },
  {
   "cell_type": "code",
   "execution_count": 444,
   "metadata": {},
   "outputs": [],
   "source": [
    "class LSTM(nn.Module):\n",
    "    def __init__(self, input_dim, hidden_dim, num_layers, output_dim):\n",
    "        super(LSTM, self).__init__()\n",
    "        self.hidden_dim = hidden_dim\n",
    "        self.num_layers = num_layers\n",
    "        \n",
    "        self.lstm = nn.LSTM(input_dim, hidden_dim, num_layers, batch_first=True)\n",
    "        self.fc = nn.Linear(hidden_dim, output_dim)\n",
    "\n",
    "    def forward(self, x):\n",
    "        h0 = torch.zeros(self.num_layers, x.size(0), self.hidden_dim).requires_grad_()\n",
    "        c0 = torch.zeros(self.num_layers, x.size(0), self.hidden_dim).requires_grad_()\n",
    "        out, (hn, cn) = self.lstm(x, (h0.detach(), c0.detach()))\n",
    "        out = self.fc(out[:, -1, :]) \n",
    "        return out"
   ]
  },
  {
   "cell_type": "code",
   "execution_count": 445,
   "metadata": {},
   "outputs": [],
   "source": [
    "class GRU(nn.Module):\n",
    "    def __init__(self, input_dim, hidden_dim, num_layers, output_dim):\n",
    "        super(GRU, self).__init__()\n",
    "        self.hidden_dim = hidden_dim\n",
    "        self.num_layers = num_layers\n",
    "        \n",
    "        self.gru = nn.GRU(input_dim, hidden_dim, num_layers, batch_first=True)\n",
    "        self.fc = nn.Linear(hidden_dim, output_dim)\n",
    "\n",
    "    def forward(self, x):\n",
    "        h0 = torch.zeros(self.num_layers, x.size(0), self.hidden_dim).requires_grad_()\n",
    "        out, (hn) = self.gru(x, (h0.detach()))\n",
    "        out = self.fc(out[:, -1, :]) \n",
    "        return out"
   ]
  },
  {
   "cell_type": "code",
   "execution_count": 446,
   "metadata": {},
   "outputs": [],
   "source": [
    "original_model = LSTM(input_dim=input_dim, hidden_dim=hidden_dim, output_dim=output_dim, num_layers=num_layers)\n",
    "original_optimiser = torch.optim.Adam(original_model.parameters(), lr=0.01)\n",
    "\n",
    "if not train_or_load_original:\n",
    "    # load original model\n",
    "    loaded_state = torch.load(model_dir + \"/original3.pt\", map_location=device)\n",
    "    original_model.load_state_dict(loaded_state['model'])\n",
    "    original_optimiser.load_state_dict(loaded_state['opt'])"
   ]
  },
  {
   "cell_type": "code",
   "execution_count": 447,
   "metadata": {},
   "outputs": [],
   "source": [
    "def train_model(model, optimiser, data_key, num_epochs=100):\n",
    "    # print(y_scaler.inverse_transform(y_trains_lstm[data_key][-1].detach().numpy().reshape(-1, 1)))\n",
    "    hist = np.zeros(num_epochs)\n",
    "    start_time = time.time()\n",
    "    lstm = []\n",
    "\n",
    "    for t in range(num_epochs):\n",
    "        y_train_pred = model(x_trains[data_key])\n",
    "\n",
    "        loss = criterion(y_train_pred, y_trains_lstm[data_key])\n",
    "        print(\"Epoch \", t, \"MSE: \", loss.item())\n",
    "        hist[t] = loss.item()\n",
    "\n",
    "        optimiser.zero_grad()\n",
    "        loss.backward()\n",
    "        optimiser.step()\n",
    "        \n",
    "    training_time = time.time()-start_time\n",
    "    print(\"Training time: {}\".format(training_time))\n",
    "    return y_train_pred, hist"
   ]
  },
  {
   "cell_type": "code",
   "execution_count": 448,
   "metadata": {},
   "outputs": [
    {
     "name": "stdout",
     "output_type": "stream",
     "text": [
      "Epoch  0 MSE:  1.0119348764419556\n",
      "Epoch  1 MSE:  0.9168542623519897\n",
      "Epoch  2 MSE:  0.7828004956245422\n",
      "Epoch  3 MSE:  0.535524308681488\n",
      "Epoch  4 MSE:  0.20569917559623718\n",
      "Epoch  5 MSE:  0.1024787575006485\n",
      "Epoch  6 MSE:  0.12257499247789383\n",
      "Epoch  7 MSE:  0.22448758780956268\n",
      "Epoch  8 MSE:  0.1487434357404709\n",
      "Epoch  9 MSE:  0.07630863785743713\n",
      "Epoch  10 MSE:  0.06624174863100052\n",
      "Epoch  11 MSE:  0.06473947316408157\n",
      "Epoch  12 MSE:  0.06761439144611359\n",
      "Epoch  13 MSE:  0.07561298459768295\n",
      "Epoch  14 MSE:  0.08117517083883286\n",
      "Epoch  15 MSE:  0.07806763052940369\n",
      "Epoch  16 MSE:  0.06705164909362793\n",
      "Epoch  17 MSE:  0.054255928844213486\n",
      "Epoch  18 MSE:  0.045589204877614975\n",
      "Epoch  19 MSE:  0.040031030774116516\n",
      "Epoch  20 MSE:  0.032047439366579056\n",
      "Epoch  21 MSE:  0.024277828633785248\n",
      "Epoch  22 MSE:  0.02359885349869728\n",
      "Epoch  23 MSE:  0.02648254856467247\n",
      "Epoch  24 MSE:  0.02552909217774868\n",
      "Epoch  25 MSE:  0.023385493084788322\n",
      "Epoch  26 MSE:  0.024439413100481033\n",
      "Epoch  27 MSE:  0.0216684490442276\n",
      "Epoch  28 MSE:  0.015568411909043789\n",
      "Epoch  29 MSE:  0.013213577680289745\n",
      "Epoch  30 MSE:  0.01103196106851101\n",
      "Epoch  31 MSE:  0.00783255510032177\n",
      "Epoch  32 MSE:  0.0083234291523695\n",
      "Epoch  33 MSE:  0.010178039781749249\n",
      "Epoch  34 MSE:  0.009496561251580715\n",
      "Epoch  35 MSE:  0.009501839987933636\n",
      "Epoch  36 MSE:  0.00903729721903801\n",
      "Epoch  37 MSE:  0.006212039850652218\n",
      "Epoch  38 MSE:  0.004555338062345982\n",
      "Epoch  39 MSE:  0.004684314597398043\n",
      "Epoch  40 MSE:  0.004126990679651499\n",
      "Epoch  41 MSE:  0.004853901453316212\n",
      "Epoch  42 MSE:  0.0051656379364430904\n",
      "Epoch  43 MSE:  0.0037237030919641256\n",
      "Epoch  44 MSE:  0.003408323274925351\n",
      "Epoch  45 MSE:  0.0028790468350052834\n",
      "Epoch  46 MSE:  0.003062591189518571\n",
      "Epoch  47 MSE:  0.003974874969571829\n",
      "Epoch  48 MSE:  0.0036171162500977516\n",
      "Epoch  49 MSE:  0.0034921655897051096\n",
      "Epoch  50 MSE:  0.002704126061871648\n",
      "Epoch  51 MSE:  0.0022057422902435064\n",
      "Epoch  52 MSE:  0.002598666585981846\n",
      "Epoch  53 MSE:  0.0027245511300861835\n",
      "Epoch  54 MSE:  0.0028781567234545946\n",
      "Epoch  55 MSE:  0.0026246104389429092\n",
      "Epoch  56 MSE:  0.002161652548238635\n",
      "Epoch  57 MSE:  0.002287939190864563\n",
      "Epoch  58 MSE:  0.002403668127954006\n",
      "Epoch  59 MSE:  0.0023889457806944847\n",
      "Epoch  60 MSE:  0.002316475147381425\n",
      "Epoch  61 MSE:  0.00197629164904356\n",
      "Epoch  62 MSE:  0.0018984199268743396\n",
      "Epoch  63 MSE:  0.00202669738791883\n",
      "Epoch  64 MSE:  0.0020593146327883005\n",
      "Epoch  65 MSE:  0.002094870898872614\n",
      "Epoch  66 MSE:  0.0019563038367778063\n",
      "Epoch  67 MSE:  0.0018378121312707663\n",
      "Epoch  68 MSE:  0.0018933940446004272\n",
      "Epoch  69 MSE:  0.0019019725732505322\n",
      "Epoch  70 MSE:  0.0019140106160193682\n",
      "Epoch  71 MSE:  0.001858942792750895\n",
      "Epoch  72 MSE:  0.0017548390896990895\n",
      "Epoch  73 MSE:  0.0017703351331874728\n",
      "Epoch  74 MSE:  0.00179765815846622\n",
      "Epoch  75 MSE:  0.0018125209026038647\n",
      "Epoch  76 MSE:  0.0018006006721407175\n",
      "Epoch  77 MSE:  0.0017298879101872444\n",
      "Epoch  78 MSE:  0.001717127044685185\n",
      "Epoch  79 MSE:  0.0017283421475440264\n",
      "Epoch  80 MSE:  0.0017229948425665498\n",
      "Epoch  81 MSE:  0.0017139639239758253\n",
      "Epoch  82 MSE:  0.0016693241195753217\n",
      "Epoch  83 MSE:  0.001656434964388609\n",
      "Epoch  84 MSE:  0.0016660746186971664\n",
      "Epoch  85 MSE:  0.001664144336245954\n",
      "Epoch  86 MSE:  0.0016582653624936938\n",
      "Epoch  87 MSE:  0.0016272632637992501\n",
      "Epoch  88 MSE:  0.0016155062476173043\n",
      "Epoch  89 MSE:  0.001615893910638988\n",
      "Epoch  90 MSE:  0.0016110120341181755\n",
      "Epoch  91 MSE:  0.001603938639163971\n",
      "Epoch  92 MSE:  0.0015836480306461453\n",
      "Epoch  93 MSE:  0.0015792371705174446\n",
      "Epoch  94 MSE:  0.0015787843149155378\n",
      "Epoch  95 MSE:  0.0015755122294649482\n",
      "Epoch  96 MSE:  0.001566841616295278\n",
      "Epoch  97 MSE:  0.001552287139929831\n",
      "Epoch  98 MSE:  0.0015490148216485977\n",
      "Epoch  99 MSE:  0.0015448873164132237\n",
      "Training time: 14.281597137451172\n"
     ]
    }
   ],
   "source": [
    "if need_update or train_or_load_original:\n",
    "    y_train_pred, hist = train_model(original_model, original_optimiser, 0, num_epochs=num_epochs)"
   ]
  },
  {
   "cell_type": "code",
   "execution_count": 449,
   "metadata": {},
   "outputs": [],
   "source": [
    "def graph_results(y_train_pred, hist, data_key):\n",
    "    y_scaler = scalers[data_key]['y_scaler']\n",
    "    predict = pd.DataFrame(y_scaler.inverse_transform(y_train_pred.detach().numpy())) # un-normalize data\n",
    "    original = pd.DataFrame(y_scaler.inverse_transform(y_trains_lstm[data_key].detach().numpy())) # un-normalzie data\n",
    "    \n",
    "    \n",
    "    concatenated = pd.concat([predict, original], axis=1)\n",
    "    concatenated.columns = [\"predict\", \"original\"]\n",
    "    concatenated = concatenated.sort_values(by=\"original\")\n",
    "    # print(concatenated.head())\n",
    "    predict = pd.DataFrame(concatenated['predict'].values.reshape(-1,1))\n",
    "    original = pd.DataFrame(concatenated['original'].values.reshape(-1,1))\n",
    "    \n",
    "    sns.set_style(\"darkgrid\")    \n",
    "\n",
    "    fig = plt.figure()\n",
    "    fig.subplots_adjust(hspace=0.2, wspace=0.2)\n",
    "\n",
    "    plt.subplot(1, 2, 1)\n",
    "    ax = sns.lineplot(x = original.index, y = original[0], label=\"Data\", color='royalblue')\n",
    "    ax = sns.lineplot(x = predict.index, y = predict[0], label=\"Training Prediction (LSTM)\", color='tomato')\n",
    "    ax.set_title('Stock price', size = 14, fontweight='bold')\n",
    "    ax.set_xlabel(\"Days\", size = 14)\n",
    "    ax.set_ylabel(\"Cost (USD)\", size = 14)\n",
    "    ax.set_xticklabels('', size=10)\n",
    "\n",
    "\n",
    "    plt.subplot(1, 2, 2)\n",
    "    ax = sns.lineplot(data=hist, color='royalblue')\n",
    "    ax.set_xlabel(\"Epoch\", size = 14)\n",
    "    ax.set_ylabel(\"Loss\", size = 14)\n",
    "    ax.set_title(\"Training Loss\", size = 14, fontweight='bold')\n",
    "    fig.set_figheight(6)\n",
    "    fig.set_figwidth(16)"
   ]
  },
  {
   "cell_type": "code",
   "execution_count": 450,
   "metadata": {},
   "outputs": [
    {
     "data": {
      "image/png": "[encoded data removed]",
      "text/plain": [
       "<Figure size 1600x600 with 2 Axes>"
      ]
     },
     "metadata": {},
     "output_type": "display_data"
    }
   ],
   "source": [
    "if need_update or train_or_load_original:\n",
    "    graph_results(y_train_pred, hist, 0)"
   ]
  },
  {
   "cell_type": "code",
   "execution_count": 451,
   "metadata": {},
   "outputs": [],
   "source": [
    "new_model = LSTM(input_dim=input_dim, hidden_dim=hidden_dim, output_dim=output_dim, num_layers=num_layers)\n",
    "new_optimiser = torch.optim.Adam(new_model.parameters(), lr=0.01)\n",
    "\n",
    "if not train_or_load_new:\n",
    "    # load a previous model\n",
    "    possible_models = []\n",
    "    for i in os.listdir(model_dir):\n",
    "        if 'stock-only-lstm' in i:\n",
    "            possible_models.append(i)\n",
    "            print(i)\n",
    "    \n",
    "    loaded_state = torch.load(model_dir + \"/\" + possible_models[-1], map_location=device)\n",
    "    new_model.load_state_dict(loaded_state['model'])\n",
    "    new_optimiser.load_state_dict(loaded_state['opt'])"
   ]
  },
  {
   "cell_type": "code",
   "execution_count": 452,
   "metadata": {},
   "outputs": [
    {
     "name": "stdout",
     "output_type": "stream",
     "text": [
      "Epoch  0 MSE:  1.0303287506103516\n",
      "Epoch  1 MSE:  0.9301226735115051\n",
      "Epoch  2 MSE:  0.8184124827384949\n",
      "Epoch  3 MSE:  0.6190813779830933\n",
      "Epoch  4 MSE:  0.2911785840988159\n",
      "Epoch  5 MSE:  0.06374488770961761\n",
      "Epoch  6 MSE:  0.23522239923477173\n",
      "Epoch  7 MSE:  0.2408890277147293\n"
     ]
    },
    {
     "name": "stdout",
     "output_type": "stream",
     "text": [
      "Epoch  8 MSE:  0.13344749808311462\n",
      "Epoch  9 MSE:  0.05465618520975113\n",
      "Epoch  10 MSE:  0.06435941159725189\n",
      "Epoch  11 MSE:  0.1039171889424324\n",
      "Epoch  12 MSE:  0.11803591996431351\n",
      "Epoch  13 MSE:  0.11023255437612534\n",
      "Epoch  14 MSE:  0.09386850893497467\n",
      "Epoch  15 MSE:  0.07604485750198364\n",
      "Epoch  16 MSE:  0.06019972264766693\n",
      "Epoch  17 MSE:  0.04982833191752434\n",
      "Epoch  18 MSE:  0.046819448471069336\n",
      "Epoch  19 MSE:  0.04960748925805092\n",
      "Epoch  20 MSE:  0.05411922186613083\n",
      "Epoch  21 MSE:  0.05549236014485359\n",
      "Epoch  22 MSE:  0.050271593034267426\n",
      "Epoch  23 MSE:  0.03952835127711296\n",
      "Epoch  24 MSE:  0.028677120804786682\n",
      "Epoch  25 MSE:  0.02286108396947384\n",
      "Epoch  26 MSE:  0.023374803364276886\n",
      "Epoch  27 MSE:  0.027585679665207863\n",
      "Epoch  28 MSE:  0.03092244267463684\n",
      "Epoch  29 MSE:  0.029782066121697426\n",
      "Epoch  30 MSE:  0.023913990706205368\n",
      "Epoch  31 MSE:  0.01645859144628048\n",
      "Epoch  32 MSE:  0.011605576612055302\n",
      "Epoch  33 MSE:  0.01147274300456047\n",
      "Epoch  34 MSE:  0.01426750048995018\n",
      "Epoch  35 MSE:  0.015608390793204308\n",
      "Epoch  36 MSE:  0.012749523855745792\n",
      "Epoch  37 MSE:  0.007773276884108782\n",
      "Epoch  38 MSE:  0.005602721590548754\n",
      "Epoch  39 MSE:  0.008012384176254272\n",
      "Epoch  40 MSE:  0.010704577900469303\n",
      "Epoch  41 MSE:  0.00915263406932354\n",
      "Epoch  42 MSE:  0.0053896596655249596\n",
      "Epoch  43 MSE:  0.004384961444884539\n",
      "Epoch  44 MSE:  0.006492659915238619\n",
      "Epoch  45 MSE:  0.007615862414240837\n",
      "Epoch  46 MSE:  0.005803633481264114\n",
      "Epoch  47 MSE:  0.0037945753429085016\n",
      "Epoch  48 MSE:  0.004218229092657566\n",
      "Epoch  49 MSE:  0.0055906823836266994\n",
      "Epoch  50 MSE:  0.0051890779286623\n",
      "Epoch  51 MSE:  0.003487941110506654\n",
      "Epoch  52 MSE:  0.0029030663426965475\n",
      "Epoch  53 MSE:  0.003769786562770605\n",
      "Epoch  54 MSE:  0.00417358847334981\n",
      "Epoch  55 MSE:  0.0033192692790180445\n",
      "Epoch  56 MSE:  0.002598119666799903\n",
      "Epoch  57 MSE:  0.0029872467275708914\n",
      "Epoch  58 MSE:  0.0035234743263572454\n",
      "Epoch  59 MSE:  0.0031851008534431458\n",
      "Epoch  60 MSE:  0.0025509807746857405\n",
      "Epoch  61 MSE:  0.002577287144958973\n",
      "Epoch  62 MSE:  0.002987407147884369\n",
      "Epoch  63 MSE:  0.002934733871370554\n",
      "Epoch  64 MSE:  0.0024922778829932213\n",
      "Epoch  65 MSE:  0.0023821748327463865\n",
      "Epoch  66 MSE:  0.0026552830822765827\n",
      "Epoch  67 MSE:  0.0027004845906049013\n",
      "Epoch  68 MSE:  0.002389006782323122\n",
      "Epoch  69 MSE:  0.0022314495872706175\n",
      "Epoch  70 MSE:  0.002388580236583948\n",
      "Epoch  71 MSE:  0.0024262787774205208\n",
      "Epoch  72 MSE:  0.0022004886996001005\n",
      "Epoch  73 MSE:  0.002096703974530101\n",
      "Epoch  74 MSE:  0.0022205624263733625\n",
      "Epoch  75 MSE:  0.002225816249847412\n",
      "Epoch  76 MSE:  0.00205769925378263\n",
      "Epoch  77 MSE:  0.002022908767685294\n",
      "Epoch  78 MSE:  0.0021109876688569784\n",
      "Epoch  79 MSE:  0.0020580566488206387\n",
      "Epoch  80 MSE:  0.0019429897656664252\n",
      "Epoch  81 MSE:  0.0019704897422343493\n",
      "Epoch  82 MSE:  0.002010138938203454\n",
      "Epoch  83 MSE:  0.001930748112499714\n",
      "Epoch  84 MSE:  0.00188691436778754\n",
      "Epoch  85 MSE:  0.0019310273928567767\n",
      "Epoch  86 MSE:  0.001909160171635449\n",
      "Epoch  87 MSE:  0.0018418601248413324\n",
      "Epoch  88 MSE:  0.001850720145739615\n",
      "Epoch  89 MSE:  0.001861725584603846\n",
      "Epoch  90 MSE:  0.001809573033824563\n",
      "Epoch  91 MSE:  0.0017906413413584232\n",
      "Epoch  92 MSE:  0.0018087865319103003\n",
      "Epoch  93 MSE:  0.0017800969071686268\n",
      "Epoch  94 MSE:  0.0017495283391326666\n",
      "Epoch  95 MSE:  0.0017597173573449254\n",
      "Epoch  96 MSE:  0.0017473369371145964\n",
      "Epoch  97 MSE:  0.0017165914177894592\n",
      "Epoch  98 MSE:  0.0017175088869407773\n",
      "Epoch  99 MSE:  0.0017147071193903685\n",
      "Training time: 15.154028177261353\n"
     ]
    }
   ],
   "source": [
    "if not train_or_load_new:\n",
    "    if need_update:\n",
    "        y_pred, hist = train_model(new_model, new_optimiser, 1, num_epochs=num_tune_epochs)\n",
    "else:\n",
    "    y_pred, hist = train_model(new_model, new_optimiser, 1, num_epochs=num_epochs)"
   ]
  },
  {
   "cell_type": "code",
   "execution_count": 453,
   "metadata": {},
   "outputs": [
    {
     "data": {
      "image/png": "[encoded data removed]",
      "text/plain": [
       "<Figure size 1600x600 with 2 Axes>"
      ]
     },
     "metadata": {},
     "output_type": "display_data"
    }
   ],
   "source": [
    "if need_update or train_or_load_new:\n",
    "    graph_results(y_pred, hist, 1)"
   ]
  },
  {
   "cell_type": "code",
   "execution_count": 454,
   "metadata": {},
   "outputs": [
    {
     "name": "stdout",
     "output_type": "stream",
     "text": [
      "Epoch  0 MSE:  0.9898872375488281\n",
      "Epoch  1 MSE:  0.7980701923370361\n",
      "Epoch  2 MSE:  0.5601223707199097\n",
      "Epoch  3 MSE:  0.2520633041858673\n",
      "Epoch  4 MSE:  0.0752127394080162\n",
      "Epoch  5 MSE:  0.2085537314414978\n",
      "Epoch  6 MSE:  0.23485785722732544\n",
      "Epoch  7 MSE:  0.1661740243434906\n",
      "Epoch  8 MSE:  0.10264439135789871\n",
      "Epoch  9 MSE:  0.0779043510556221\n",
      "Epoch  10 MSE:  0.08361530303955078\n",
      "Epoch  11 MSE:  0.09876944124698639\n",
      "Epoch  12 MSE:  0.1074075996875763\n",
      "Epoch  13 MSE:  0.10352030396461487\n",
      "Epoch  14 MSE:  0.08905340731143951\n",
      "Epoch  15 MSE:  0.0702579915523529\n",
      "Epoch  16 MSE:  0.053888950496912\n",
      "Epoch  17 MSE:  0.04334138333797455\n",
      "Epoch  18 MSE:  0.03681161627173424\n",
      "Epoch  19 MSE:  0.030548397451639175\n",
      "Epoch  20 MSE:  0.024852560833096504\n",
      "Epoch  21 MSE:  0.02690955251455307\n",
      "Epoch  22 MSE:  0.028788737952709198\n",
      "Epoch  23 MSE:  0.018151406198740005\n",
      "Epoch  24 MSE:  0.013345581479370594\n",
      "Epoch  25 MSE:  0.010925483889877796\n",
      "Epoch  26 MSE:  0.00874625239521265\n",
      "Epoch  27 MSE:  0.00956734735518694\n",
      "Epoch  28 MSE:  0.013918890617787838\n",
      "Epoch  29 MSE:  0.015126237645745277\n",
      "Epoch  30 MSE:  0.01071543525904417\n",
      "Epoch  31 MSE:  0.006075825542211533\n",
      "Epoch  32 MSE:  0.0057006762363016605\n",
      "Epoch  33 MSE:  0.007573846261948347\n",
      "Epoch  34 MSE:  0.008088359609246254\n",
      "Epoch  35 MSE:  0.007386517710983753\n",
      "Epoch  36 MSE:  0.006808069534599781\n",
      "Epoch  37 MSE:  0.005923979915678501\n",
      "Epoch  38 MSE:  0.00447505246847868\n",
      "Epoch  39 MSE:  0.003935770131647587\n",
      "Epoch  40 MSE:  0.005044710356742144\n",
      "Epoch  41 MSE:  0.006085191387683153\n",
      "Epoch  42 MSE:  0.0056658596731722355\n",
      "Epoch  43 MSE:  0.004733634181320667\n",
      "Epoch  44 MSE:  0.004274142440408468\n",
      "Epoch  45 MSE:  0.003886036342009902\n",
      "Epoch  46 MSE:  0.0034961330238729715\n",
      "Epoch  47 MSE:  0.0037221102975308895\n",
      "Epoch  48 MSE:  0.0042047686874866486\n",
      "Epoch  49 MSE:  0.003968093544244766\n",
      "Epoch  50 MSE:  0.0032479080837219954\n",
      "Epoch  51 MSE:  0.0029221265576779842\n",
      "Epoch  52 MSE:  0.0029525221325457096\n",
      "Epoch  53 MSE:  0.002953522140160203\n",
      "Epoch  54 MSE:  0.0030413486529141665\n",
      "Epoch  55 MSE:  0.0031177180353552103\n",
      "Epoch  56 MSE:  0.0028038586024194956\n",
      "Epoch  57 MSE:  0.002403535880148411\n",
      "Epoch  58 MSE:  0.002417738316580653\n",
      "Epoch  59 MSE:  0.0025816597044467926\n",
      "Epoch  60 MSE:  0.0025306527968496084\n",
      "Epoch  61 MSE:  0.0024013083893805742\n",
      "Epoch  62 MSE:  0.002267083851620555\n",
      "Epoch  63 MSE:  0.002089232439175248\n",
      "Epoch  64 MSE:  0.0020613239612430334\n",
      "Epoch  65 MSE:  0.0021827854216098785\n",
      "Epoch  66 MSE:  0.002158788964152336\n",
      "Epoch  67 MSE:  0.0019986385013908148\n",
      "Epoch  68 MSE:  0.0019304528832435608\n",
      "Epoch  69 MSE:  0.001937379944138229\n",
      "Epoch  70 MSE:  0.0019359688740223646\n",
      "Epoch  71 MSE:  0.001938659232109785\n",
      "Epoch  72 MSE:  0.0018849765183404088\n",
      "Epoch  73 MSE:  0.0017819235799834132\n",
      "Epoch  74 MSE:  0.0017677043797448277\n",
      "Epoch  75 MSE:  0.0018092567333951592\n",
      "Epoch  76 MSE:  0.001776985009200871\n",
      "Epoch  77 MSE:  0.0017148294718936086\n",
      "Epoch  78 MSE:  0.0016840348253026605\n",
      "Epoch  79 MSE:  0.0016700614942237735\n",
      "Epoch  80 MSE:  0.0016777485143393278\n",
      "Epoch  81 MSE:  0.0016667593736201525\n",
      "Epoch  82 MSE:  0.001615186920389533\n",
      "Epoch  83 MSE:  0.001600162242539227\n",
      "Epoch  84 MSE:  0.0016171702882274985\n",
      "Epoch  85 MSE:  0.0016005217330530286\n",
      "Epoch  86 MSE:  0.0015722160460427403\n",
      "Epoch  87 MSE:  0.001555805210955441\n",
      "Epoch  88 MSE:  0.001549390610307455\n",
      "Epoch  89 MSE:  0.0015514494152739644\n",
      "Epoch  90 MSE:  0.0015328816371038556\n",
      "Epoch  91 MSE:  0.0015108161605894566\n",
      "Epoch  92 MSE:  0.0015141149051487446\n",
      "Epoch  93 MSE:  0.001510528614744544\n",
      "Epoch  94 MSE:  0.001494560856372118\n",
      "Epoch  95 MSE:  0.0014836594928056002\n",
      "Epoch  96 MSE:  0.0014774248702451587\n",
      "Epoch  97 MSE:  0.0014762955252081156\n",
      "Epoch  98 MSE:  0.0014661939349025488\n",
      "Epoch  99 MSE:  0.0014532019849866629\n",
      "Training time: 13.856313705444336\n"
     ]
    }
   ],
   "source": [
    "# Train a model using all traits - not just stock price\n",
    "# 5 important traits - open, high, low, close, volume\n",
    "# data key is 2\n",
    "expanded_model = LSTM(input_dim=5, hidden_dim=hidden_dim, output_dim=output_dim, num_layers=num_layers)\n",
    "expanded_optimiser = torch.optim.Adam(expanded_model.parameters(), lr=0.01)\n",
    "\n",
    "if not train_or_load:\n",
    "    # load a previous model\n",
    "    possible_models = []\n",
    "    for i in os.listdir(model_dir):\n",
    "        if 'expanded-lstm' in i:\n",
    "            possible_models.append(i)\n",
    "            print(i)\n",
    "    \n",
    "    loaded_state = torch.load(model_dir + \"/\" + possible_models[-1], map_location=device)\n",
    "    expanded_model.load_state_dict(loaded_state['model'])\n",
    "    expanded_optimiser.load_state_dict(loaded_state['opt'])\n",
    "\n",
    "if not train_or_load:\n",
    "    if need_update: \n",
    "        y_pred, hist = train_model(expanded_model, expanded_optimiser, 2, num_epochs=num_tune_epochs)\n",
    "else:\n",
    "    y_pred, hist = train_model(expanded_model, expanded_optimiser, 2, num_epochs=num_epochs)\n",
    "    "
   ]
  },
  {
   "cell_type": "code",
   "execution_count": 455,
   "metadata": {},
   "outputs": [
    {
     "data": {
      "image/png": "[encoded data removed]",
      "text/plain": [
       "<Figure size 1600x600 with 2 Axes>"
      ]
     },
     "metadata": {},
     "output_type": "display_data"
    }
   ],
   "source": [
    "if need_update or train_or_load:\n",
    "    graph_results(y_pred, hist, 2)"
   ]
  },
  {
   "cell_type": "code",
   "execution_count": 456,
   "metadata": {},
   "outputs": [
    {
     "name": "stdout",
     "output_type": "stream",
     "text": [
      "Epoch  0 MSE:  1.0000841617584229\n",
      "Epoch  1 MSE:  0.6618706583976746\n"
     ]
    },
    {
     "name": "stdout",
     "output_type": "stream",
     "text": [
      "Epoch  2 MSE:  0.3355063796043396\n",
      "Epoch  3 MSE:  0.046688951551914215\n",
      "Epoch  4 MSE:  0.1308613121509552\n",
      "Epoch  5 MSE:  0.1864062398672104\n",
      "Epoch  6 MSE:  0.08298629522323608\n",
      "Epoch  7 MSE:  0.020145609974861145\n",
      "Epoch  8 MSE:  0.03377699851989746\n",
      "Epoch  9 MSE:  0.06922072917222977\n",
      "Epoch  10 MSE:  0.0853414312005043\n",
      "Epoch  11 MSE:  0.07425491511821747\n",
      "Epoch  12 MSE:  0.047323744744062424\n",
      "Epoch  13 MSE:  0.02146686054766178\n",
      "Epoch  14 MSE:  0.010114709846675396\n",
      "Epoch  15 MSE:  0.016811750829219818\n",
      "Epoch  16 MSE:  0.03194209188222885\n",
      "Epoch  17 MSE:  0.03950191289186478\n",
      "Epoch  18 MSE:  0.03310546278953552\n",
      "Epoch  19 MSE:  0.019562363624572754\n",
      "Epoch  20 MSE:  0.008955289609730244\n",
      "Epoch  21 MSE:  0.006375188939273357\n",
      "Epoch  22 MSE:  0.010418055579066277\n",
      "Epoch  23 MSE:  0.016223883256316185\n",
      "Epoch  24 MSE:  0.01926122047007084\n",
      "Epoch  25 MSE:  0.017623908817768097\n",
      "Epoch  26 MSE:  0.012456481344997883\n",
      "Epoch  27 MSE:  0.006891033612191677\n",
      "Epoch  28 MSE:  0.004052115138620138\n",
      "Epoch  29 MSE:  0.005034745670855045\n",
      "Epoch  30 MSE:  0.008181395940482616\n",
      "Epoch  31 MSE:  0.010485530830919743\n",
      "Epoch  32 MSE:  0.010077410377562046\n",
      "Epoch  33 MSE:  0.007481097709387541\n",
      "Epoch  34 MSE:  0.004699021577835083\n",
      "Epoch  35 MSE:  0.0034193978644907475\n",
      "Epoch  36 MSE:  0.00396481528878212\n",
      "Epoch  37 MSE:  0.005422984715551138\n",
      "Epoch  38 MSE:  0.00648031709715724\n",
      "Epoch  39 MSE:  0.006311512552201748\n",
      "Epoch  40 MSE:  0.005046345759183168\n",
      "Epoch  41 MSE:  0.003583337413147092\n",
      "Epoch  42 MSE:  0.0028764104936271906\n",
      "Epoch  43 MSE:  0.0031998364720493555\n",
      "Epoch  44 MSE:  0.003991774749010801\n",
      "Epoch  45 MSE:  0.004418645054101944\n",
      "Epoch  46 MSE:  0.004098976496607065\n",
      "Epoch  47 MSE:  0.0033115623518824577\n",
      "Epoch  48 MSE:  0.0026335709262639284\n",
      "Epoch  49 MSE:  0.002452897373586893\n",
      "Epoch  50 MSE:  0.002726375125348568\n",
      "Epoch  51 MSE:  0.003078414825722575\n",
      "Epoch  52 MSE:  0.0031289332546293736\n",
      "Epoch  53 MSE:  0.0027964129112660885\n",
      "Epoch  54 MSE:  0.002330236602574587\n",
      "Epoch  55 MSE:  0.002056482480838895\n",
      "Epoch  56 MSE:  0.002086510183289647\n",
      "Epoch  57 MSE:  0.0022608907893300056\n",
      "Epoch  58 MSE:  0.0023394955787807703\n",
      "Epoch  59 MSE:  0.0022090706042945385\n",
      "Epoch  60 MSE:  0.0019454850116744637\n",
      "Epoch  61 MSE:  0.0017319832695648074\n",
      "Epoch  62 MSE:  0.0016936471220105886\n",
      "Epoch  63 MSE:  0.0017834417521953583\n",
      "Epoch  64 MSE:  0.0018468376947566867\n",
      "Epoch  65 MSE:  0.001791800488717854\n",
      "Epoch  66 MSE:  0.001650728052482009\n",
      "Epoch  67 MSE:  0.0015192527789622545\n",
      "Epoch  68 MSE:  0.0014758919132873416\n",
      "Epoch  69 MSE:  0.0015138178132474422\n",
      "Epoch  70 MSE:  0.001544486964121461\n",
      "Epoch  71 MSE:  0.0015024790773168206\n",
      "Epoch  72 MSE:  0.001409873366355896\n",
      "Epoch  73 MSE:  0.001329777529463172\n",
      "Epoch  74 MSE:  0.0013048108667135239\n",
      "Epoch  75 MSE:  0.0013237459352239966\n",
      "Epoch  76 MSE:  0.00133223133161664\n",
      "Epoch  77 MSE:  0.0012977829901501536\n",
      "Epoch  78 MSE:  0.0012429631315171719\n",
      "Epoch  79 MSE:  0.0012069062795490026\n",
      "Epoch  80 MSE:  0.001205924549140036\n",
      "Epoch  81 MSE:  0.001222352497279644\n",
      "Epoch  82 MSE:  0.0012219720520079136\n",
      "Epoch  83 MSE:  0.0011962478747591376\n",
      "Epoch  84 MSE:  0.001168473158031702\n",
      "Epoch  85 MSE:  0.001158817089162767\n",
      "Epoch  86 MSE:  0.001166132278740406\n",
      "Epoch  87 MSE:  0.0011720808688551188\n",
      "Epoch  88 MSE:  0.0011615278199315071\n",
      "Epoch  89 MSE:  0.0011418256908655167\n",
      "Epoch  90 MSE:  0.001129510230384767\n",
      "Epoch  91 MSE:  0.0011292422423139215\n",
      "Epoch  92 MSE:  0.0011326727690175176\n",
      "Epoch  93 MSE:  0.0011283362982794642\n",
      "Epoch  94 MSE:  0.001115755527280271\n",
      "Epoch  95 MSE:  0.0011053340276703238\n",
      "Epoch  96 MSE:  0.0011027035070583224\n",
      "Epoch  97 MSE:  0.001103814342059195\n",
      "Epoch  98 MSE:  0.0011014861520379782\n",
      "Epoch  99 MSE:  0.0010934387100860476\n",
      "Training time: 30.43721079826355\n"
     ]
    }
   ],
   "source": [
    "# use data key of 3\n",
    "new_gru = GRU(input_dim=input_dim, hidden_dim=hidden_dim, output_dim=output_dim, num_layers=num_layers)\n",
    "new_gru_optimiser = torch.optim.Adam(new_gru.parameters(), lr=0.01)\n",
    "\n",
    "if not train_or_load_gru:\n",
    "    # load a previous model\n",
    "    possible_models = []\n",
    "    for i in os.listdir(model_dir):\n",
    "        if 'stock-only-gru' in i:\n",
    "            possible_models.append(i)\n",
    "            print(i)\n",
    "    \n",
    "    loaded_state = torch.load(model_dir + \"/\" + possible_models[-1], map_location=device)\n",
    "    new_gru.load_state_dict(loaded_state['model'])\n",
    "    new_gru_optimiser.load_state_dict(loaded_state['opt'])    \n",
    "    if need_update:\n",
    "        y_pred, hist = train_model(new_gru, new_gru_optimiser, 3, num_epochs=num_tune_epochs)\n",
    "else:\n",
    "    y_pred, hist = train_model(new_gru, new_gru_optimiser, 3, num_epochs=num_epochs)"
   ]
  },
  {
   "cell_type": "code",
   "execution_count": 457,
   "metadata": {},
   "outputs": [
    {
     "data": {
      "image/png": "[encoded data removed]",
      "text/plain": [
       "<Figure size 1600x600 with 2 Axes>"
      ]
     },
     "metadata": {},
     "output_type": "display_data"
    }
   ],
   "source": [
    "if need_update or train_or_load_gru:\n",
    "    graph_results(y_pred, hist, 1)"
   ]
  },
  {
   "cell_type": "markdown",
   "metadata": {},
   "source": [
    "<h3>Make Predictions using Models </h3>"
   ]
  },
  {
   "cell_type": "markdown",
   "metadata": {},
   "source": [
    "Original and new LSTM model just do regression on the stock themselves \\\n",
    "Expanded model uses open, high, low, close, volume to regress stock"
   ]
  },
  {
   "cell_type": "markdown",
   "metadata": {},
   "source": [
    "<h3>TODO: try implementing a regression model and have it train, save, fine-tune, and load w/ the other models.</h3>\n",
    "Also, fix the expanded model's output predictions."
   ]
  },
  {
   "cell_type": "code",
   "execution_count": 458,
   "metadata": {},
   "outputs": [],
   "source": [
    "def buy_or_sell(is_buy, start, stop, prices, days):\n",
    "    if is_buy:\n",
    "        min_price = min(prices[start:stop])\n",
    "        # print(min_price)\n",
    "        for j in range(start, stop):\n",
    "            if prices[j] != min_price:\n",
    "                days[j] = None\n",
    "    else:    \n",
    "        max_sell = max(prices[start:stop])\n",
    "        for j in range(start, stop):\n",
    "            if prices[j] != max_sell:\n",
    "                days[j] = None\n",
    "\n",
    "def maximize_profit(prices):\n",
    "    cur_hold, cur_not_hold = -float('inf'), 0\n",
    "    days = [None] * len(prices)\n",
    "\n",
    "    for i in range(len(prices)):\n",
    "        # we don't have logic for taking back purchases\n",
    "        stock_price = prices[i]\n",
    "        prev_hold, prev_not_hold = cur_hold, cur_not_hold\n",
    "        \n",
    "        cur_hold = max(prev_hold, prev_not_hold - stock_price)\n",
    "        if prev_hold < prev_not_hold - stock_price: # if it is more worth to buy\n",
    "            days[i] = \"buy\"\n",
    "            \n",
    "        \n",
    "        cur_not_hold = max(prev_not_hold, prev_hold + stock_price)\n",
    "        if prev_not_hold < prev_hold + stock_price: # if it is more worth to sell\n",
    "            days[i] = \"sell\" \n",
    "\n",
    "    is_buy = False\n",
    "    days_to_consider = []   \n",
    "\n",
    "    for i in range(len(days)):\n",
    "        if (len(days_to_consider) > 0 and (days[i] == \"buy\") != is_buy):\n",
    "            # print(days_to_consider)\n",
    "            start, stop = days_to_consider[0], days_to_consider[-1] + 1\n",
    "            buy_or_sell(is_buy, start, stop, prices, days)\n",
    "            days_to_consider = []\n",
    "        days_to_consider.append(i) \n",
    "        is_buy = days[i] == 'buy'\n",
    "        \n",
    "    if len(days_to_consider) > 0:\n",
    "        buy_or_sell(is_buy, days_to_consider[0], days_to_consider[-1] + 1, prices, days) \n",
    "        \n",
    "    return cur_not_hold, days"
   ]
  },
  {
   "cell_type": "code",
   "execution_count": 459,
   "metadata": {},
   "outputs": [
    {
     "name": "stdout",
     "output_type": "stream",
     "text": [
      "[183, 205.50354, 210.3471]\n",
      "([183, 205.50354, 210.3471], ['buy', None, 'sell'], 27.34710693359375)\n"
     ]
    }
   ],
   "source": [
    "# predict an entire week \n",
    "# NOT compatible with the expanded LSTM - do not use!!\n",
    "def predict_entire_week(model, x_pred, key):\n",
    "    # predict an entire week's stock and return best days to buy and sell\n",
    "    # try:\n",
    "    # make predictions\n",
    "    cur_price = int(updated_data['Close'].values[-1])\n",
    "    results = [cur_price]\n",
    "    today = datetime.now()\n",
    "    days_left = max(0, 5-today.weekday()) if today.weekday() < 6 else 5\n",
    "    scaler = scalers[key]['y_scaler']\n",
    "    for i in range(days_left):\n",
    "        # pred = scaler.inverse_transform(np.array(model(x_pred).detach()))[0,0]\n",
    "        # print(pred)\n",
    "        # results.append(pred) \n",
    "        # x_pred = torch.cat((x_pred, torch.tensor([pred])), dim=0)\n",
    "        pred = model(x_pred)\n",
    "        x_pred = torch.cat((x_pred, pred.reshape(1,1,1)), dim=1)\n",
    "        results.append(scaler.inverse_transform(np.array(pred.detach()))[0,0])\n",
    "        \n",
    "    print(results)\n",
    "        \n",
    "    cur_not_hold, days = maximize_profit(results)\n",
    "           \n",
    "    return results, days, cur_not_hold\n",
    "    # except:\n",
    "    #     print(\"Remember, don't use this on the expanded LSTM! If you didn't, then a different error occured.\") \n",
    "\n",
    "test = True\n",
    "if test:\n",
    "    x_pred = []\n",
    "    x_pred.append(updated_price.values[-20:].astype(np.float32))\n",
    "    # print(x_pred)\n",
    "    x_pred = torch.tensor(x_pred) # this should be 3D (include the previous 20 days)\n",
    "    print(predict_entire_week(new_model, x_pred, 1))\n"
   ]
  },
  {
   "cell_type": "code",
   "execution_count": 460,
   "metadata": {},
   "outputs": [
    {
     "name": "stdout",
     "output_type": "stream",
     "text": [
      "Original LSTM: 194.80241\n",
      "Updated LSTM: 205.50354\n",
      "Updated GRU: 241.6005\n",
      "[[0.5182589]]\n",
      "Expanded and Updated LSTM: 82.18066\n"
     ]
    }
   ],
   "source": [
    "# print(updated_price.values[-20:].astype(np.float32))\n",
    "\n",
    "x_pred = []\n",
    "x_pred.append(updated_price.values[-20:].astype(np.float32))\n",
    "# print(x_pred)\n",
    "x_pred = torch.tensor(x_pred) # this should be 3D (include the previous 20 days)\n",
    "output_dir = \"data\"\n",
    "date = str(datetime.now()).replace(\":\", \".\")\n",
    "\n",
    "next_price_original =  scalers[0]['y_scaler'].inverse_transform(np.array(original_model(x_pred).detach()))[0,0] # we need .detach to get rid of the gradient (avoiding future gradient computation)\n",
    "print(\"Original LSTM:\", next_price_original)\n",
    "\n",
    "next_price_new = scalers[1]['y_scaler'].inverse_transform(np.array(new_model(x_pred).detach()))[0,0]\n",
    "print(\"Updated LSTM:\", next_price_new)\n",
    "\n",
    "next_price_gru = scalers[3]['y_scaler'].inverse_transform(np.array(new_gru(x_pred).detach()))[0,0]\n",
    "print(\"Updated GRU:\", next_price_gru)\n",
    "\n",
    "data = updated_data.iloc[-20:,1:6]\n",
    "n = len(data.iloc[0,:])\n",
    "for i in range(n):\n",
    "    data.iloc[:,i] = column_scaler.fit_transform(data.iloc[:,i].values.reshape(-1,1))\n",
    "x_pred = []\n",
    "x_pred.append(data.values[-20:].astype(np.float32)) # giving all values breaks it\n",
    "\n",
    "x_pred = torch.tensor(x_pred)\n",
    "\n",
    "print(np.array(expanded_model(x_pred).detach()))\n",
    "next_price_expanded = scalers[2]['y_scaler'].inverse_transform(np.array(expanded_model(x_pred).detach()))[0,0]\n",
    "print(\"Expanded and Updated LSTM:\", next_price_expanded)\n",
    "\n",
    "\n",
    "with open(\"predictions/original_predictions \" + date + \".txt\", \"w\") as file:\n",
    "    file.write(str(next_price_original)) # original is predicting stock values too low - needs a fix?\n",
    "    \n",
    "with open(\"predictions/new_predictions \" + date + \".txt\", \"w\") as file:\n",
    "    file.write(str(next_price_new))\n",
    "    \n",
    "with open(\"predictions/new_and_expanded_predictions \" + date + \".txt\", \"w\") as file:\n",
    "    file.write(str(next_price_expanded))"
   ]
  },
  {
   "cell_type": "code",
   "execution_count": 461,
   "metadata": {},
   "outputs": [],
   "source": [
    "folder_dir = \"models/\"\n",
    "files = os.listdir(folder_dir)\n",
    "while len(os.listdir(folder_dir)) > 100:\n",
    "    os.remove(folder_dir + files.pop(0))\n",
    "\n",
    "filename = str(datetime.now()).replace(\":\", \".\") + \".pt\"\n",
    "\n",
    "if train_or_load_original:\n",
    "    torch.save({\n",
    "        \"model\":original_model.state_dict(),\n",
    "        \"opt\":original_optimiser.state_dict()\n",
    "    }, folder_dir + \"/original3.pt\")\n",
    "    \n",
    "torch.save({ \n",
    "    \"model\": new_model.state_dict(),\n",
    "    \"opt\": new_optimiser.state_dict()\n",
    "}, folder_dir + \"/stock-only-lstm \" + filename)\n",
    "\n",
    "torch.save({ \n",
    "    \"model\": expanded_model.state_dict(),\n",
    "    \"opt\": expanded_optimiser.state_dict()\n",
    "}, folder_dir + \"/expanded-lstm \" + filename)\n",
    "\n",
    "torch.save({ \n",
    "    \"model\": new_gru.state_dict(),\n",
    "    \"opt\": new_gru_optimiser.state_dict()\n",
    "}, folder_dir + \"/stock-only-gru \" + filename)"
   ]
  },
  {
   "cell_type": "markdown",
   "metadata": {},
   "source": [
    "<h3> Verifying Accuracy of Models </h3>"
   ]
  },
  {
   "cell_type": "code",
   "execution_count": 462,
   "metadata": {},
   "outputs": [
    {
     "name": "stdout",
     "output_type": "stream",
     "text": [
      "MSE of Original LSTM 0.0015287051210179925\n",
      "MSE of New LSTM 0.0018229526467621326\n",
      "MSE of New GRU 0.001258575008250773\n",
      "MSE of Expanded Model 0.0015981049509719014\n"
     ]
    }
   ],
   "source": [
    "def verify(model, key):\n",
    "    # just run x_test, y_test from earlier through models\n",
    "    x = x_tests[key]\n",
    "    y = y_tests_lstm[key]\n",
    "    # print(x_pred.shape)\n",
    "    pred = model(x)\n",
    "    # print(type(y), type(pred))\n",
    "    mse = criterion(pred, y) # function only uses lists or numpy arrays\n",
    "    return mse.item()\n",
    "\n",
    "print(\"MSE of Original LSTM\", verify(original_model, 0))\n",
    "print(\"MSE of New LSTM\", verify(new_model, 1))\n",
    "print(\"MSE of New GRU\", verify(new_gru, 1))\n",
    "print(\"MSE of Expanded Model\", verify(expanded_model, 2))"
   ]
  }
 ],
 "metadata": {
  "kernelspec": {
   "display_name": "Python 3",
   "language": "python",
   "name": "python3"
  },
  "language_info": {
   "codemirror_mode": {
    "name": "ipython",
    "version": 3
   },
   "file_extension": ".py",
   "mimetype": "text/x-python",
   "name": "python",
   "nbconvert_exporter": "python",
   "pygments_lexer": "ipython3",
   "version": "3.11.9"
  }
 },
 "nbformat": 4,
 "nbformat_minor": 2
}
